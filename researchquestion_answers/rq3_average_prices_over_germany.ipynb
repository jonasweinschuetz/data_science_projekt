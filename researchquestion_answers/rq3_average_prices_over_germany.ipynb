{
 "cells": [
  {
   "cell_type": "code",
   "execution_count": 6,
   "metadata": {},
   "outputs": [
    {
     "data": {
      "application/vnd.plotly.v1+json": {
       "config": {
        "plotlyServerURL": "https://plot.ly"
       },
       "data": [
        {
         "mode": "lines+markers",
         "name": "Average Student Price",
         "type": "scatter",
         "x": [
          "2023-01-08T00:00:00",
          "2023-01-22T00:00:00",
          "2023-02-05T00:00:00",
          "2023-02-19T00:00:00",
          "2023-03-05T00:00:00",
          "2023-03-19T00:00:00",
          "2023-04-02T00:00:00",
          "2023-04-16T00:00:00",
          "2023-04-30T00:00:00",
          "2023-05-14T00:00:00",
          "2023-05-28T00:00:00",
          "2023-06-11T00:00:00",
          "2023-06-25T00:00:00",
          "2023-07-09T00:00:00",
          "2023-07-23T00:00:00",
          "2023-08-06T00:00:00",
          "2023-08-20T00:00:00",
          "2023-09-03T00:00:00",
          "2023-09-17T00:00:00",
          "2023-10-01T00:00:00",
          "2023-10-15T00:00:00",
          "2023-10-29T00:00:00",
          "2023-11-12T00:00:00",
          "2023-11-26T00:00:00",
          "2023-12-10T00:00:00",
          "2023-12-24T00:00:00",
          "2024-01-21T00:00:00",
          "2024-02-04T00:00:00",
          "2024-02-18T00:00:00",
          "2024-03-03T00:00:00"
         ],
         "y": [
          2.258235294117647,
          2.410544726301736,
          2.4152221444813713,
          2.410995147853154,
          2.417107843137255,
          2.4366402293358815,
          2.4298898095909736,
          2.4138929537937255,
          2.4475901343821698,
          2.467506179620983,
          2.496117117117117,
          2.4641331972915315,
          2.494100330671828,
          2.482355155482815,
          2.390589152659851,
          2.4125957018132977,
          2.3685633001422475,
          2.3636818134768656,
          2.4075462107208874,
          2.443023542897452,
          2.298723186052474,
          2.3245144337527757,
          2.3389934148635936,
          2.302098944018516,
          2.364960290952275,
          2.3726069659819764,
          2.3572960902035436,
          2.359207646286298,
          2.369001768204469,
          2.3846057222609907
         ]
        },
        {
         "mode": "lines+markers",
         "name": "Average Employee Price",
         "type": "scatter",
         "x": [
          "2023-01-08T00:00:00",
          "2023-01-22T00:00:00",
          "2023-02-05T00:00:00",
          "2023-02-19T00:00:00",
          "2023-03-05T00:00:00",
          "2023-03-19T00:00:00",
          "2023-04-02T00:00:00",
          "2023-04-16T00:00:00",
          "2023-04-30T00:00:00",
          "2023-05-14T00:00:00",
          "2023-05-28T00:00:00",
          "2023-06-11T00:00:00",
          "2023-06-25T00:00:00",
          "2023-07-09T00:00:00",
          "2023-07-23T00:00:00",
          "2023-08-06T00:00:00",
          "2023-08-20T00:00:00",
          "2023-09-03T00:00:00",
          "2023-09-17T00:00:00",
          "2023-10-01T00:00:00",
          "2023-10-15T00:00:00",
          "2023-10-29T00:00:00",
          "2023-11-12T00:00:00",
          "2023-11-26T00:00:00",
          "2023-12-10T00:00:00",
          "2023-12-24T00:00:00",
          "2024-01-21T00:00:00",
          "2024-02-04T00:00:00",
          "2024-02-18T00:00:00",
          "2024-03-03T00:00:00"
         ],
         "y": [
          3.0672875816993463,
          3.352471740097908,
          3.3680278117894,
          3.3434221367756107,
          3.342657843137255,
          3.371346392737697,
          3.3586318758815232,
          3.3065801343089105,
          3.405677646673222,
          3.4139320699441544,
          3.4846436436436434,
          3.425504127631945,
          3.485421404952012,
          3.459164484451718,
          3.337960492115751,
          3.2562681889411236,
          3.139855381697487,
          3.1518083014180727,
          3.231444547134936,
          3.274448461334979,
          3.097292539099222,
          3.1769696521095487,
          3.171521636876764,
          3.150488210617677,
          3.231305574111185,
          3.214272144190956,
          3.249259774491141,
          3.2448949365241497,
          3.245025719337727,
          3.2603916608513606
         ]
        },
        {
         "mode": "lines+markers",
         "name": "Average Guest Price",
         "type": "scatter",
         "x": [
          "2023-01-08T00:00:00",
          "2023-01-22T00:00:00",
          "2023-02-05T00:00:00",
          "2023-02-19T00:00:00",
          "2023-03-05T00:00:00",
          "2023-03-19T00:00:00",
          "2023-04-02T00:00:00",
          "2023-04-16T00:00:00",
          "2023-04-30T00:00:00",
          "2023-05-14T00:00:00",
          "2023-05-28T00:00:00",
          "2023-06-11T00:00:00",
          "2023-06-25T00:00:00",
          "2023-07-09T00:00:00",
          "2023-07-23T00:00:00",
          "2023-08-06T00:00:00",
          "2023-08-20T00:00:00",
          "2023-09-03T00:00:00",
          "2023-09-17T00:00:00",
          "2023-10-01T00:00:00",
          "2023-10-15T00:00:00",
          "2023-10-29T00:00:00",
          "2023-11-12T00:00:00",
          "2023-11-26T00:00:00",
          "2023-12-10T00:00:00",
          "2023-12-24T00:00:00",
          "2024-01-21T00:00:00",
          "2024-02-04T00:00:00",
          "2024-02-18T00:00:00",
          "2024-03-03T00:00:00"
         ],
         "y": [
          3.5556405228758172,
          4.080815309301291,
          4.097423473849921,
          4.03337727730477,
          4.014783333333334,
          4.041136168179646,
          4.0389236600846266,
          3.9553563195349306,
          4.113407079646017,
          4.105095669687815,
          4.2096726726726725,
          4.116469715239774,
          4.2200645213323655,
          4.184713584288052,
          4.03281666955467,
          3.9167103201253637,
          3.6750118539592225,
          3.6847810785632955,
          3.8009510166358598,
          3.8664782647032894,
          3.714341509272712,
          3.838953367875648,
          3.794416745061148,
          3.7814154491537684,
          3.8782995620871374,
          3.833748477713729,
          3.9275325816371356,
          3.917562381438786,
          3.8968871564057226,
          3.886475052337753
         ]
        },
        {
         "line": {
          "dash": "dot"
         },
         "mode": "lines",
         "name": "Trend - Student",
         "type": "scatter",
         "x": [
          "2023-01-08T00:00:00",
          "2024-03-03T00:00:00"
         ],
         "y": [
          2.258235294117647,
          2.3846057222609907
         ]
        },
        {
         "line": {
          "dash": "dot"
         },
         "mode": "lines",
         "name": "Trend - Employee",
         "type": "scatter",
         "x": [
          "2023-01-08T00:00:00",
          "2024-03-03T00:00:00"
         ],
         "y": [
          3.0672875816993463,
          3.2603916608513606
         ]
        },
        {
         "line": {
          "dash": "dot"
         },
         "mode": "lines",
         "name": "Trend - Guest",
         "type": "scatter",
         "x": [
          "2023-01-08T00:00:00",
          "2024-03-03T00:00:00"
         ],
         "y": [
          3.5556405228758172,
          3.886475052337753
         ]
        }
       ],
       "layout": {
        "legend": {
         "title": {
          "text": "Category"
         }
        },
        "template": {
         "data": {
          "bar": [
           {
            "error_x": {
             "color": "#2a3f5f"
            },
            "error_y": {
             "color": "#2a3f5f"
            },
            "marker": {
             "line": {
              "color": "#E5ECF6",
              "width": 0.5
             },
             "pattern": {
              "fillmode": "overlay",
              "size": 10,
              "solidity": 0.2
             }
            },
            "type": "bar"
           }
          ],
          "barpolar": [
           {
            "marker": {
             "line": {
              "color": "#E5ECF6",
              "width": 0.5
             },
             "pattern": {
              "fillmode": "overlay",
              "size": 10,
              "solidity": 0.2
             }
            },
            "type": "barpolar"
           }
          ],
          "carpet": [
           {
            "aaxis": {
             "endlinecolor": "#2a3f5f",
             "gridcolor": "white",
             "linecolor": "white",
             "minorgridcolor": "white",
             "startlinecolor": "#2a3f5f"
            },
            "baxis": {
             "endlinecolor": "#2a3f5f",
             "gridcolor": "white",
             "linecolor": "white",
             "minorgridcolor": "white",
             "startlinecolor": "#2a3f5f"
            },
            "type": "carpet"
           }
          ],
          "choropleth": [
           {
            "colorbar": {
             "outlinewidth": 0,
             "ticks": ""
            },
            "type": "choropleth"
           }
          ],
          "contour": [
           {
            "colorbar": {
             "outlinewidth": 0,
             "ticks": ""
            },
            "colorscale": [
             [
              0,
              "#0d0887"
             ],
             [
              0.1111111111111111,
              "#46039f"
             ],
             [
              0.2222222222222222,
              "#7201a8"
             ],
             [
              0.3333333333333333,
              "#9c179e"
             ],
             [
              0.4444444444444444,
              "#bd3786"
             ],
             [
              0.5555555555555556,
              "#d8576b"
             ],
             [
              0.6666666666666666,
              "#ed7953"
             ],
             [
              0.7777777777777778,
              "#fb9f3a"
             ],
             [
              0.8888888888888888,
              "#fdca26"
             ],
             [
              1,
              "#f0f921"
             ]
            ],
            "type": "contour"
           }
          ],
          "contourcarpet": [
           {
            "colorbar": {
             "outlinewidth": 0,
             "ticks": ""
            },
            "type": "contourcarpet"
           }
          ],
          "heatmap": [
           {
            "colorbar": {
             "outlinewidth": 0,
             "ticks": ""
            },
            "colorscale": [
             [
              0,
              "#0d0887"
             ],
             [
              0.1111111111111111,
              "#46039f"
             ],
             [
              0.2222222222222222,
              "#7201a8"
             ],
             [
              0.3333333333333333,
              "#9c179e"
             ],
             [
              0.4444444444444444,
              "#bd3786"
             ],
             [
              0.5555555555555556,
              "#d8576b"
             ],
             [
              0.6666666666666666,
              "#ed7953"
             ],
             [
              0.7777777777777778,
              "#fb9f3a"
             ],
             [
              0.8888888888888888,
              "#fdca26"
             ],
             [
              1,
              "#f0f921"
             ]
            ],
            "type": "heatmap"
           }
          ],
          "heatmapgl": [
           {
            "colorbar": {
             "outlinewidth": 0,
             "ticks": ""
            },
            "colorscale": [
             [
              0,
              "#0d0887"
             ],
             [
              0.1111111111111111,
              "#46039f"
             ],
             [
              0.2222222222222222,
              "#7201a8"
             ],
             [
              0.3333333333333333,
              "#9c179e"
             ],
             [
              0.4444444444444444,
              "#bd3786"
             ],
             [
              0.5555555555555556,
              "#d8576b"
             ],
             [
              0.6666666666666666,
              "#ed7953"
             ],
             [
              0.7777777777777778,
              "#fb9f3a"
             ],
             [
              0.8888888888888888,
              "#fdca26"
             ],
             [
              1,
              "#f0f921"
             ]
            ],
            "type": "heatmapgl"
           }
          ],
          "histogram": [
           {
            "marker": {
             "pattern": {
              "fillmode": "overlay",
              "size": 10,
              "solidity": 0.2
             }
            },
            "type": "histogram"
           }
          ],
          "histogram2d": [
           {
            "colorbar": {
             "outlinewidth": 0,
             "ticks": ""
            },
            "colorscale": [
             [
              0,
              "#0d0887"
             ],
             [
              0.1111111111111111,
              "#46039f"
             ],
             [
              0.2222222222222222,
              "#7201a8"
             ],
             [
              0.3333333333333333,
              "#9c179e"
             ],
             [
              0.4444444444444444,
              "#bd3786"
             ],
             [
              0.5555555555555556,
              "#d8576b"
             ],
             [
              0.6666666666666666,
              "#ed7953"
             ],
             [
              0.7777777777777778,
              "#fb9f3a"
             ],
             [
              0.8888888888888888,
              "#fdca26"
             ],
             [
              1,
              "#f0f921"
             ]
            ],
            "type": "histogram2d"
           }
          ],
          "histogram2dcontour": [
           {
            "colorbar": {
             "outlinewidth": 0,
             "ticks": ""
            },
            "colorscale": [
             [
              0,
              "#0d0887"
             ],
             [
              0.1111111111111111,
              "#46039f"
             ],
             [
              0.2222222222222222,
              "#7201a8"
             ],
             [
              0.3333333333333333,
              "#9c179e"
             ],
             [
              0.4444444444444444,
              "#bd3786"
             ],
             [
              0.5555555555555556,
              "#d8576b"
             ],
             [
              0.6666666666666666,
              "#ed7953"
             ],
             [
              0.7777777777777778,
              "#fb9f3a"
             ],
             [
              0.8888888888888888,
              "#fdca26"
             ],
             [
              1,
              "#f0f921"
             ]
            ],
            "type": "histogram2dcontour"
           }
          ],
          "mesh3d": [
           {
            "colorbar": {
             "outlinewidth": 0,
             "ticks": ""
            },
            "type": "mesh3d"
           }
          ],
          "parcoords": [
           {
            "line": {
             "colorbar": {
              "outlinewidth": 0,
              "ticks": ""
             }
            },
            "type": "parcoords"
           }
          ],
          "pie": [
           {
            "automargin": true,
            "type": "pie"
           }
          ],
          "scatter": [
           {
            "fillpattern": {
             "fillmode": "overlay",
             "size": 10,
             "solidity": 0.2
            },
            "type": "scatter"
           }
          ],
          "scatter3d": [
           {
            "line": {
             "colorbar": {
              "outlinewidth": 0,
              "ticks": ""
             }
            },
            "marker": {
             "colorbar": {
              "outlinewidth": 0,
              "ticks": ""
             }
            },
            "type": "scatter3d"
           }
          ],
          "scattercarpet": [
           {
            "marker": {
             "colorbar": {
              "outlinewidth": 0,
              "ticks": ""
             }
            },
            "type": "scattercarpet"
           }
          ],
          "scattergeo": [
           {
            "marker": {
             "colorbar": {
              "outlinewidth": 0,
              "ticks": ""
             }
            },
            "type": "scattergeo"
           }
          ],
          "scattergl": [
           {
            "marker": {
             "colorbar": {
              "outlinewidth": 0,
              "ticks": ""
             }
            },
            "type": "scattergl"
           }
          ],
          "scattermapbox": [
           {
            "marker": {
             "colorbar": {
              "outlinewidth": 0,
              "ticks": ""
             }
            },
            "type": "scattermapbox"
           }
          ],
          "scatterpolar": [
           {
            "marker": {
             "colorbar": {
              "outlinewidth": 0,
              "ticks": ""
             }
            },
            "type": "scatterpolar"
           }
          ],
          "scatterpolargl": [
           {
            "marker": {
             "colorbar": {
              "outlinewidth": 0,
              "ticks": ""
             }
            },
            "type": "scatterpolargl"
           }
          ],
          "scatterternary": [
           {
            "marker": {
             "colorbar": {
              "outlinewidth": 0,
              "ticks": ""
             }
            },
            "type": "scatterternary"
           }
          ],
          "surface": [
           {
            "colorbar": {
             "outlinewidth": 0,
             "ticks": ""
            },
            "colorscale": [
             [
              0,
              "#0d0887"
             ],
             [
              0.1111111111111111,
              "#46039f"
             ],
             [
              0.2222222222222222,
              "#7201a8"
             ],
             [
              0.3333333333333333,
              "#9c179e"
             ],
             [
              0.4444444444444444,
              "#bd3786"
             ],
             [
              0.5555555555555556,
              "#d8576b"
             ],
             [
              0.6666666666666666,
              "#ed7953"
             ],
             [
              0.7777777777777778,
              "#fb9f3a"
             ],
             [
              0.8888888888888888,
              "#fdca26"
             ],
             [
              1,
              "#f0f921"
             ]
            ],
            "type": "surface"
           }
          ],
          "table": [
           {
            "cells": {
             "fill": {
              "color": "#EBF0F8"
             },
             "line": {
              "color": "white"
             }
            },
            "header": {
             "fill": {
              "color": "#C8D4E3"
             },
             "line": {
              "color": "white"
             }
            },
            "type": "table"
           }
          ]
         },
         "layout": {
          "annotationdefaults": {
           "arrowcolor": "#2a3f5f",
           "arrowhead": 0,
           "arrowwidth": 1
          },
          "autotypenumbers": "strict",
          "coloraxis": {
           "colorbar": {
            "outlinewidth": 0,
            "ticks": ""
           }
          },
          "colorscale": {
           "diverging": [
            [
             0,
             "#8e0152"
            ],
            [
             0.1,
             "#c51b7d"
            ],
            [
             0.2,
             "#de77ae"
            ],
            [
             0.3,
             "#f1b6da"
            ],
            [
             0.4,
             "#fde0ef"
            ],
            [
             0.5,
             "#f7f7f7"
            ],
            [
             0.6,
             "#e6f5d0"
            ],
            [
             0.7,
             "#b8e186"
            ],
            [
             0.8,
             "#7fbc41"
            ],
            [
             0.9,
             "#4d9221"
            ],
            [
             1,
             "#276419"
            ]
           ],
           "sequential": [
            [
             0,
             "#0d0887"
            ],
            [
             0.1111111111111111,
             "#46039f"
            ],
            [
             0.2222222222222222,
             "#7201a8"
            ],
            [
             0.3333333333333333,
             "#9c179e"
            ],
            [
             0.4444444444444444,
             "#bd3786"
            ],
            [
             0.5555555555555556,
             "#d8576b"
            ],
            [
             0.6666666666666666,
             "#ed7953"
            ],
            [
             0.7777777777777778,
             "#fb9f3a"
            ],
            [
             0.8888888888888888,
             "#fdca26"
            ],
            [
             1,
             "#f0f921"
            ]
           ],
           "sequentialminus": [
            [
             0,
             "#0d0887"
            ],
            [
             0.1111111111111111,
             "#46039f"
            ],
            [
             0.2222222222222222,
             "#7201a8"
            ],
            [
             0.3333333333333333,
             "#9c179e"
            ],
            [
             0.4444444444444444,
             "#bd3786"
            ],
            [
             0.5555555555555556,
             "#d8576b"
            ],
            [
             0.6666666666666666,
             "#ed7953"
            ],
            [
             0.7777777777777778,
             "#fb9f3a"
            ],
            [
             0.8888888888888888,
             "#fdca26"
            ],
            [
             1,
             "#f0f921"
            ]
           ]
          },
          "colorway": [
           "#636efa",
           "#EF553B",
           "#00cc96",
           "#ab63fa",
           "#FFA15A",
           "#19d3f3",
           "#FF6692",
           "#B6E880",
           "#FF97FF",
           "#FECB52"
          ],
          "font": {
           "color": "#2a3f5f"
          },
          "geo": {
           "bgcolor": "white",
           "lakecolor": "white",
           "landcolor": "#E5ECF6",
           "showlakes": true,
           "showland": true,
           "subunitcolor": "white"
          },
          "hoverlabel": {
           "align": "left"
          },
          "hovermode": "closest",
          "mapbox": {
           "style": "light"
          },
          "paper_bgcolor": "white",
          "plot_bgcolor": "#E5ECF6",
          "polar": {
           "angularaxis": {
            "gridcolor": "white",
            "linecolor": "white",
            "ticks": ""
           },
           "bgcolor": "#E5ECF6",
           "radialaxis": {
            "gridcolor": "white",
            "linecolor": "white",
            "ticks": ""
           }
          },
          "scene": {
           "xaxis": {
            "backgroundcolor": "#E5ECF6",
            "gridcolor": "white",
            "gridwidth": 2,
            "linecolor": "white",
            "showbackground": true,
            "ticks": "",
            "zerolinecolor": "white"
           },
           "yaxis": {
            "backgroundcolor": "#E5ECF6",
            "gridcolor": "white",
            "gridwidth": 2,
            "linecolor": "white",
            "showbackground": true,
            "ticks": "",
            "zerolinecolor": "white"
           },
           "zaxis": {
            "backgroundcolor": "#E5ECF6",
            "gridcolor": "white",
            "gridwidth": 2,
            "linecolor": "white",
            "showbackground": true,
            "ticks": "",
            "zerolinecolor": "white"
           }
          },
          "shapedefaults": {
           "line": {
            "color": "#2a3f5f"
           }
          },
          "ternary": {
           "aaxis": {
            "gridcolor": "white",
            "linecolor": "white",
            "ticks": ""
           },
           "baxis": {
            "gridcolor": "white",
            "linecolor": "white",
            "ticks": ""
           },
           "bgcolor": "#E5ECF6",
           "caxis": {
            "gridcolor": "white",
            "linecolor": "white",
            "ticks": ""
           }
          },
          "title": {
           "x": 0.05
          },
          "xaxis": {
           "automargin": true,
           "gridcolor": "white",
           "linecolor": "white",
           "ticks": "",
           "title": {
            "standoff": 15
           },
           "zerolinecolor": "white",
           "zerolinewidth": 2
          },
          "yaxis": {
           "automargin": true,
           "gridcolor": "white",
           "linecolor": "white",
           "ticks": "",
           "title": {
            "standoff": 15
           },
           "zerolinecolor": "white",
           "zerolinewidth": 2
          }
         }
        },
        "title": {
         "text": "Bi-Weekly Average Meal Prices in German Canteens Over Time (Outliers Removed)"
        },
        "xaxis": {
         "title": {
          "text": "Date"
         }
        },
        "yaxis": {
         "title": {
          "text": "Price (EUR)"
         }
        }
       }
      }
     },
     "metadata": {},
     "output_type": "display_data"
    }
   ],
   "source": [
    "import pandas as pd\n",
    "import plotly.graph_objects as go\n",
    "import plotly.express as plt\n",
    "import plotly.express as px\n",
    "import json\n",
    "\n",
    "df = pd.read_csv('german-canteens(filtered)(2).csv', sep='@', engine='python')\n",
    "df['date'] = pd.to_datetime(df['date'])\n",
    "df['student_price'] = pd.to_numeric(df['student_price'], errors='coerce')\n",
    "df['employee_price'] = pd.to_numeric(df['employee_price'], errors='coerce')\n",
    "df['guest_price'] = pd.to_numeric(df['guest_price'], errors='coerce')\n",
    "\n",
    "def remove_outliers_bi_weekly(df):\n",
    "    columns = ['student_price', 'employee_price', 'guest_price']\n",
    "    for column in columns:\n",
    "        Q1 = df[column].quantile(0.25)\n",
    "        Q3 = df[column].quantile(0.75)\n",
    "        IQR = Q3 - Q1\n",
    "        df = df[(df[column] >= (Q1 - 1.5 * IQR)) & (df[column] <= (Q3 + 1.5 * IQR))]\n",
    "    return df\n",
    "\n",
    "df_cleaned = df.dropna(subset=['student_price', 'employee_price', 'guest_price'])\n",
    "df_cleaned = df_cleaned[(df_cleaned['student_price'] > 0) &\n",
    "                        (df_cleaned['employee_price'] > 0) &\n",
    "                        (df_cleaned['guest_price'] > 0)]\n",
    "\n",
    "\n",
    "bi_weekly_averages = df_cleaned.set_index('date').resample('2W')['student_price', 'employee_price', 'guest_price'].mean().reset_index()\n",
    "bi_weekly_averages_no_outliers = remove_outliers_bi_weekly(bi_weekly_averages)\n",
    "fig = go.Figure()\n",
    "\n",
    "fig.add_trace(go.Scatter(x=bi_weekly_averages_no_outliers['date'], y=bi_weekly_averages_no_outliers['student_price'], mode='lines+markers', name='Average Student Price'))\n",
    "fig.add_trace(go.Scatter(x=bi_weekly_averages_no_outliers['date'], y=bi_weekly_averages_no_outliers['employee_price'], mode='lines+markers', name='Average Employee Price'))\n",
    "fig.add_trace(go.Scatter(x=bi_weekly_averages_no_outliers['date'], y=bi_weekly_averages_no_outliers['guest_price'], mode='lines+markers', name='Average Guest Price'))\n",
    "\n",
    "fig.add_trace(go.Scatter(x=[bi_weekly_averages_no_outliers['date'].iloc[0], bi_weekly_averages_no_outliers['date'].iloc[-1]], \n",
    "                         y=[bi_weekly_averages_no_outliers['student_price'].iloc[0], bi_weekly_averages_no_outliers['student_price'].iloc[-1]], \n",
    "                         mode='lines', line=dict(dash='dot'), name='Trend - Student'))\n",
    "\n",
    "fig.add_trace(go.Scatter(x=[bi_weekly_averages_no_outliers['date'].iloc[0], bi_weekly_averages_no_outliers['date'].iloc[-1]], \n",
    "                         y=[bi_weekly_averages_no_outliers['employee_price'].iloc[0], bi_weekly_averages_no_outliers['employee_price'].iloc[-1]], \n",
    "                         mode='lines', line=dict(dash='dot'), name='Trend - Employee'))\n",
    "\n",
    "fig.add_trace(go.Scatter(x=[bi_weekly_averages_no_outliers['date'].iloc[0], bi_weekly_averages_no_outliers['date'].iloc[-1]], \n",
    "                         y=[bi_weekly_averages_no_outliers['guest_price'].iloc[0], bi_weekly_averages_no_outliers['guest_price'].iloc[-1]], \n",
    "                         mode='lines', line=dict(dash='dot'), name='Trend - Guest'))\n",
    "\n",
    "fig.update_layout(title='Bi-Weekly Average Meal Prices in German Canteens Over Time (Outliers Removed)',\n",
    "                  xaxis_title='Date',\n",
    "                  yaxis_title='Price (EUR)',\n",
    "                  legend_title='Category')\n",
    "\n",
    "fig.show()"
   ]
  },
  {
   "cell_type": "code",
   "execution_count": 8,
   "metadata": {},
   "outputs": [
    {
     "data": {
      "application/vnd.plotly.v1+json": {
       "config": {
        "plotlyServerURL": "https://plot.ly"
       },
       "data": [
        {
         "name": "student_price",
         "type": "bar",
         "visible": true,
         "x": [
          "Baden-Württemberg",
          "Bayern",
          "Brandenburg",
          "Hamburg",
          "Mecklenburg-Vorpommern",
          "Niedersachsen",
          "Nordrhein-Westfalen",
          "Rheinland-Pfalz",
          "Saarland",
          "Sachsen",
          "Sachsen-Anhalt",
          "Schleswig-Holstein",
          "Thüringen"
         ],
         "y": [
          2.399588759136352,
          2.4083520932069513,
          2.5753239883628667,
          3.5360555872834567,
          1.3310380596445734,
          2.0173724602234917,
          1.4133745402986397,
          4.569939089931924,
          3.602366863905326,
          2.208339313479249,
          2.176776055719395,
          3.5200057908070934,
          3.3805421515753618
         ]
        },
        {
         "name": "employee_price",
         "type": "bar",
         "visible": false,
         "x": [
          "Baden-Württemberg",
          "Bayern",
          "Brandenburg",
          "Hamburg",
          "Mecklenburg-Vorpommern",
          "Niedersachsen",
          "Nordrhein-Westfalen",
          "Rheinland-Pfalz",
          "Saarland",
          "Sachsen",
          "Sachsen-Anhalt",
          "Schleswig-Holstein",
          "Thüringen"
         ],
         "y": [
          3.207171721414769,
          3.1801041666666667,
          4.282544300449616,
          4.379876578463101,
          1.9182205781404928,
          2.4662390133870313,
          2.60346049891444,
          5.213579362235758,
          5.384773175542406,
          3.3490327113981584,
          4.009969253937379,
          4.523505609844372,
          5.281825149020721
         ]
        },
        {
         "name": "guest_price",
         "type": "bar",
         "visible": false,
         "x": [
          "Baden-Württemberg",
          "Bayern",
          "Brandenburg",
          "Hamburg",
          "Mecklenburg-Vorpommern",
          "Niedersachsen",
          "Nordrhein-Westfalen",
          "Rheinland-Pfalz",
          "Saarland",
          "Sachsen",
          "Sachsen-Anhalt",
          "Schleswig-Holstein",
          "Thüringen"
         ],
         "y": [
          4.36515752331345,
          4.232378801342812,
          4.614824120603015,
          5.156323370772257,
          2.556023949355503,
          2.642486755567847,
          2.660064247419026,
          5.582425653887495,
          6.835718128025821,
          4.357931168520512,
          5.313125431386083,
          4.916596453130655,
          6.631281105118743
         ]
        }
       ],
       "layout": {
        "barmode": "group",
        "template": {
         "data": {
          "bar": [
           {
            "error_x": {
             "color": "#2a3f5f"
            },
            "error_y": {
             "color": "#2a3f5f"
            },
            "marker": {
             "line": {
              "color": "#E5ECF6",
              "width": 0.5
             },
             "pattern": {
              "fillmode": "overlay",
              "size": 10,
              "solidity": 0.2
             }
            },
            "type": "bar"
           }
          ],
          "barpolar": [
           {
            "marker": {
             "line": {
              "color": "#E5ECF6",
              "width": 0.5
             },
             "pattern": {
              "fillmode": "overlay",
              "size": 10,
              "solidity": 0.2
             }
            },
            "type": "barpolar"
           }
          ],
          "carpet": [
           {
            "aaxis": {
             "endlinecolor": "#2a3f5f",
             "gridcolor": "white",
             "linecolor": "white",
             "minorgridcolor": "white",
             "startlinecolor": "#2a3f5f"
            },
            "baxis": {
             "endlinecolor": "#2a3f5f",
             "gridcolor": "white",
             "linecolor": "white",
             "minorgridcolor": "white",
             "startlinecolor": "#2a3f5f"
            },
            "type": "carpet"
           }
          ],
          "choropleth": [
           {
            "colorbar": {
             "outlinewidth": 0,
             "ticks": ""
            },
            "type": "choropleth"
           }
          ],
          "contour": [
           {
            "colorbar": {
             "outlinewidth": 0,
             "ticks": ""
            },
            "colorscale": [
             [
              0,
              "#0d0887"
             ],
             [
              0.1111111111111111,
              "#46039f"
             ],
             [
              0.2222222222222222,
              "#7201a8"
             ],
             [
              0.3333333333333333,
              "#9c179e"
             ],
             [
              0.4444444444444444,
              "#bd3786"
             ],
             [
              0.5555555555555556,
              "#d8576b"
             ],
             [
              0.6666666666666666,
              "#ed7953"
             ],
             [
              0.7777777777777778,
              "#fb9f3a"
             ],
             [
              0.8888888888888888,
              "#fdca26"
             ],
             [
              1,
              "#f0f921"
             ]
            ],
            "type": "contour"
           }
          ],
          "contourcarpet": [
           {
            "colorbar": {
             "outlinewidth": 0,
             "ticks": ""
            },
            "type": "contourcarpet"
           }
          ],
          "heatmap": [
           {
            "colorbar": {
             "outlinewidth": 0,
             "ticks": ""
            },
            "colorscale": [
             [
              0,
              "#0d0887"
             ],
             [
              0.1111111111111111,
              "#46039f"
             ],
             [
              0.2222222222222222,
              "#7201a8"
             ],
             [
              0.3333333333333333,
              "#9c179e"
             ],
             [
              0.4444444444444444,
              "#bd3786"
             ],
             [
              0.5555555555555556,
              "#d8576b"
             ],
             [
              0.6666666666666666,
              "#ed7953"
             ],
             [
              0.7777777777777778,
              "#fb9f3a"
             ],
             [
              0.8888888888888888,
              "#fdca26"
             ],
             [
              1,
              "#f0f921"
             ]
            ],
            "type": "heatmap"
           }
          ],
          "heatmapgl": [
           {
            "colorbar": {
             "outlinewidth": 0,
             "ticks": ""
            },
            "colorscale": [
             [
              0,
              "#0d0887"
             ],
             [
              0.1111111111111111,
              "#46039f"
             ],
             [
              0.2222222222222222,
              "#7201a8"
             ],
             [
              0.3333333333333333,
              "#9c179e"
             ],
             [
              0.4444444444444444,
              "#bd3786"
             ],
             [
              0.5555555555555556,
              "#d8576b"
             ],
             [
              0.6666666666666666,
              "#ed7953"
             ],
             [
              0.7777777777777778,
              "#fb9f3a"
             ],
             [
              0.8888888888888888,
              "#fdca26"
             ],
             [
              1,
              "#f0f921"
             ]
            ],
            "type": "heatmapgl"
           }
          ],
          "histogram": [
           {
            "marker": {
             "pattern": {
              "fillmode": "overlay",
              "size": 10,
              "solidity": 0.2
             }
            },
            "type": "histogram"
           }
          ],
          "histogram2d": [
           {
            "colorbar": {
             "outlinewidth": 0,
             "ticks": ""
            },
            "colorscale": [
             [
              0,
              "#0d0887"
             ],
             [
              0.1111111111111111,
              "#46039f"
             ],
             [
              0.2222222222222222,
              "#7201a8"
             ],
             [
              0.3333333333333333,
              "#9c179e"
             ],
             [
              0.4444444444444444,
              "#bd3786"
             ],
             [
              0.5555555555555556,
              "#d8576b"
             ],
             [
              0.6666666666666666,
              "#ed7953"
             ],
             [
              0.7777777777777778,
              "#fb9f3a"
             ],
             [
              0.8888888888888888,
              "#fdca26"
             ],
             [
              1,
              "#f0f921"
             ]
            ],
            "type": "histogram2d"
           }
          ],
          "histogram2dcontour": [
           {
            "colorbar": {
             "outlinewidth": 0,
             "ticks": ""
            },
            "colorscale": [
             [
              0,
              "#0d0887"
             ],
             [
              0.1111111111111111,
              "#46039f"
             ],
             [
              0.2222222222222222,
              "#7201a8"
             ],
             [
              0.3333333333333333,
              "#9c179e"
             ],
             [
              0.4444444444444444,
              "#bd3786"
             ],
             [
              0.5555555555555556,
              "#d8576b"
             ],
             [
              0.6666666666666666,
              "#ed7953"
             ],
             [
              0.7777777777777778,
              "#fb9f3a"
             ],
             [
              0.8888888888888888,
              "#fdca26"
             ],
             [
              1,
              "#f0f921"
             ]
            ],
            "type": "histogram2dcontour"
           }
          ],
          "mesh3d": [
           {
            "colorbar": {
             "outlinewidth": 0,
             "ticks": ""
            },
            "type": "mesh3d"
           }
          ],
          "parcoords": [
           {
            "line": {
             "colorbar": {
              "outlinewidth": 0,
              "ticks": ""
             }
            },
            "type": "parcoords"
           }
          ],
          "pie": [
           {
            "automargin": true,
            "type": "pie"
           }
          ],
          "scatter": [
           {
            "fillpattern": {
             "fillmode": "overlay",
             "size": 10,
             "solidity": 0.2
            },
            "type": "scatter"
           }
          ],
          "scatter3d": [
           {
            "line": {
             "colorbar": {
              "outlinewidth": 0,
              "ticks": ""
             }
            },
            "marker": {
             "colorbar": {
              "outlinewidth": 0,
              "ticks": ""
             }
            },
            "type": "scatter3d"
           }
          ],
          "scattercarpet": [
           {
            "marker": {
             "colorbar": {
              "outlinewidth": 0,
              "ticks": ""
             }
            },
            "type": "scattercarpet"
           }
          ],
          "scattergeo": [
           {
            "marker": {
             "colorbar": {
              "outlinewidth": 0,
              "ticks": ""
             }
            },
            "type": "scattergeo"
           }
          ],
          "scattergl": [
           {
            "marker": {
             "colorbar": {
              "outlinewidth": 0,
              "ticks": ""
             }
            },
            "type": "scattergl"
           }
          ],
          "scattermapbox": [
           {
            "marker": {
             "colorbar": {
              "outlinewidth": 0,
              "ticks": ""
             }
            },
            "type": "scattermapbox"
           }
          ],
          "scatterpolar": [
           {
            "marker": {
             "colorbar": {
              "outlinewidth": 0,
              "ticks": ""
             }
            },
            "type": "scatterpolar"
           }
          ],
          "scatterpolargl": [
           {
            "marker": {
             "colorbar": {
              "outlinewidth": 0,
              "ticks": ""
             }
            },
            "type": "scatterpolargl"
           }
          ],
          "scatterternary": [
           {
            "marker": {
             "colorbar": {
              "outlinewidth": 0,
              "ticks": ""
             }
            },
            "type": "scatterternary"
           }
          ],
          "surface": [
           {
            "colorbar": {
             "outlinewidth": 0,
             "ticks": ""
            },
            "colorscale": [
             [
              0,
              "#0d0887"
             ],
             [
              0.1111111111111111,
              "#46039f"
             ],
             [
              0.2222222222222222,
              "#7201a8"
             ],
             [
              0.3333333333333333,
              "#9c179e"
             ],
             [
              0.4444444444444444,
              "#bd3786"
             ],
             [
              0.5555555555555556,
              "#d8576b"
             ],
             [
              0.6666666666666666,
              "#ed7953"
             ],
             [
              0.7777777777777778,
              "#fb9f3a"
             ],
             [
              0.8888888888888888,
              "#fdca26"
             ],
             [
              1,
              "#f0f921"
             ]
            ],
            "type": "surface"
           }
          ],
          "table": [
           {
            "cells": {
             "fill": {
              "color": "#EBF0F8"
             },
             "line": {
              "color": "white"
             }
            },
            "header": {
             "fill": {
              "color": "#C8D4E3"
             },
             "line": {
              "color": "white"
             }
            },
            "type": "table"
           }
          ]
         },
         "layout": {
          "annotationdefaults": {
           "arrowcolor": "#2a3f5f",
           "arrowhead": 0,
           "arrowwidth": 1
          },
          "autotypenumbers": "strict",
          "coloraxis": {
           "colorbar": {
            "outlinewidth": 0,
            "ticks": ""
           }
          },
          "colorscale": {
           "diverging": [
            [
             0,
             "#8e0152"
            ],
            [
             0.1,
             "#c51b7d"
            ],
            [
             0.2,
             "#de77ae"
            ],
            [
             0.3,
             "#f1b6da"
            ],
            [
             0.4,
             "#fde0ef"
            ],
            [
             0.5,
             "#f7f7f7"
            ],
            [
             0.6,
             "#e6f5d0"
            ],
            [
             0.7,
             "#b8e186"
            ],
            [
             0.8,
             "#7fbc41"
            ],
            [
             0.9,
             "#4d9221"
            ],
            [
             1,
             "#276419"
            ]
           ],
           "sequential": [
            [
             0,
             "#0d0887"
            ],
            [
             0.1111111111111111,
             "#46039f"
            ],
            [
             0.2222222222222222,
             "#7201a8"
            ],
            [
             0.3333333333333333,
             "#9c179e"
            ],
            [
             0.4444444444444444,
             "#bd3786"
            ],
            [
             0.5555555555555556,
             "#d8576b"
            ],
            [
             0.6666666666666666,
             "#ed7953"
            ],
            [
             0.7777777777777778,
             "#fb9f3a"
            ],
            [
             0.8888888888888888,
             "#fdca26"
            ],
            [
             1,
             "#f0f921"
            ]
           ],
           "sequentialminus": [
            [
             0,
             "#0d0887"
            ],
            [
             0.1111111111111111,
             "#46039f"
            ],
            [
             0.2222222222222222,
             "#7201a8"
            ],
            [
             0.3333333333333333,
             "#9c179e"
            ],
            [
             0.4444444444444444,
             "#bd3786"
            ],
            [
             0.5555555555555556,
             "#d8576b"
            ],
            [
             0.6666666666666666,
             "#ed7953"
            ],
            [
             0.7777777777777778,
             "#fb9f3a"
            ],
            [
             0.8888888888888888,
             "#fdca26"
            ],
            [
             1,
             "#f0f921"
            ]
           ]
          },
          "colorway": [
           "#636efa",
           "#EF553B",
           "#00cc96",
           "#ab63fa",
           "#FFA15A",
           "#19d3f3",
           "#FF6692",
           "#B6E880",
           "#FF97FF",
           "#FECB52"
          ],
          "font": {
           "color": "#2a3f5f"
          },
          "geo": {
           "bgcolor": "white",
           "lakecolor": "white",
           "landcolor": "#E5ECF6",
           "showlakes": true,
           "showland": true,
           "subunitcolor": "white"
          },
          "hoverlabel": {
           "align": "left"
          },
          "hovermode": "closest",
          "mapbox": {
           "style": "light"
          },
          "paper_bgcolor": "white",
          "plot_bgcolor": "#E5ECF6",
          "polar": {
           "angularaxis": {
            "gridcolor": "white",
            "linecolor": "white",
            "ticks": ""
           },
           "bgcolor": "#E5ECF6",
           "radialaxis": {
            "gridcolor": "white",
            "linecolor": "white",
            "ticks": ""
           }
          },
          "scene": {
           "xaxis": {
            "backgroundcolor": "#E5ECF6",
            "gridcolor": "white",
            "gridwidth": 2,
            "linecolor": "white",
            "showbackground": true,
            "ticks": "",
            "zerolinecolor": "white"
           },
           "yaxis": {
            "backgroundcolor": "#E5ECF6",
            "gridcolor": "white",
            "gridwidth": 2,
            "linecolor": "white",
            "showbackground": true,
            "ticks": "",
            "zerolinecolor": "white"
           },
           "zaxis": {
            "backgroundcolor": "#E5ECF6",
            "gridcolor": "white",
            "gridwidth": 2,
            "linecolor": "white",
            "showbackground": true,
            "ticks": "",
            "zerolinecolor": "white"
           }
          },
          "shapedefaults": {
           "line": {
            "color": "#2a3f5f"
           }
          },
          "ternary": {
           "aaxis": {
            "gridcolor": "white",
            "linecolor": "white",
            "ticks": ""
           },
           "baxis": {
            "gridcolor": "white",
            "linecolor": "white",
            "ticks": ""
           },
           "bgcolor": "#E5ECF6",
           "caxis": {
            "gridcolor": "white",
            "linecolor": "white",
            "ticks": ""
           }
          },
          "title": {
           "x": 0.05
          },
          "xaxis": {
           "automargin": true,
           "gridcolor": "white",
           "linecolor": "white",
           "ticks": "",
           "title": {
            "standoff": 15
           },
           "zerolinecolor": "white",
           "zerolinewidth": 2
          },
          "yaxis": {
           "automargin": true,
           "gridcolor": "white",
           "linecolor": "white",
           "ticks": "",
           "title": {
            "standoff": 15
           },
           "zerolinecolor": "white",
           "zerolinewidth": 2
          }
         }
        },
        "title": {
         "text": "Average Student Price in German States"
        },
        "updatemenus": [
         {
          "active": 0,
          "buttons": [
           {
            "args": [
             {
              "visible": [
               true,
               false,
               false
              ]
             },
             {
              "title": "Average Student price in German States"
             }
            ],
            "label": "student_price",
            "method": "update"
           },
           {
            "args": [
             {
              "visible": [
               false,
               true,
               false
              ]
             },
             {
              "title": "Average Employee price in German States"
             }
            ],
            "label": "employee_price",
            "method": "update"
           },
           {
            "args": [
             {
              "visible": [
               false,
               false,
               true
              ]
             },
             {
              "title": "Average Guest price in German States"
             }
            ],
            "label": "guest_price",
            "method": "update"
           }
          ],
          "direction": "down"
         }
        ],
        "xaxis": {
         "title": {
          "text": "State"
         }
        },
        "yaxis": {
         "title": {
          "text": "Average Price (EUR)"
         }
        }
       }
      }
     },
     "metadata": {},
     "output_type": "display_data"
    }
   ],
   "source": [
    "csv_path = 'german-canteens(filtered)(2).csv'\n",
    "df = pd.read_csv(csv_path, sep='@', encoding='utf8')\n",
    "json_path = 'further_updated_german_canteens.json'\n",
    "with open(json_path, 'r', encoding='utf-8') as file:\n",
    "    state_info = json.load(file)\n",
    "state_df = pd.DataFrame(state_info)\n",
    "\n",
    "merged_df = pd.merge(df, state_df[['id', 'state']], left_on='mensa_id', right_on='id')\n",
    "\n",
    "price_columns = ['student_price', 'employee_price', 'guest_price']\n",
    "for column in price_columns:\n",
    "    merged_df[column] = pd.to_numeric(merged_df[column], errors='coerce')\n",
    "\n",
    "cleaned_df = merged_df.dropna(subset=price_columns)\n",
    "grouped = cleaned_df.groupby('state')[price_columns].mean().reset_index()\n",
    "\n",
    "fig = go.Figure()\n",
    "for price_type in price_columns:\n",
    "    fig.add_trace(\n",
    "        go.Bar(\n",
    "            x=grouped['state'], \n",
    "            y=grouped[price_type],\n",
    "            name=price_type,\n",
    "            visible= (price_type == 'student_price')  \n",
    "    )\n",
    "    )\n",
    "buttons = []\n",
    "\n",
    "for price_type in price_columns:\n",
    "    buttons.append(\n",
    "        dict(\n",
    "            label=price_type,\n",
    "            method=\"update\",\n",
    "            args=[{\"visible\": [price == price_type for price in price_columns]},\n",
    "                  {\"title\": f\"Average {price_type.replace('_', ' ').capitalize()} in German States\"}]\n",
    "        )\n",
    "    )\n",
    "\n",
    "fig.update_layout(\n",
    "    updatemenus=[{\n",
    "        \"buttons\": buttons,\n",
    "        \"direction\": \"down\",\n",
    "        \"active\": 0,\n",
    "    }],\n",
    "    title=\"Average Student Price in German States\",\n",
    "    xaxis=dict(title=\"State\"),\n",
    "    yaxis=dict(title=\"Average Price (EUR)\"),\n",
    "    barmode=\"group\"\n",
    ")\n",
    "\n",
    "fig.show()"
   ]
  }
 ],
 "metadata": {
  "kernelspec": {
   "display_name": "Python 3",
   "language": "python",
   "name": "python3"
  },
  "language_info": {
   "codemirror_mode": {
    "name": "ipython",
    "version": 3
   },
   "file_extension": ".py",
   "mimetype": "text/x-python",
   "name": "python",
   "nbconvert_exporter": "python",
   "pygments_lexer": "ipython3",
   "version": "3.10.12"
  }
 },
 "nbformat": 4,
 "nbformat_minor": 2
}
