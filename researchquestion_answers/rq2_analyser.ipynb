{
 "cells": [
  {
   "cell_type": "code",
   "execution_count": 4,
   "id": "86e79fd6-e97c-4f34-982f-d27b39883153",
   "metadata": {},
   "outputs": [],
   "source": [
    "import pandas as pd\n",
    "import plotly.express as px\n",
    "import plotly.io as pio\n",
    "import json\n",
    "import requests\n",
    "data = pd.read_csv('../data/german-canteens(filtered).csv',sep='@', encoding='utf8')\n",
    "data2 = pd.read_json('../data/further_updated_german_canteens.json',encoding='utf8')\n",
    "\n",
    "file = open('../data/deutschland_updated.geo.json','r',encoding='utf8')\n",
    "german_states_geo=json.load(file)\n",
    "file.close()\n",
    "\n",
    "data3 = data.join(data2.set_index('id'),on='mensa_id')\n",
    "data3.drop(columns=data3.columns[0:2], axis=1, inplace=True)\n",
    "#data.dropna(how=\"any\", subset=['employee_price', 'student_price', \"guest_price\"], inplace=True)\n",
    "\n",
    "pio.renderers.default = 'browser'\n",
    "#pio.renderers.default = 'jupyterlab'\n"
   ]
  },
  {
   "cell_type": "code",
   "execution_count": 5,
   "id": "d7153b81-8046-4dc3-a662-b0fd689f8a9b",
   "metadata": {},
   "outputs": [],
   "source": [
    "ki_ges_t=data3.loc[data3['city'] == 'Kiel']\n",
    "ki_ges_t = ki_ges_t.drop(columns = ['date','meal_id','meal_name','tags','date','name','address','coordinates','state','state-id','city','employee_price','guest_price'])\n",
    "ki_vgn_t = ki_ges_t.loc[ki_ges_t['vvo_status'] == 'vegan'].rename(columns={\"student_price\": \"ki_vgn\"})\n",
    "ki_veg_t = ki_ges_t.loc[ki_ges_t['vvo_status'] == 'veget.'].rename(columns={\"student_price\": \"ki_veg\"})\n",
    "ki_omn_t = ki_ges_t.loc[ki_ges_t['vvo_status'] == 'meat'].rename(columns={\"student_price\": \"ki_omni\"})\n",
    "ki_ges_t = ki_ges_t.rename(columns={\"student_price\": \"ki_gesammt\"})\n",
    "\n",
    "ges_t = data.drop(columns = ['Unnamed: 0','mensa_id','date','meal_id','meal_name','tags','employee_price','guest_price'])\n",
    "\n",
    "vgn_t = ges_t.loc[ges_t['vvo_status'] == 'vegan'].rename(columns={\"student_price\": \"Gesammt_vgn\"})\n",
    "veg_t = ges_t.loc[ges_t['vvo_status'] == 'veget.'].rename(columns={\"student_price\": \"Gesammt_veg\"})\n",
    "omn_t = ges_t.loc[ges_t['vvo_status'] == 'meat'].rename(columns={\"student_price\": \"Gesammt_omni\"})\n",
    "ges_t = ges_t.rename(columns={\"student_price\": \"Gesammt\"})\n",
    "\n",
    "bund_ki_res_frame = pd.concat([ges_t,vgn_t,veg_t,omn_t,ki_ges_t,ki_vgn_t,ki_veg_t,ki_omn_t],axis=1)\n",
    "bund_ki_res_frame = bund_ki_res_frame.drop(columns = ['vvo_status'])\n",
    "\n",
    "#bund_ki_res_frame"
   ]
  },
  {
   "cell_type": "code",
   "execution_count": 12,
   "id": "4eb2c4ed-759a-4bff-994c-c7c18df995ee",
   "metadata": {},
   "outputs": [],
   "source": [
    "fig = px.box(bund_ki_res_frame,color=\"variable\", color_discrete_map={\n",
    "                \"ki_gesammt\": \"rgb(144,12,63)\",\n",
    "                \"ki_vgn\": \"rgb(144,12,63)\",\n",
    "                \"ki_veg\": \"rgb(144,12,63)\",\n",
    "                \"ki_omni\": \"rgb(144,12,63)\",\n",
    "                \"Gesammt\": \"DarkCyan\",\n",
    "                \"Gesammt_vgn\": \"DarkCyan\",\n",
    "                \"Gesammt_veg\": \"DarkCyan\",\n",
    "                \"Gesammt_omni\": \"DarkCyan\",},)\n",
    "fig.update_layout(\n",
    "    title=\"price distribution\",\n",
    "    xaxis=dict(title=\"State\"),\n",
    "    yaxis=dict(title=\"student_price (EUR)\"),\n",
    ")\n",
    "fig.show()"
   ]
  },
  {
   "cell_type": "code",
   "execution_count": 13,
   "id": "c0896051-e32c-49cb-b01e-273bacb194c6",
   "metadata": {},
   "outputs": [],
   "source": [
    "#Outlier remove\n",
    "bund_ki_res_frame.loc[bund_ki_res_frame['Gesammt_vgn'] == 99.99, 'Gesammt_vgn']= pd.NA\n",
    "bund_ki_res_frame.loc[bund_ki_res_frame['Gesammt'] == 99.99, 'Gesammt']= pd.NA\n",
    "\n",
    "fig = px.box(bund_ki_res_frame,color=\"variable\", color_discrete_map={\n",
    "                \"ki_gesammt\": \"rgb(144,12,63)\",\n",
    "                \"ki_vgn\": \"rgb(144,12,63)\",\n",
    "                \"ki_veg\": \"rgb(144,12,63)\",\n",
    "                \"ki_omni\": \"rgb(144,12,63)\",\n",
    "                \"Gesammt\": \"DarkCyan\",\n",
    "                \"Gesammt_vgn\": \"DarkCyan\",\n",
    "                \"Gesammt_veg\": \"DarkCyan\",\n",
    "                \"Gesammt_omni\": \"DarkCyan\",},)\n",
    "fig.update_layout(\n",
    "    title=\"price distribution\",\n",
    "    xaxis=dict(title=\"State\"),\n",
    "    yaxis=dict(title=\"student_price (EUR)\"),\n",
    ")\n",
    "fig.show()"
   ]
  },
  {
   "cell_type": "code",
   "execution_count": 8,
   "id": "6b216708-3ebf-4fae-b650-1b83b056a2e5",
   "metadata": {},
   "outputs": [],
   "source": [
    "#coropleth calc\n",
    "state_frame_temp = data3.drop(columns = ['meal_id','meal_name','tags','date','name','city','address','coordinates','state'])\n",
    "state_frame_temp = state_frame_temp.groupby(['vvo_status','state-id']).mean()\n",
    "state_frame_temp = state_frame_temp.drop('-1')\n",
    "state_frame_temp = state_frame_temp.round(2)\n",
    "state_frame_temp = state_frame_temp.reset_index()\n",
    "state_frame_temp = state_frame_temp.rename(columns={\"student_price\": \"average student_price\"})\n",
    "range_color = (0,state_frame_temp['average student_price'].max())\n",
    "#state_frame_temp.loc[state_frame_temp['vvo_status']== 'meat'].sort_values('guest_price')"
   ]
  },
  {
   "cell_type": "code",
   "execution_count": 9,
   "id": "78149613-ce41-408f-9afa-bcabef180a2b",
   "metadata": {
    "scrolled": true
   },
   "outputs": [],
   "source": [
    "fig2 = px.choropleth_mapbox(state_frame_temp.loc[state_frame_temp['vvo_status']== 'vegan'],\n",
    "                            locations='state-id',\n",
    "                            geojson=german_states_geo,\n",
    "                            color='average student_price',\n",
    "                            range_color=range_color,\n",
    "                            color_continuous_scale= 'mint',\n",
    "                            hover_name='average student_price',\n",
    "                            hover_data=['average student_price'],    \n",
    "                            mapbox_style='carto-positron',\n",
    "                            center={'lat':51,'lon':10},\n",
    "                            zoom=5.5,\n",
    "                            title = 'price distribution for vegan dishes',  \n",
    "                           )\n",
    "fig2.show()"
   ]
  },
  {
   "cell_type": "code",
   "execution_count": 10,
   "id": "705414dc-b81a-4019-bf6f-b74668480970",
   "metadata": {},
   "outputs": [],
   "source": [
    "fig3 = px.choropleth_mapbox(state_frame_temp.loc[state_frame_temp['vvo_status']== 'veget.'],\n",
    "                            locations='state-id',\n",
    "                            geojson=german_states_geo,\n",
    "                            color='average student_price',\n",
    "                            range_color=range_color,\n",
    "                            color_continuous_scale= 'PuBu',\n",
    "                            hover_name='average student_price',\n",
    "                            hover_data=['average student_price'],    \n",
    "                            mapbox_style='carto-positron',\n",
    "                            center={'lat':51,'lon':10},\n",
    "                            zoom=5.5,\n",
    "                            title = 'price distribution for vegetarian dishes')\n",
    "fig3.show()"
   ]
  },
  {
   "cell_type": "code",
   "execution_count": 11,
   "id": "045c3449-048e-40c4-8987-e9308e62f11a",
   "metadata": {},
   "outputs": [],
   "source": [
    "fig4 = px.choropleth_mapbox(state_frame_temp.loc[state_frame_temp['vvo_status']== 'meat'],\n",
    "                            locations='state-id',\n",
    "                            geojson=german_states_geo,\n",
    "                            color='average student_price',\n",
    "                            range_color=range_color,\n",
    "                            color_continuous_scale= 'burg',\n",
    "                            hover_name='average student_price',\n",
    "                            hover_data=['average student_price'],    \n",
    "                            mapbox_style='carto-positron',\n",
    "                            center={'lat':51,'lon':10},\n",
    "                            zoom=5.5,\n",
    "                            title = 'price distribution for dishes containing animal ingredients')\n",
    "fig4.show()"
   ]
  },
  {
   "cell_type": "code",
   "execution_count": null,
   "id": "1b904e5b-263e-451b-964e-e56bc0661926",
   "metadata": {},
   "outputs": [],
   "source": []
  },
  {
   "cell_type": "code",
   "execution_count": null,
   "id": "5ff10146-7a22-4a75-a709-3c8a6e5e1553",
   "metadata": {},
   "outputs": [],
   "source": []
  }
 ],
 "metadata": {
  "kernelspec": {
   "display_name": "Python 3 (ipykernel)",
   "language": "python",
   "name": "python3"
  },
  "language_info": {
   "codemirror_mode": {
    "name": "ipython",
    "version": 3
   },
   "file_extension": ".py",
   "mimetype": "text/x-python",
   "name": "python",
   "nbconvert_exporter": "python",
   "pygments_lexer": "ipython3",
   "version": "3.10.0"
  }
 },
 "nbformat": 4,
 "nbformat_minor": 5
}
