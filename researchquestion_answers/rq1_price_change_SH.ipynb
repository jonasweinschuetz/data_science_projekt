{
  "nbformat": 4,
  "nbformat_minor": 0,
  "metadata": {
    "colab": {
      "provenance": [],
      "collapsed_sections": [
        "wJ2czalzCuFJ",
        "7Hq_U0h30kUu",
        "nN1QYCbdlXnh",
        "ARndU60l265E",
        "-eVwKx3OCySR",
        "1jaRy_Wp7WZ-",
        "S56AIgAy7ZKn",
        "jOgTCq7b7jEn",
        "gMexdiiI8ANS",
        "Yk9BFvePC_D-",
        "v5g7lpV5-xs3",
        "J1WCpJ47-z5K",
        "YbYd7UriCz0h",
        "Ts4l21uaChI8",
        "U8UEtm2oCjaP"
      ]
    },
    "kernelspec": {
      "name": "python3",
      "display_name": "Python 3"
    },
    "language_info": {
      "name": "python"
    }
  },
  "cells": [
    {
      "cell_type": "markdown",
      "source": [
        "# Imports and Data needed (Please Run This!!)"
      ],
      "metadata": {
        "id": "wJ2czalzCuFJ"
      }
    },
    {
      "cell_type": "markdown",
      "source": [
        "**The data needed for the graphs are:**\n",
        "\n",
        "\n",
        "*   avg_city_SH_monthly.json\n",
        "*   monthly_avg.json\n",
        "*   meals_SH_canteens_merged_filtered_.csv\n",
        "\n",
        "\n"
      ],
      "metadata": {
        "id": "uiU691taDKLX"
      }
    },
    {
      "cell_type": "markdown",
      "source": [
        "**Imports:**"
      ],
      "metadata": {
        "id": "3MNi_5rHDlOL"
      }
    },
    {
      "cell_type": "code",
      "source": [
        "import json\n",
        "import pandas as pd\n",
        "import datetime\n",
        "import numpy as np\n",
        "from sklearn.linear_model import LinearRegression\n",
        "import plotly.graph_objects as go\n",
        "from plotly.subplots import make_subplots"
      ],
      "metadata": {
        "id": "fDytoi13CwtB"
      },
      "execution_count": 3,
      "outputs": []
    },
    {
      "cell_type": "markdown",
      "source": [
        "**Define here where the path to the actual Data is. It will find the data needed in that path:**"
      ],
      "metadata": {
        "id": "NWaXQKv4Gzk6"
      }
    },
    {
      "cell_type": "code",
      "source": [
        "file_path_data = \"\""
      ],
      "metadata": {
        "id": "Qr76_aboGvEF"
      },
      "execution_count": 36,
      "outputs": []
    },
    {
      "cell_type": "markdown",
      "source": [
        "# Cleaning Data Set for Visualization"
      ],
      "metadata": {
        "id": "7Hq_U0h30kUu"
      }
    },
    {
      "cell_type": "markdown",
      "source": [
        "## Dietary Options - Average Price Data (monthly_avg.json)\n"
      ],
      "metadata": {
        "id": "nN1QYCbdlXnh"
      }
    },
    {
      "cell_type": "code",
      "source": [
        "df = pd.read_csv('meals_SH_canteens_merged_filtered_.csv', sep='@')\n",
        "\n",
        "df['average_price'] = df[['student_price', 'employee_price', 'guest_price']].mean(axis=1)\n",
        "# excluding -1 in 'vvo_status' (-1 means not defined category)\n",
        "category_df = df[df['vvo_status'] != '-1'].copy()\n",
        "average_prices_category = category_df.groupby(['date', 'vvo_status'])['average_price'].mean().unstack(fill_value=0)\n",
        "average_prices_all = df.groupby('date')['average_price'].mean()\n",
        "average_prices_category['all'] = average_prices_all\n",
        "\n",
        "# Reorder\n",
        "average_prices_category.reset_index(inplace=True)\n",
        "average_prices_category = average_prices_category[['date', 'all'] + [col for col in average_prices_category.columns if col not in ('date', 'all')]]\n",
        "\n",
        "average_prices_category"
      ],
      "metadata": {
        "colab": {
          "base_uri": "https://localhost:8080/",
          "height": 0
        },
        "id": "TAyGksTxlaOf",
        "outputId": "3503e3cb-382e-432e-e02e-56e46addffa5"
      },
      "execution_count": 8,
      "outputs": [
        {
          "output_type": "execute_result",
          "data": {
            "text/plain": [
              "vvo_status        date       all      meat     vegan    veget.\n",
              "0           2021-08-27  3.805556  4.083333  0.000000  0.000000\n",
              "1           2021-08-30  3.955556  3.891667  0.000000  0.000000\n",
              "2           2021-08-31  3.472222  3.983333  0.000000  3.100000\n",
              "3           2021-09-01  4.055556  4.066667  0.000000  0.000000\n",
              "4           2021-09-02  3.838889  5.033333  0.000000  0.000000\n",
              "..                 ...       ...       ...       ...       ...\n",
              "745         2024-02-26  4.244872  4.416667  4.264583  3.756250\n",
              "746         2024-02-27  4.667014  5.160714  4.600000  3.645833\n",
              "747         2024-02-28  4.303261  4.303125  4.392029  4.011905\n",
              "748         2024-02-29  4.393262  4.493137  4.754902  3.972222\n",
              "749         2024-03-01  4.751190  5.621111  4.295238  4.238462\n",
              "\n",
              "[750 rows x 5 columns]"
            ],
            "text/html": [
              "\n",
              "  <div id=\"df-b2aad1ae-d930-445d-ab04-75c1b8441f15\" class=\"colab-df-container\">\n",
              "    <div>\n",
              "<style scoped>\n",
              "    .dataframe tbody tr th:only-of-type {\n",
              "        vertical-align: middle;\n",
              "    }\n",
              "\n",
              "    .dataframe tbody tr th {\n",
              "        vertical-align: top;\n",
              "    }\n",
              "\n",
              "    .dataframe thead th {\n",
              "        text-align: right;\n",
              "    }\n",
              "</style>\n",
              "<table border=\"1\" class=\"dataframe\">\n",
              "  <thead>\n",
              "    <tr style=\"text-align: right;\">\n",
              "      <th>vvo_status</th>\n",
              "      <th>date</th>\n",
              "      <th>all</th>\n",
              "      <th>meat</th>\n",
              "      <th>vegan</th>\n",
              "      <th>veget.</th>\n",
              "    </tr>\n",
              "  </thead>\n",
              "  <tbody>\n",
              "    <tr>\n",
              "      <th>0</th>\n",
              "      <td>2021-08-27</td>\n",
              "      <td>3.805556</td>\n",
              "      <td>4.083333</td>\n",
              "      <td>0.000000</td>\n",
              "      <td>0.000000</td>\n",
              "    </tr>\n",
              "    <tr>\n",
              "      <th>1</th>\n",
              "      <td>2021-08-30</td>\n",
              "      <td>3.955556</td>\n",
              "      <td>3.891667</td>\n",
              "      <td>0.000000</td>\n",
              "      <td>0.000000</td>\n",
              "    </tr>\n",
              "    <tr>\n",
              "      <th>2</th>\n",
              "      <td>2021-08-31</td>\n",
              "      <td>3.472222</td>\n",
              "      <td>3.983333</td>\n",
              "      <td>0.000000</td>\n",
              "      <td>3.100000</td>\n",
              "    </tr>\n",
              "    <tr>\n",
              "      <th>3</th>\n",
              "      <td>2021-09-01</td>\n",
              "      <td>4.055556</td>\n",
              "      <td>4.066667</td>\n",
              "      <td>0.000000</td>\n",
              "      <td>0.000000</td>\n",
              "    </tr>\n",
              "    <tr>\n",
              "      <th>4</th>\n",
              "      <td>2021-09-02</td>\n",
              "      <td>3.838889</td>\n",
              "      <td>5.033333</td>\n",
              "      <td>0.000000</td>\n",
              "      <td>0.000000</td>\n",
              "    </tr>\n",
              "    <tr>\n",
              "      <th>...</th>\n",
              "      <td>...</td>\n",
              "      <td>...</td>\n",
              "      <td>...</td>\n",
              "      <td>...</td>\n",
              "      <td>...</td>\n",
              "    </tr>\n",
              "    <tr>\n",
              "      <th>745</th>\n",
              "      <td>2024-02-26</td>\n",
              "      <td>4.244872</td>\n",
              "      <td>4.416667</td>\n",
              "      <td>4.264583</td>\n",
              "      <td>3.756250</td>\n",
              "    </tr>\n",
              "    <tr>\n",
              "      <th>746</th>\n",
              "      <td>2024-02-27</td>\n",
              "      <td>4.667014</td>\n",
              "      <td>5.160714</td>\n",
              "      <td>4.600000</td>\n",
              "      <td>3.645833</td>\n",
              "    </tr>\n",
              "    <tr>\n",
              "      <th>747</th>\n",
              "      <td>2024-02-28</td>\n",
              "      <td>4.303261</td>\n",
              "      <td>4.303125</td>\n",
              "      <td>4.392029</td>\n",
              "      <td>4.011905</td>\n",
              "    </tr>\n",
              "    <tr>\n",
              "      <th>748</th>\n",
              "      <td>2024-02-29</td>\n",
              "      <td>4.393262</td>\n",
              "      <td>4.493137</td>\n",
              "      <td>4.754902</td>\n",
              "      <td>3.972222</td>\n",
              "    </tr>\n",
              "    <tr>\n",
              "      <th>749</th>\n",
              "      <td>2024-03-01</td>\n",
              "      <td>4.751190</td>\n",
              "      <td>5.621111</td>\n",
              "      <td>4.295238</td>\n",
              "      <td>4.238462</td>\n",
              "    </tr>\n",
              "  </tbody>\n",
              "</table>\n",
              "<p>750 rows × 5 columns</p>\n",
              "</div>\n",
              "    <div class=\"colab-df-buttons\">\n",
              "\n",
              "  <div class=\"colab-df-container\">\n",
              "    <button class=\"colab-df-convert\" onclick=\"convertToInteractive('df-b2aad1ae-d930-445d-ab04-75c1b8441f15')\"\n",
              "            title=\"Convert this dataframe to an interactive table.\"\n",
              "            style=\"display:none;\">\n",
              "\n",
              "  <svg xmlns=\"http://www.w3.org/2000/svg\" height=\"24px\" viewBox=\"0 -960 960 960\">\n",
              "    <path d=\"M120-120v-720h720v720H120Zm60-500h600v-160H180v160Zm220 220h160v-160H400v160Zm0 220h160v-160H400v160ZM180-400h160v-160H180v160Zm440 0h160v-160H620v160ZM180-180h160v-160H180v160Zm440 0h160v-160H620v160Z\"/>\n",
              "  </svg>\n",
              "    </button>\n",
              "\n",
              "  <style>\n",
              "    .colab-df-container {\n",
              "      display:flex;\n",
              "      gap: 12px;\n",
              "    }\n",
              "\n",
              "    .colab-df-convert {\n",
              "      background-color: #E8F0FE;\n",
              "      border: none;\n",
              "      border-radius: 50%;\n",
              "      cursor: pointer;\n",
              "      display: none;\n",
              "      fill: #1967D2;\n",
              "      height: 32px;\n",
              "      padding: 0 0 0 0;\n",
              "      width: 32px;\n",
              "    }\n",
              "\n",
              "    .colab-df-convert:hover {\n",
              "      background-color: #E2EBFA;\n",
              "      box-shadow: 0px 1px 2px rgba(60, 64, 67, 0.3), 0px 1px 3px 1px rgba(60, 64, 67, 0.15);\n",
              "      fill: #174EA6;\n",
              "    }\n",
              "\n",
              "    .colab-df-buttons div {\n",
              "      margin-bottom: 4px;\n",
              "    }\n",
              "\n",
              "    [theme=dark] .colab-df-convert {\n",
              "      background-color: #3B4455;\n",
              "      fill: #D2E3FC;\n",
              "    }\n",
              "\n",
              "    [theme=dark] .colab-df-convert:hover {\n",
              "      background-color: #434B5C;\n",
              "      box-shadow: 0px 1px 3px 1px rgba(0, 0, 0, 0.15);\n",
              "      filter: drop-shadow(0px 1px 2px rgba(0, 0, 0, 0.3));\n",
              "      fill: #FFFFFF;\n",
              "    }\n",
              "  </style>\n",
              "\n",
              "    <script>\n",
              "      const buttonEl =\n",
              "        document.querySelector('#df-b2aad1ae-d930-445d-ab04-75c1b8441f15 button.colab-df-convert');\n",
              "      buttonEl.style.display =\n",
              "        google.colab.kernel.accessAllowed ? 'block' : 'none';\n",
              "\n",
              "      async function convertToInteractive(key) {\n",
              "        const element = document.querySelector('#df-b2aad1ae-d930-445d-ab04-75c1b8441f15');\n",
              "        const dataTable =\n",
              "          await google.colab.kernel.invokeFunction('convertToInteractive',\n",
              "                                                    [key], {});\n",
              "        if (!dataTable) return;\n",
              "\n",
              "        const docLinkHtml = 'Like what you see? Visit the ' +\n",
              "          '<a target=\"_blank\" href=https://colab.research.google.com/notebooks/data_table.ipynb>data table notebook</a>'\n",
              "          + ' to learn more about interactive tables.';\n",
              "        element.innerHTML = '';\n",
              "        dataTable['output_type'] = 'display_data';\n",
              "        await google.colab.output.renderOutput(dataTable, element);\n",
              "        const docLink = document.createElement('div');\n",
              "        docLink.innerHTML = docLinkHtml;\n",
              "        element.appendChild(docLink);\n",
              "      }\n",
              "    </script>\n",
              "  </div>\n",
              "\n",
              "\n",
              "<div id=\"df-6e1b516f-be6f-42e4-9c3c-f6f02947bef5\">\n",
              "  <button class=\"colab-df-quickchart\" onclick=\"quickchart('df-6e1b516f-be6f-42e4-9c3c-f6f02947bef5')\"\n",
              "            title=\"Suggest charts\"\n",
              "            style=\"display:none;\">\n",
              "\n",
              "<svg xmlns=\"http://www.w3.org/2000/svg\" height=\"24px\"viewBox=\"0 0 24 24\"\n",
              "     width=\"24px\">\n",
              "    <g>\n",
              "        <path d=\"M19 3H5c-1.1 0-2 .9-2 2v14c0 1.1.9 2 2 2h14c1.1 0 2-.9 2-2V5c0-1.1-.9-2-2-2zM9 17H7v-7h2v7zm4 0h-2V7h2v10zm4 0h-2v-4h2v4z\"/>\n",
              "    </g>\n",
              "</svg>\n",
              "  </button>\n",
              "\n",
              "<style>\n",
              "  .colab-df-quickchart {\n",
              "      --bg-color: #E8F0FE;\n",
              "      --fill-color: #1967D2;\n",
              "      --hover-bg-color: #E2EBFA;\n",
              "      --hover-fill-color: #174EA6;\n",
              "      --disabled-fill-color: #AAA;\n",
              "      --disabled-bg-color: #DDD;\n",
              "  }\n",
              "\n",
              "  [theme=dark] .colab-df-quickchart {\n",
              "      --bg-color: #3B4455;\n",
              "      --fill-color: #D2E3FC;\n",
              "      --hover-bg-color: #434B5C;\n",
              "      --hover-fill-color: #FFFFFF;\n",
              "      --disabled-bg-color: #3B4455;\n",
              "      --disabled-fill-color: #666;\n",
              "  }\n",
              "\n",
              "  .colab-df-quickchart {\n",
              "    background-color: var(--bg-color);\n",
              "    border: none;\n",
              "    border-radius: 50%;\n",
              "    cursor: pointer;\n",
              "    display: none;\n",
              "    fill: var(--fill-color);\n",
              "    height: 32px;\n",
              "    padding: 0;\n",
              "    width: 32px;\n",
              "  }\n",
              "\n",
              "  .colab-df-quickchart:hover {\n",
              "    background-color: var(--hover-bg-color);\n",
              "    box-shadow: 0 1px 2px rgba(60, 64, 67, 0.3), 0 1px 3px 1px rgba(60, 64, 67, 0.15);\n",
              "    fill: var(--button-hover-fill-color);\n",
              "  }\n",
              "\n",
              "  .colab-df-quickchart-complete:disabled,\n",
              "  .colab-df-quickchart-complete:disabled:hover {\n",
              "    background-color: var(--disabled-bg-color);\n",
              "    fill: var(--disabled-fill-color);\n",
              "    box-shadow: none;\n",
              "  }\n",
              "\n",
              "  .colab-df-spinner {\n",
              "    border: 2px solid var(--fill-color);\n",
              "    border-color: transparent;\n",
              "    border-bottom-color: var(--fill-color);\n",
              "    animation:\n",
              "      spin 1s steps(1) infinite;\n",
              "  }\n",
              "\n",
              "  @keyframes spin {\n",
              "    0% {\n",
              "      border-color: transparent;\n",
              "      border-bottom-color: var(--fill-color);\n",
              "      border-left-color: var(--fill-color);\n",
              "    }\n",
              "    20% {\n",
              "      border-color: transparent;\n",
              "      border-left-color: var(--fill-color);\n",
              "      border-top-color: var(--fill-color);\n",
              "    }\n",
              "    30% {\n",
              "      border-color: transparent;\n",
              "      border-left-color: var(--fill-color);\n",
              "      border-top-color: var(--fill-color);\n",
              "      border-right-color: var(--fill-color);\n",
              "    }\n",
              "    40% {\n",
              "      border-color: transparent;\n",
              "      border-right-color: var(--fill-color);\n",
              "      border-top-color: var(--fill-color);\n",
              "    }\n",
              "    60% {\n",
              "      border-color: transparent;\n",
              "      border-right-color: var(--fill-color);\n",
              "    }\n",
              "    80% {\n",
              "      border-color: transparent;\n",
              "      border-right-color: var(--fill-color);\n",
              "      border-bottom-color: var(--fill-color);\n",
              "    }\n",
              "    90% {\n",
              "      border-color: transparent;\n",
              "      border-bottom-color: var(--fill-color);\n",
              "    }\n",
              "  }\n",
              "</style>\n",
              "\n",
              "  <script>\n",
              "    async function quickchart(key) {\n",
              "      const quickchartButtonEl =\n",
              "        document.querySelector('#' + key + ' button');\n",
              "      quickchartButtonEl.disabled = true;  // To prevent multiple clicks.\n",
              "      quickchartButtonEl.classList.add('colab-df-spinner');\n",
              "      try {\n",
              "        const charts = await google.colab.kernel.invokeFunction(\n",
              "            'suggestCharts', [key], {});\n",
              "      } catch (error) {\n",
              "        console.error('Error during call to suggestCharts:', error);\n",
              "      }\n",
              "      quickchartButtonEl.classList.remove('colab-df-spinner');\n",
              "      quickchartButtonEl.classList.add('colab-df-quickchart-complete');\n",
              "    }\n",
              "    (() => {\n",
              "      let quickchartButtonEl =\n",
              "        document.querySelector('#df-6e1b516f-be6f-42e4-9c3c-f6f02947bef5 button');\n",
              "      quickchartButtonEl.style.display =\n",
              "        google.colab.kernel.accessAllowed ? 'block' : 'none';\n",
              "    })();\n",
              "  </script>\n",
              "</div>\n",
              "    </div>\n",
              "  </div>\n"
            ],
            "application/vnd.google.colaboratory.intrinsic+json": {
              "type": "dataframe",
              "variable_name": "average_prices_category",
              "summary": "{\n  \"name\": \"average_prices_category\",\n  \"rows\": 750,\n  \"fields\": [\n    {\n      \"column\": \"date\",\n      \"properties\": {\n        \"dtype\": \"object\",\n        \"num_unique_values\": 750,\n        \"samples\": [\n          \"2023-06-20\",\n          \"2023-01-01\",\n          \"2022-02-10\"\n        ],\n        \"semantic_type\": \"\",\n        \"description\": \"\"\n      }\n    },\n    {\n      \"column\": \"all\",\n      \"properties\": {\n        \"dtype\": \"number\",\n        \"std\": 0.9629763008207409,\n        \"min\": 0.0,\n        \"max\": 5.925000000000001,\n        \"num_unique_values\": 619,\n        \"samples\": [\n          4.177083333333333,\n          4.948863636363637,\n          3.7986666666666666\n        ],\n        \"semantic_type\": \"\",\n        \"description\": \"\"\n      }\n    },\n    {\n      \"column\": \"meat\",\n      \"properties\": {\n        \"dtype\": \"number\",\n        \"std\": 1.300668560535608,\n        \"min\": 0.0,\n        \"max\": 5.925000000000001,\n        \"num_unique_values\": 574,\n        \"samples\": [\n          3.9034722222222222,\n          4.7525641025641026,\n          4.970833333333334\n        ],\n        \"semantic_type\": \"\",\n        \"description\": \"\"\n      }\n    },\n    {\n      \"column\": \"vegan\",\n      \"properties\": {\n        \"dtype\": \"number\",\n        \"std\": 2.032823411308843,\n        \"min\": 0.0,\n        \"max\": 6.95,\n        \"num_unique_values\": 408,\n        \"samples\": [\n          4.064444444444445,\n          3.825833333333333,\n          3.9309523809523808\n        ],\n        \"semantic_type\": \"\",\n        \"description\": \"\"\n      }\n    },\n    {\n      \"column\": \"veget.\",\n      \"properties\": {\n        \"dtype\": \"number\",\n        \"std\": 1.5240827990755097,\n        \"min\": 0.0,\n        \"max\": 5.533333333333334,\n        \"num_unique_values\": 446,\n        \"samples\": [\n          3.645238095238095,\n          3.6066666666666665,\n          3.7023809523809526\n        ],\n        \"semantic_type\": \"\",\n        \"description\": \"\"\n      }\n    }\n  ]\n}"
            }
          },
          "metadata": {},
          "execution_count": 8
        }
      ]
    },
    {
      "cell_type": "code",
      "source": [
        "average_price_category_json = average_prices_category.to_json(orient='records')\n",
        "json_file_path = 'average_price_category.json'\n",
        "\n",
        "with open(json_file_path, 'w') as file:\n",
        "    file.write(average_price_category_json)\n",
        "\n",
        "json_file_path"
      ],
      "metadata": {
        "colab": {
          "base_uri": "https://localhost:8080/",
          "height": 0
        },
        "id": "ucZmVobrlpna",
        "outputId": "0357b63f-54ba-462c-d544-ba841a735449"
      },
      "execution_count": 9,
      "outputs": [
        {
          "output_type": "execute_result",
          "data": {
            "text/plain": [
              "'average_price_category.json'"
            ],
            "application/vnd.google.colaboratory.intrinsic+json": {
              "type": "string"
            }
          },
          "metadata": {},
          "execution_count": 9
        }
      ]
    },
    {
      "cell_type": "code",
      "source": [
        "df = pd.read_json('average_price_category.json')\n",
        "\n",
        "df['date'] = pd.to_datetime(df['date'])\n",
        "\n",
        "# Replace 0 with NaN to avoid mistakes\n",
        "df.replace(0, np.nan, inplace=True)\n",
        "df.set_index('date', inplace=True)\n",
        "df_monthly_avg = df.resample('M').mean()\n",
        "df_monthly_avg.reset_index(inplace=True)"
      ],
      "metadata": {
        "id": "qW5O0sMFpFkn"
      },
      "execution_count": 10,
      "outputs": []
    },
    {
      "cell_type": "code",
      "source": [
        "average_price_category_json = df_monthly_avg.to_json(orient='records')\n",
        "json_file_path = 'monthly_avg.json'\n",
        "\n",
        "with open(json_file_path, 'w') as file:\n",
        "    file.write(average_price_category_json)\n",
        "\n",
        "json_file_path"
      ],
      "metadata": {
        "colab": {
          "base_uri": "https://localhost:8080/",
          "height": 0
        },
        "id": "EZEVg1l4q6KU",
        "outputId": "7acdc74d-62e8-440a-89b3-5f6d7743af7e"
      },
      "execution_count": 11,
      "outputs": [
        {
          "output_type": "execute_result",
          "data": {
            "text/plain": [
              "'monthly_avg.json'"
            ],
            "application/vnd.google.colaboratory.intrinsic+json": {
              "type": "string"
            }
          },
          "metadata": {},
          "execution_count": 11
        }
      ]
    },
    {
      "cell_type": "markdown",
      "source": [
        "## Average Price of Cities (monthly_avg.json)"
      ],
      "metadata": {
        "id": "ARndU60l265E"
      }
    },
    {
      "cell_type": "code",
      "source": [
        "df = pd.read_csv('meals_SH_canteens_merged_filtered_.csv', sep='@')\n",
        "\n",
        "with open('german_canteens.json', 'r') as file:\n",
        "    german_canteens = json.load(file)\n",
        "\n",
        "canteens_df = pd.DataFrame(german_canteens)\n",
        "canteens_df.rename(columns={'id': 'mensa_id'}, inplace=True)\n",
        "df = pd.merge(df, canteens_df[['mensa_id', 'city']], on='mensa_id', how='left')\n",
        "df['average_price'] = df[['student_price', 'employee_price', 'guest_price']].mean(axis=1)\n",
        "avg_city_SH = df.groupby(['date', 'city'])['average_price'].mean().reset_index()"
      ],
      "metadata": {
        "id": "EXofuOlw26BH"
      },
      "execution_count": 16,
      "outputs": []
    },
    {
      "cell_type": "code",
      "source": [
        "avg_city_SH_file_path = 'avg_city_SH.json'\n",
        "avg_city_SH.to_json(avg_city_SH_file_path, orient='records')\n",
        "avg_city_SH_file_path"
      ],
      "metadata": {
        "colab": {
          "base_uri": "https://localhost:8080/",
          "height": 0
        },
        "id": "DHx_JTr26LDt",
        "outputId": "a85cba9a-dec4-47c5-e8d6-3e45aff000a9"
      },
      "execution_count": 17,
      "outputs": [
        {
          "output_type": "execute_result",
          "data": {
            "text/plain": [
              "'avg_city_SH.json'"
            ],
            "application/vnd.google.colaboratory.intrinsic+json": {
              "type": "string"
            }
          },
          "metadata": {},
          "execution_count": 17
        }
      ]
    },
    {
      "cell_type": "code",
      "source": [
        "# Convert to datetime\n",
        "df['date'] = pd.to_datetime(df['date'])\n",
        "monthly_avg_price_per_city = df.set_index('date').groupby('city').resample('M')['average_price'].mean().reset_index()"
      ],
      "metadata": {
        "id": "SjgPn1xZ68XK"
      },
      "execution_count": 18,
      "outputs": []
    },
    {
      "cell_type": "code",
      "source": [
        "monthly_avg_price_per_city_file_path = 'avg_city_SH_monthly.json'\n",
        "monthly_avg_price_per_city.to_json(monthly_avg_price_per_city_file_path, orient='records')\n",
        "\n",
        "monthly_avg_price_per_city_file_path"
      ],
      "metadata": {
        "colab": {
          "base_uri": "https://localhost:8080/",
          "height": 0
        },
        "id": "L5wtQNoS7Elt",
        "outputId": "cde8867c-b301-453c-bb8d-1c49cce719ad"
      },
      "execution_count": 19,
      "outputs": [
        {
          "output_type": "execute_result",
          "data": {
            "text/plain": [
              "'avg_city_SH_monthly.json'"
            ],
            "application/vnd.google.colaboratory.intrinsic+json": {
              "type": "string"
            }
          },
          "metadata": {},
          "execution_count": 19
        }
      ]
    },
    {
      "cell_type": "markdown",
      "source": [
        "# Visualization 1: Price Over Time by City"
      ],
      "metadata": {
        "id": "-eVwKx3OCySR"
      }
    },
    {
      "cell_type": "markdown",
      "source": [
        "## Graph"
      ],
      "metadata": {
        "id": "1jaRy_Wp7WZ-"
      }
    },
    {
      "cell_type": "code",
      "source": [
        "df_monthly = pd.read_json(f'{file_path_data}avg_city_SH_monthly.json')\n",
        "df_monthly['date'] = pd.to_datetime(df_monthly['date'], unit='ms')\n",
        "df_monthly_clean = df_monthly.dropna(subset=['average_price'])\n",
        "cities = df_monthly_clean['city'].unique()\n",
        "\n",
        "colors = ['#1f77b4', '#ff7f0e', '#2ca02c', '#d62728', '#9467bd', '#8c564b', '#e377c2', '#7f7f7f', '#bcbd22', '#17becf']\n",
        "color_idx = 0\n",
        "fig1 = go.Figure()\n",
        "city_trace_indices = {city: [] for city in cities}\n",
        "\n",
        "for city in cities:\n",
        "    city_data = df_monthly_clean[df_monthly_clean['city'] == city]\n",
        "    if city_data.empty:\n",
        "        continue\n",
        "    X = city_data['date'].map(datetime.datetime.toordinal).values.reshape(-1, 1)\n",
        "    y = city_data['average_price'].values\n",
        "\n",
        "    # Linear regression\n",
        "    reg = LinearRegression().fit(X, y)\n",
        "    y_pred = reg.predict(X)\n",
        "\n",
        "    # Plot data\n",
        "    actual_trace = go.Scatter(x=city_data['date'], y=y, mode='markers+lines', name=city, marker_color=colors[color_idx])\n",
        "    fig1.add_trace(actual_trace)\n",
        "    city_trace_indices[city].append(len(fig1.data) - 1)\n",
        "\n",
        "    # Plot trend line\n",
        "    trend_trace = go.Scatter(x=city_data['date'], y=y_pred, mode='lines', name=f\"{city} Trend\", line=dict(color=colors[color_idx], dash='dash'))\n",
        "    fig1.add_trace(trend_trace)\n",
        "    city_trace_indices[city].append(len(fig1.data) - 1)\n",
        "\n",
        "    color_idx = (color_idx + 1) % len(colors)\n",
        "\n",
        "# buttons for dropdown\n",
        "buttons = [\n",
        "    dict(label='All',\n",
        "         method='update',\n",
        "         args=[{'visible': [True] * len(fig1.data)},\n",
        "               {'title': 'Monthly Average Prices by City'}])\n",
        "]\n",
        "\n",
        "for city, indices in city_trace_indices.items():\n",
        "    visible = [False] * len(fig1.data)\n",
        "    for index in indices:\n",
        "        visible[index] = True\n",
        "    button = dict(label=city,\n",
        "                  method='update',\n",
        "                  args=[{'visible': visible},\n",
        "                        {'title': f'Monthly Average Prices - {city}'}])\n",
        "    buttons.append(button)\n",
        "\n",
        "# Add dropdown\n",
        "fig1.update_layout(\n",
        "    updatemenus=[dict(buttons=buttons,\n",
        "                      direction=\"down\",\n",
        "                      pad={\"r\": 10, \"t\": 10},\n",
        "                      showactive=True,\n",
        "                      x=0,\n",
        "                      xanchor=\"left\",\n",
        "                      y=1.15,\n",
        "                      yanchor=\"top\")],\n",
        "    title='Monthly Average Prices by City',\n",
        "    xaxis_title='Date',\n",
        "    yaxis_title='Average Price (in €)',\n",
        "    legend=dict(title=\"City\", orientation=\"v\", x=1, xanchor=\"left\", y=1, yanchor=\"auto\")\n",
        ")\n",
        "\n",
        "# fig1.show()\n"
      ],
      "metadata": {
        "colab": {
          "base_uri": "https://localhost:8080/",
          "height": 542
        },
        "id": "khvKvqJTGHLD",
        "outputId": "e49b8a1f-3679-4545-f1c9-294b0c4af2a6"
      },
      "execution_count": null,
      "outputs": [
        {
          "output_type": "display_data",
          "data": {
            "text/html": [
              "<html>\n",
              "<head><meta charset=\"utf-8\" /></head>\n",
              "<body>\n",
              "    <div>            <script src=\"https://cdnjs.cloudflare.com/ajax/libs/mathjax/2.7.5/MathJax.js?config=TeX-AMS-MML_SVG\"></script><script type=\"text/javascript\">if (window.MathJax && window.MathJax.Hub && window.MathJax.Hub.Config) {window.MathJax.Hub.Config({SVG: {font: \"STIX-Web\"}});}</script>                <script type=\"text/javascript\">window.PlotlyConfig = {MathJaxConfig: 'local'};</script>\n",
              "        <script charset=\"utf-8\" src=\"https://cdn.plot.ly/plotly-2.24.1.min.js\"></script>                <div id=\"a9a7dbb5-ef7b-4b96-868b-97e5d90d729a\" class=\"plotly-graph-div\" style=\"height:525px; width:100%;\"></div>            <script type=\"text/javascript\">                                    window.PLOTLYENV=window.PLOTLYENV || {};                                    if (document.getElementById(\"a9a7dbb5-ef7b-4b96-868b-97e5d90d729a\")) {                    Plotly.newPlot(                        \"a9a7dbb5-ef7b-4b96-868b-97e5d90d729a\",                        [{\"marker\":{\"color\":\"#1f77b4\"},\"mode\":\"markers+lines\",\"name\":\"Flensburg\",\"x\":[\"2021-10-31T00:00:00\",\"2021-11-30T00:00:00\",\"2021-12-31T00:00:00\",\"2022-01-31T00:00:00\",\"2022-02-28T00:00:00\",\"2022-03-31T00:00:00\",\"2022-04-30T00:00:00\",\"2022-05-31T00:00:00\",\"2022-06-30T00:00:00\",\"2022-07-31T00:00:00\",\"2022-08-31T00:00:00\",\"2022-09-30T00:00:00\",\"2022-10-31T00:00:00\",\"2022-11-30T00:00:00\",\"2022-12-31T00:00:00\",\"2023-01-31T00:00:00\",\"2023-02-28T00:00:00\",\"2023-03-31T00:00:00\",\"2023-04-30T00:00:00\",\"2023-05-31T00:00:00\",\"2023-06-30T00:00:00\",\"2023-07-31T00:00:00\",\"2023-08-31T00:00:00\",\"2023-09-30T00:00:00\",\"2023-10-31T00:00:00\",\"2023-11-30T00:00:00\",\"2023-12-31T00:00:00\",\"2024-01-31T00:00:00\",\"2024-02-29T00:00:00\",\"2024-03-31T00:00:00\"],\"y\":[3.8678403756,4.0923245614,4.004248366,3.81,4.0459183673,4.1412601626,4.5280092593,4.6095833333,4.6179324895,4.4944444444,4.5916666667,4.6409836066,4.4595628415,3.9387125220000003,3.873245614,4.0033923304,4.4031400966,4.1582474227,3.959826087,4.2784013605,4.2661691542,4.1468325792,4.1179563492,4.3287333333,4.2070175439,4.3612021858,4.3957207207,4.4399705015,4.6966346154,4.8791666667],\"type\":\"scatter\"},{\"line\":{\"color\":\"#1f77b4\",\"dash\":\"dash\"},\"mode\":\"lines\",\"name\":\"Flensburg Trend\",\"x\":[\"2021-10-31T00:00:00\",\"2021-11-30T00:00:00\",\"2021-12-31T00:00:00\",\"2022-01-31T00:00:00\",\"2022-02-28T00:00:00\",\"2022-03-31T00:00:00\",\"2022-04-30T00:00:00\",\"2022-05-31T00:00:00\",\"2022-06-30T00:00:00\",\"2022-07-31T00:00:00\",\"2022-08-31T00:00:00\",\"2022-09-30T00:00:00\",\"2022-10-31T00:00:00\",\"2022-11-30T00:00:00\",\"2022-12-31T00:00:00\",\"2023-01-31T00:00:00\",\"2023-02-28T00:00:00\",\"2023-03-31T00:00:00\",\"2023-04-30T00:00:00\",\"2023-05-31T00:00:00\",\"2023-06-30T00:00:00\",\"2023-07-31T00:00:00\",\"2023-08-31T00:00:00\",\"2023-09-30T00:00:00\",\"2023-10-31T00:00:00\",\"2023-11-30T00:00:00\",\"2023-12-31T00:00:00\",\"2024-01-31T00:00:00\",\"2024-02-29T00:00:00\",\"2024-03-31T00:00:00\"],\"y\":[4.114921521708311,4.126068233056799,4.137586501450244,4.149104769843632,4.159508367102262,4.17102663549565,4.182173346844138,4.193691615237583,4.204838326586071,4.216356594979516,4.227874863372904,4.2390215747213915,4.2505398431148365,4.261686554463324,4.273204822856769,4.284723091250157,4.295126688508731,4.306644956902176,4.317791668250663,4.329309936644108,4.340456647992596,4.351974916385984,4.363493184779429,4.374639896127917,4.386158164521362,4.39730487586985,4.408823144263238,4.420341412656683,4.431116566960213,4.442634835353658],\"type\":\"scatter\"},{\"marker\":{\"color\":\"#ff7f0e\"},\"mode\":\"markers+lines\",\"name\":\"Heide\",\"x\":[\"2021-09-30T00:00:00\",\"2021-10-31T00:00:00\",\"2021-11-30T00:00:00\",\"2021-12-31T00:00:00\",\"2022-01-31T00:00:00\",\"2022-02-28T00:00:00\",\"2022-03-31T00:00:00\",\"2022-04-30T00:00:00\",\"2022-05-31T00:00:00\",\"2022-06-30T00:00:00\",\"2022-07-31T00:00:00\",\"2022-09-30T00:00:00\",\"2022-10-31T00:00:00\",\"2022-11-30T00:00:00\",\"2022-12-31T00:00:00\",\"2023-01-31T00:00:00\",\"2023-02-28T00:00:00\",\"2023-03-31T00:00:00\",\"2023-04-30T00:00:00\",\"2023-05-31T00:00:00\",\"2023-06-30T00:00:00\",\"2023-07-31T00:00:00\",\"2023-09-30T00:00:00\",\"2023-10-31T00:00:00\",\"2023-11-30T00:00:00\",\"2023-12-31T00:00:00\",\"2024-01-31T00:00:00\",\"2024-02-29T00:00:00\",\"2024-03-31T00:00:00\"],\"y\":[3.9202898551,3.8002380952,4.1017412935,3.8368055556,3.8748148148,3.7166666667,3.8291666667,4.2905172414,4.4672222222,4.4950520833,4.4944444444,4.2936781609,4.3289930556,4.1122222222,4.3329059829,4.4,4.4326666667,4.5451754386,4.7595505618,4.7852430556000005,4.7653153153000005,4.7912121212,4.8309748428,4.2791666667,4.910911271,4.9362542955,4.8040277778,4.6946614583,4.77],\"type\":\"scatter\"},{\"line\":{\"color\":\"#ff7f0e\",\"dash\":\"dash\"},\"mode\":\"lines\",\"name\":\"Heide Trend\",\"x\":[\"2021-09-30T00:00:00\",\"2021-10-31T00:00:00\",\"2021-11-30T00:00:00\",\"2021-12-31T00:00:00\",\"2022-01-31T00:00:00\",\"2022-02-28T00:00:00\",\"2022-03-31T00:00:00\",\"2022-04-30T00:00:00\",\"2022-05-31T00:00:00\",\"2022-06-30T00:00:00\",\"2022-07-31T00:00:00\",\"2022-09-30T00:00:00\",\"2022-10-31T00:00:00\",\"2022-11-30T00:00:00\",\"2022-12-31T00:00:00\",\"2023-01-31T00:00:00\",\"2023-02-28T00:00:00\",\"2023-03-31T00:00:00\",\"2023-04-30T00:00:00\",\"2023-05-31T00:00:00\",\"2023-06-30T00:00:00\",\"2023-07-31T00:00:00\",\"2023-09-30T00:00:00\",\"2023-10-31T00:00:00\",\"2023-11-30T00:00:00\",\"2023-12-31T00:00:00\",\"2024-01-31T00:00:00\",\"2024-02-29T00:00:00\",\"2024-03-31T00:00:00\"],\"y\":[3.889119134404382,3.9241492122745285,3.9580492876327753,3.9930793655030357,4.028109443373182,4.059749513707629,4.094779591577776,4.1286796669361365,4.163709744806283,4.19760982016453,4.23263989803479,4.3015700512632975,4.336600129133444,4.370500204491805,4.405530282361951,4.440560360232212,4.472200430566545,4.507230508436805,4.541130583795052,4.576160661665199,4.610060737023559,4.645090814893706,4.714020968122213,4.7490510459924735,4.78295112135072,4.817981199220867,4.853011277091127,4.885781349937474,4.920811427807621],\"type\":\"scatter\"},{\"marker\":{\"color\":\"#2ca02c\"},\"mode\":\"markers+lines\",\"name\":\"Kiel\",\"x\":[\"2021-08-31T00:00:00\",\"2021-09-30T00:00:00\",\"2021-10-31T00:00:00\",\"2021-11-30T00:00:00\",\"2021-12-31T00:00:00\",\"2022-01-31T00:00:00\",\"2022-02-28T00:00:00\",\"2022-03-31T00:00:00\",\"2022-04-30T00:00:00\",\"2022-05-31T00:00:00\",\"2022-06-30T00:00:00\",\"2022-07-31T00:00:00\",\"2022-08-31T00:00:00\",\"2022-09-30T00:00:00\",\"2022-10-31T00:00:00\",\"2022-11-30T00:00:00\",\"2022-12-31T00:00:00\",\"2023-01-31T00:00:00\",\"2023-02-28T00:00:00\",\"2023-03-31T00:00:00\",\"2023-04-30T00:00:00\",\"2023-05-31T00:00:00\",\"2023-06-30T00:00:00\",\"2023-07-31T00:00:00\",\"2023-08-31T00:00:00\",\"2023-09-30T00:00:00\",\"2023-10-31T00:00:00\",\"2023-11-30T00:00:00\",\"2023-12-31T00:00:00\",\"2024-01-31T00:00:00\",\"2024-02-29T00:00:00\",\"2024-03-31T00:00:00\"],\"y\":[3.7444444444,3.9913793103,3.8611378204999998,3.9601532567,3.8213492063,3.7506465517,3.720751634,3.8603846154,4.0314393939,4.2055214724,4.3027777778,4.1359375,3.8922222222,4.1026632302,4.1791446208,4.0821177223,4.0761125105,4.0013629283,4.0196467991,4.248490566,4.3146130952,4.3992138365,4.4345565749,4.4365123457,4.3871290545,4.5690437601,4.4493333333,4.4633977901,4.4964929215,4.3940643275,4.4169816273,4.8113095238],\"type\":\"scatter\"},{\"line\":{\"color\":\"#2ca02c\",\"dash\":\"dash\"},\"mode\":\"lines\",\"name\":\"Kiel Trend\",\"x\":[\"2021-08-31T00:00:00\",\"2021-09-30T00:00:00\",\"2021-10-31T00:00:00\",\"2021-11-30T00:00:00\",\"2021-12-31T00:00:00\",\"2022-01-31T00:00:00\",\"2022-02-28T00:00:00\",\"2022-03-31T00:00:00\",\"2022-04-30T00:00:00\",\"2022-05-31T00:00:00\",\"2022-06-30T00:00:00\",\"2022-07-31T00:00:00\",\"2022-08-31T00:00:00\",\"2022-09-30T00:00:00\",\"2022-10-31T00:00:00\",\"2022-11-30T00:00:00\",\"2022-12-31T00:00:00\",\"2023-01-31T00:00:00\",\"2023-02-28T00:00:00\",\"2023-03-31T00:00:00\",\"2023-04-30T00:00:00\",\"2023-05-31T00:00:00\",\"2023-06-30T00:00:00\",\"2023-07-31T00:00:00\",\"2023-08-31T00:00:00\",\"2023-09-30T00:00:00\",\"2023-10-31T00:00:00\",\"2023-11-30T00:00:00\",\"2023-12-31T00:00:00\",\"2024-01-31T00:00:00\",\"2024-02-29T00:00:00\",\"2024-03-31T00:00:00\"],\"y\":[3.773723458450263,3.7991967559485147,3.825519163363424,3.8509924608616757,3.8773148682764713,3.9036372756913806,3.9274123533564307,3.9537347607712263,3.979208058269478,4.005530465684387,4.031003763182639,4.057326170597435,4.083648578012344,4.109121875510596,4.135444282925505,4.160917580423757,4.187239987838552,4.2135623952534615,4.237337472918512,4.263659880333307,4.289133177831559,4.315455585246468,4.34092888274472,4.367251290159629,4.393573697574425,4.4190469950726765,4.445369402487586,4.4708426999858375,4.497165107400633,4.5234875148155425,4.54811170239725,4.574434109812046],\"type\":\"scatter\"},{\"marker\":{\"color\":\"#d62728\"},\"mode\":\"markers+lines\",\"name\":\"L\\u00fcbeck\",\"x\":[\"2021-10-31T00:00:00\",\"2021-11-30T00:00:00\",\"2021-12-31T00:00:00\",\"2022-01-31T00:00:00\",\"2022-02-28T00:00:00\",\"2022-03-31T00:00:00\",\"2022-04-30T00:00:00\",\"2022-05-31T00:00:00\",\"2022-06-30T00:00:00\",\"2022-07-31T00:00:00\",\"2022-08-31T00:00:00\",\"2022-09-30T00:00:00\",\"2022-10-31T00:00:00\",\"2022-11-30T00:00:00\",\"2022-12-31T00:00:00\",\"2023-01-31T00:00:00\",\"2023-02-28T00:00:00\",\"2023-03-31T00:00:00\",\"2023-04-30T00:00:00\",\"2023-05-31T00:00:00\",\"2023-06-30T00:00:00\",\"2023-07-31T00:00:00\",\"2023-08-31T00:00:00\",\"2023-09-30T00:00:00\",\"2023-10-31T00:00:00\",\"2023-11-30T00:00:00\",\"2023-12-31T00:00:00\",\"2024-01-31T00:00:00\",\"2024-02-29T00:00:00\",\"2024-03-31T00:00:00\"],\"y\":[3.9150297619,4.0858630952,4.0401041667,3.6334920635,4.2065934066,3.9889423077,4.3048821549,4.517961165,4.4478193146,4.5364583333,4.1688888889,4.4384773663,4.195711501,4.2161290323,4.2067970205,3.7671348315,4.1083900227,4.2385356455,3.9363402062,3.9762149533,4.0461594203,4.0819746377,4.8124444444000005,4.2782608696,5.1433333333,4.113877822,4.0236842105,4.4705645161,4.7023188406,4.2933333333],\"type\":\"scatter\"},{\"line\":{\"color\":\"#d62728\",\"dash\":\"dash\"},\"mode\":\"lines\",\"name\":\"L\\u00fcbeck Trend\",\"x\":[\"2021-10-31T00:00:00\",\"2021-11-30T00:00:00\",\"2021-12-31T00:00:00\",\"2022-01-31T00:00:00\",\"2022-02-28T00:00:00\",\"2022-03-31T00:00:00\",\"2022-04-30T00:00:00\",\"2022-05-31T00:00:00\",\"2022-06-30T00:00:00\",\"2022-07-31T00:00:00\",\"2022-08-31T00:00:00\",\"2022-09-30T00:00:00\",\"2022-10-31T00:00:00\",\"2022-11-30T00:00:00\",\"2022-12-31T00:00:00\",\"2023-01-31T00:00:00\",\"2023-02-28T00:00:00\",\"2023-03-31T00:00:00\",\"2023-04-30T00:00:00\",\"2023-05-31T00:00:00\",\"2023-06-30T00:00:00\",\"2023-07-31T00:00:00\",\"2023-08-31T00:00:00\",\"2023-09-30T00:00:00\",\"2023-10-31T00:00:00\",\"2023-11-30T00:00:00\",\"2023-12-31T00:00:00\",\"2024-01-31T00:00:00\",\"2024-02-29T00:00:00\",\"2024-03-31T00:00:00\"],\"y\":[4.051723451790679,4.063854232159201,4.076389371873347,4.088924511587493,4.100246573264769,4.112781712978915,4.124912493347438,4.1374476330615835,4.149578413430106,4.162113553144252,4.174648692858341,4.1867794732268635,4.199314612941009,4.211445393309532,4.223980533023678,4.2365156727378235,4.2478377344151,4.260372874129246,4.272503654497768,4.285038794211914,4.297169574580437,4.309704714294583,4.322239854008728,4.334370634377251,4.346905774091397,4.359036554459919,4.371571694174065,4.384106833888211,4.3958332549111105,4.408368394625256],\"type\":\"scatter\"}],                        {\"template\":{\"data\":{\"histogram2dcontour\":[{\"type\":\"histogram2dcontour\",\"colorbar\":{\"outlinewidth\":0,\"ticks\":\"\"},\"colorscale\":[[0.0,\"#0d0887\"],[0.1111111111111111,\"#46039f\"],[0.2222222222222222,\"#7201a8\"],[0.3333333333333333,\"#9c179e\"],[0.4444444444444444,\"#bd3786\"],[0.5555555555555556,\"#d8576b\"],[0.6666666666666666,\"#ed7953\"],[0.7777777777777778,\"#fb9f3a\"],[0.8888888888888888,\"#fdca26\"],[1.0,\"#f0f921\"]]}],\"choropleth\":[{\"type\":\"choropleth\",\"colorbar\":{\"outlinewidth\":0,\"ticks\":\"\"}}],\"histogram2d\":[{\"type\":\"histogram2d\",\"colorbar\":{\"outlinewidth\":0,\"ticks\":\"\"},\"colorscale\":[[0.0,\"#0d0887\"],[0.1111111111111111,\"#46039f\"],[0.2222222222222222,\"#7201a8\"],[0.3333333333333333,\"#9c179e\"],[0.4444444444444444,\"#bd3786\"],[0.5555555555555556,\"#d8576b\"],[0.6666666666666666,\"#ed7953\"],[0.7777777777777778,\"#fb9f3a\"],[0.8888888888888888,\"#fdca26\"],[1.0,\"#f0f921\"]]}],\"heatmap\":[{\"type\":\"heatmap\",\"colorbar\":{\"outlinewidth\":0,\"ticks\":\"\"},\"colorscale\":[[0.0,\"#0d0887\"],[0.1111111111111111,\"#46039f\"],[0.2222222222222222,\"#7201a8\"],[0.3333333333333333,\"#9c179e\"],[0.4444444444444444,\"#bd3786\"],[0.5555555555555556,\"#d8576b\"],[0.6666666666666666,\"#ed7953\"],[0.7777777777777778,\"#fb9f3a\"],[0.8888888888888888,\"#fdca26\"],[1.0,\"#f0f921\"]]}],\"heatmapgl\":[{\"type\":\"heatmapgl\",\"colorbar\":{\"outlinewidth\":0,\"ticks\":\"\"},\"colorscale\":[[0.0,\"#0d0887\"],[0.1111111111111111,\"#46039f\"],[0.2222222222222222,\"#7201a8\"],[0.3333333333333333,\"#9c179e\"],[0.4444444444444444,\"#bd3786\"],[0.5555555555555556,\"#d8576b\"],[0.6666666666666666,\"#ed7953\"],[0.7777777777777778,\"#fb9f3a\"],[0.8888888888888888,\"#fdca26\"],[1.0,\"#f0f921\"]]}],\"contourcarpet\":[{\"type\":\"contourcarpet\",\"colorbar\":{\"outlinewidth\":0,\"ticks\":\"\"}}],\"contour\":[{\"type\":\"contour\",\"colorbar\":{\"outlinewidth\":0,\"ticks\":\"\"},\"colorscale\":[[0.0,\"#0d0887\"],[0.1111111111111111,\"#46039f\"],[0.2222222222222222,\"#7201a8\"],[0.3333333333333333,\"#9c179e\"],[0.4444444444444444,\"#bd3786\"],[0.5555555555555556,\"#d8576b\"],[0.6666666666666666,\"#ed7953\"],[0.7777777777777778,\"#fb9f3a\"],[0.8888888888888888,\"#fdca26\"],[1.0,\"#f0f921\"]]}],\"surface\":[{\"type\":\"surface\",\"colorbar\":{\"outlinewidth\":0,\"ticks\":\"\"},\"colorscale\":[[0.0,\"#0d0887\"],[0.1111111111111111,\"#46039f\"],[0.2222222222222222,\"#7201a8\"],[0.3333333333333333,\"#9c179e\"],[0.4444444444444444,\"#bd3786\"],[0.5555555555555556,\"#d8576b\"],[0.6666666666666666,\"#ed7953\"],[0.7777777777777778,\"#fb9f3a\"],[0.8888888888888888,\"#fdca26\"],[1.0,\"#f0f921\"]]}],\"mesh3d\":[{\"type\":\"mesh3d\",\"colorbar\":{\"outlinewidth\":0,\"ticks\":\"\"}}],\"scatter\":[{\"fillpattern\":{\"fillmode\":\"overlay\",\"size\":10,\"solidity\":0.2},\"type\":\"scatter\"}],\"parcoords\":[{\"type\":\"parcoords\",\"line\":{\"colorbar\":{\"outlinewidth\":0,\"ticks\":\"\"}}}],\"scatterpolargl\":[{\"type\":\"scatterpolargl\",\"marker\":{\"colorbar\":{\"outlinewidth\":0,\"ticks\":\"\"}}}],\"bar\":[{\"error_x\":{\"color\":\"#2a3f5f\"},\"error_y\":{\"color\":\"#2a3f5f\"},\"marker\":{\"line\":{\"color\":\"#E5ECF6\",\"width\":0.5},\"pattern\":{\"fillmode\":\"overlay\",\"size\":10,\"solidity\":0.2}},\"type\":\"bar\"}],\"scattergeo\":[{\"type\":\"scattergeo\",\"marker\":{\"colorbar\":{\"outlinewidth\":0,\"ticks\":\"\"}}}],\"scatterpolar\":[{\"type\":\"scatterpolar\",\"marker\":{\"colorbar\":{\"outlinewidth\":0,\"ticks\":\"\"}}}],\"histogram\":[{\"marker\":{\"pattern\":{\"fillmode\":\"overlay\",\"size\":10,\"solidity\":0.2}},\"type\":\"histogram\"}],\"scattergl\":[{\"type\":\"scattergl\",\"marker\":{\"colorbar\":{\"outlinewidth\":0,\"ticks\":\"\"}}}],\"scatter3d\":[{\"type\":\"scatter3d\",\"line\":{\"colorbar\":{\"outlinewidth\":0,\"ticks\":\"\"}},\"marker\":{\"colorbar\":{\"outlinewidth\":0,\"ticks\":\"\"}}}],\"scattermapbox\":[{\"type\":\"scattermapbox\",\"marker\":{\"colorbar\":{\"outlinewidth\":0,\"ticks\":\"\"}}}],\"scatterternary\":[{\"type\":\"scatterternary\",\"marker\":{\"colorbar\":{\"outlinewidth\":0,\"ticks\":\"\"}}}],\"scattercarpet\":[{\"type\":\"scattercarpet\",\"marker\":{\"colorbar\":{\"outlinewidth\":0,\"ticks\":\"\"}}}],\"carpet\":[{\"aaxis\":{\"endlinecolor\":\"#2a3f5f\",\"gridcolor\":\"white\",\"linecolor\":\"white\",\"minorgridcolor\":\"white\",\"startlinecolor\":\"#2a3f5f\"},\"baxis\":{\"endlinecolor\":\"#2a3f5f\",\"gridcolor\":\"white\",\"linecolor\":\"white\",\"minorgridcolor\":\"white\",\"startlinecolor\":\"#2a3f5f\"},\"type\":\"carpet\"}],\"table\":[{\"cells\":{\"fill\":{\"color\":\"#EBF0F8\"},\"line\":{\"color\":\"white\"}},\"header\":{\"fill\":{\"color\":\"#C8D4E3\"},\"line\":{\"color\":\"white\"}},\"type\":\"table\"}],\"barpolar\":[{\"marker\":{\"line\":{\"color\":\"#E5ECF6\",\"width\":0.5},\"pattern\":{\"fillmode\":\"overlay\",\"size\":10,\"solidity\":0.2}},\"type\":\"barpolar\"}],\"pie\":[{\"automargin\":true,\"type\":\"pie\"}]},\"layout\":{\"autotypenumbers\":\"strict\",\"colorway\":[\"#636efa\",\"#EF553B\",\"#00cc96\",\"#ab63fa\",\"#FFA15A\",\"#19d3f3\",\"#FF6692\",\"#B6E880\",\"#FF97FF\",\"#FECB52\"],\"font\":{\"color\":\"#2a3f5f\"},\"hovermode\":\"closest\",\"hoverlabel\":{\"align\":\"left\"},\"paper_bgcolor\":\"white\",\"plot_bgcolor\":\"#E5ECF6\",\"polar\":{\"bgcolor\":\"#E5ECF6\",\"angularaxis\":{\"gridcolor\":\"white\",\"linecolor\":\"white\",\"ticks\":\"\"},\"radialaxis\":{\"gridcolor\":\"white\",\"linecolor\":\"white\",\"ticks\":\"\"}},\"ternary\":{\"bgcolor\":\"#E5ECF6\",\"aaxis\":{\"gridcolor\":\"white\",\"linecolor\":\"white\",\"ticks\":\"\"},\"baxis\":{\"gridcolor\":\"white\",\"linecolor\":\"white\",\"ticks\":\"\"},\"caxis\":{\"gridcolor\":\"white\",\"linecolor\":\"white\",\"ticks\":\"\"}},\"coloraxis\":{\"colorbar\":{\"outlinewidth\":0,\"ticks\":\"\"}},\"colorscale\":{\"sequential\":[[0.0,\"#0d0887\"],[0.1111111111111111,\"#46039f\"],[0.2222222222222222,\"#7201a8\"],[0.3333333333333333,\"#9c179e\"],[0.4444444444444444,\"#bd3786\"],[0.5555555555555556,\"#d8576b\"],[0.6666666666666666,\"#ed7953\"],[0.7777777777777778,\"#fb9f3a\"],[0.8888888888888888,\"#fdca26\"],[1.0,\"#f0f921\"]],\"sequentialminus\":[[0.0,\"#0d0887\"],[0.1111111111111111,\"#46039f\"],[0.2222222222222222,\"#7201a8\"],[0.3333333333333333,\"#9c179e\"],[0.4444444444444444,\"#bd3786\"],[0.5555555555555556,\"#d8576b\"],[0.6666666666666666,\"#ed7953\"],[0.7777777777777778,\"#fb9f3a\"],[0.8888888888888888,\"#fdca26\"],[1.0,\"#f0f921\"]],\"diverging\":[[0,\"#8e0152\"],[0.1,\"#c51b7d\"],[0.2,\"#de77ae\"],[0.3,\"#f1b6da\"],[0.4,\"#fde0ef\"],[0.5,\"#f7f7f7\"],[0.6,\"#e6f5d0\"],[0.7,\"#b8e186\"],[0.8,\"#7fbc41\"],[0.9,\"#4d9221\"],[1,\"#276419\"]]},\"xaxis\":{\"gridcolor\":\"white\",\"linecolor\":\"white\",\"ticks\":\"\",\"title\":{\"standoff\":15},\"zerolinecolor\":\"white\",\"automargin\":true,\"zerolinewidth\":2},\"yaxis\":{\"gridcolor\":\"white\",\"linecolor\":\"white\",\"ticks\":\"\",\"title\":{\"standoff\":15},\"zerolinecolor\":\"white\",\"automargin\":true,\"zerolinewidth\":2},\"scene\":{\"xaxis\":{\"backgroundcolor\":\"#E5ECF6\",\"gridcolor\":\"white\",\"linecolor\":\"white\",\"showbackground\":true,\"ticks\":\"\",\"zerolinecolor\":\"white\",\"gridwidth\":2},\"yaxis\":{\"backgroundcolor\":\"#E5ECF6\",\"gridcolor\":\"white\",\"linecolor\":\"white\",\"showbackground\":true,\"ticks\":\"\",\"zerolinecolor\":\"white\",\"gridwidth\":2},\"zaxis\":{\"backgroundcolor\":\"#E5ECF6\",\"gridcolor\":\"white\",\"linecolor\":\"white\",\"showbackground\":true,\"ticks\":\"\",\"zerolinecolor\":\"white\",\"gridwidth\":2}},\"shapedefaults\":{\"line\":{\"color\":\"#2a3f5f\"}},\"annotationdefaults\":{\"arrowcolor\":\"#2a3f5f\",\"arrowhead\":0,\"arrowwidth\":1},\"geo\":{\"bgcolor\":\"white\",\"landcolor\":\"#E5ECF6\",\"subunitcolor\":\"white\",\"showland\":true,\"showlakes\":true,\"lakecolor\":\"white\"},\"title\":{\"x\":0.05},\"mapbox\":{\"style\":\"light\"}}},\"legend\":{\"title\":{\"text\":\"City\"},\"orientation\":\"v\",\"x\":1,\"xanchor\":\"left\",\"y\":1,\"yanchor\":\"auto\"},\"updatemenus\":[{\"buttons\":[{\"args\":[{\"visible\":[true,true,true,true,true,true,true,true]},{\"title\":\"Monthly Average Prices by City\"}],\"label\":\"All\",\"method\":\"update\"},{\"args\":[{\"visible\":[true,true,false,false,false,false,false,false]},{\"title\":\"Monthly Average Prices - Flensburg\"}],\"label\":\"Flensburg\",\"method\":\"update\"},{\"args\":[{\"visible\":[false,false,true,true,false,false,false,false]},{\"title\":\"Monthly Average Prices - Heide\"}],\"label\":\"Heide\",\"method\":\"update\"},{\"args\":[{\"visible\":[false,false,false,false,true,true,false,false]},{\"title\":\"Monthly Average Prices - Kiel\"}],\"label\":\"Kiel\",\"method\":\"update\"},{\"args\":[{\"visible\":[false,false,false,false,false,false,true,true]},{\"title\":\"Monthly Average Prices - L\\u00fcbeck\"}],\"label\":\"L\\u00fcbeck\",\"method\":\"update\"}],\"direction\":\"down\",\"pad\":{\"r\":10,\"t\":10},\"showactive\":true,\"x\":0,\"xanchor\":\"left\",\"y\":1.15,\"yanchor\":\"top\"}],\"title\":{\"text\":\"Monthly Average Prices by City\"},\"xaxis\":{\"title\":{\"text\":\"Date\"}},\"yaxis\":{\"title\":{\"text\":\"Average Price (in \\u20ac)\"}}},                        {\"responsive\": true}                    ).then(function(){\n",
              "                            \n",
              "var gd = document.getElementById('a9a7dbb5-ef7b-4b96-868b-97e5d90d729a');\n",
              "var x = new MutationObserver(function (mutations, observer) {{\n",
              "        var display = window.getComputedStyle(gd).display;\n",
              "        if (!display || display === 'none') {{\n",
              "            console.log([gd, 'removed!']);\n",
              "            Plotly.purge(gd);\n",
              "            observer.disconnect();\n",
              "        }}\n",
              "}});\n",
              "\n",
              "// Listen for the removal of the full notebook cells\n",
              "var notebookContainer = gd.closest('#notebook-container');\n",
              "if (notebookContainer) {{\n",
              "    x.observe(notebookContainer, {childList: true});\n",
              "}}\n",
              "\n",
              "// Listen for the clearing of the current output cell\n",
              "var outputEl = gd.closest('.output');\n",
              "if (outputEl) {{\n",
              "    x.observe(outputEl, {childList: true});\n",
              "}}\n",
              "\n",
              "                        })                };                            </script>        </div>\n",
              "</body>\n",
              "</html>"
            ]
          },
          "metadata": {}
        }
      ]
    },
    {
      "cell_type": "markdown",
      "source": [
        "## Calculations"
      ],
      "metadata": {
        "id": "S56AIgAy7ZKn"
      }
    },
    {
      "cell_type": "markdown",
      "source": [
        "### Average Price Change in € and %\n",
        "\n"
      ],
      "metadata": {
        "id": "jOgTCq7b7jEn"
      }
    },
    {
      "cell_type": "markdown",
      "source": [
        "Average Price Change in €"
      ],
      "metadata": {
        "id": "ZXtO6spJ7zbu"
      }
    },
    {
      "cell_type": "code",
      "source": [
        "df_monthly_prices = pd.read_json('avg_city_SH_monthly.json')\n",
        "\n",
        "# Convert to datetime\n",
        "df_monthly_prices['date'] = pd.to_datetime(df_monthly_prices['date'], unit='ms')\n",
        "df_monthly_prices_sorted = df_monthly_prices.sort_values(by=['city', 'date'])\n",
        "\n",
        "# Calculate the price change for each city\n",
        "df_monthly_prices_sorted['price_change'] = df_monthly_prices_sorted.groupby('city')['average_price'].diff()\n",
        "average_price_change_per_city = df_monthly_prices_sorted.groupby('city')['price_change'].mean().reset_index()\n",
        "\n",
        "average_price_change_per_city"
      ],
      "metadata": {
        "colab": {
          "base_uri": "https://localhost:8080/",
          "height": 175
        },
        "id": "TOGn2yB57MZ-",
        "outputId": "2a797e8a-6a8b-49df-fd3a-4f7a1b515e78"
      },
      "execution_count": 20,
      "outputs": [
        {
          "output_type": "execute_result",
          "data": {
            "text/plain": [
              "        city  price_change\n",
              "0  Flensburg      0.034873\n",
              "1      Heide      0.038874\n",
              "2       Kiel      0.034415\n",
              "3     Lübeck      0.013045"
            ],
            "text/html": [
              "\n",
              "  <div id=\"df-861fd27d-c88a-4314-bb93-30472d81b977\" class=\"colab-df-container\">\n",
              "    <div>\n",
              "<style scoped>\n",
              "    .dataframe tbody tr th:only-of-type {\n",
              "        vertical-align: middle;\n",
              "    }\n",
              "\n",
              "    .dataframe tbody tr th {\n",
              "        vertical-align: top;\n",
              "    }\n",
              "\n",
              "    .dataframe thead th {\n",
              "        text-align: right;\n",
              "    }\n",
              "</style>\n",
              "<table border=\"1\" class=\"dataframe\">\n",
              "  <thead>\n",
              "    <tr style=\"text-align: right;\">\n",
              "      <th></th>\n",
              "      <th>city</th>\n",
              "      <th>price_change</th>\n",
              "    </tr>\n",
              "  </thead>\n",
              "  <tbody>\n",
              "    <tr>\n",
              "      <th>0</th>\n",
              "      <td>Flensburg</td>\n",
              "      <td>0.034873</td>\n",
              "    </tr>\n",
              "    <tr>\n",
              "      <th>1</th>\n",
              "      <td>Heide</td>\n",
              "      <td>0.038874</td>\n",
              "    </tr>\n",
              "    <tr>\n",
              "      <th>2</th>\n",
              "      <td>Kiel</td>\n",
              "      <td>0.034415</td>\n",
              "    </tr>\n",
              "    <tr>\n",
              "      <th>3</th>\n",
              "      <td>Lübeck</td>\n",
              "      <td>0.013045</td>\n",
              "    </tr>\n",
              "  </tbody>\n",
              "</table>\n",
              "</div>\n",
              "    <div class=\"colab-df-buttons\">\n",
              "\n",
              "  <div class=\"colab-df-container\">\n",
              "    <button class=\"colab-df-convert\" onclick=\"convertToInteractive('df-861fd27d-c88a-4314-bb93-30472d81b977')\"\n",
              "            title=\"Convert this dataframe to an interactive table.\"\n",
              "            style=\"display:none;\">\n",
              "\n",
              "  <svg xmlns=\"http://www.w3.org/2000/svg\" height=\"24px\" viewBox=\"0 -960 960 960\">\n",
              "    <path d=\"M120-120v-720h720v720H120Zm60-500h600v-160H180v160Zm220 220h160v-160H400v160Zm0 220h160v-160H400v160ZM180-400h160v-160H180v160Zm440 0h160v-160H620v160ZM180-180h160v-160H180v160Zm440 0h160v-160H620v160Z\"/>\n",
              "  </svg>\n",
              "    </button>\n",
              "\n",
              "  <style>\n",
              "    .colab-df-container {\n",
              "      display:flex;\n",
              "      gap: 12px;\n",
              "    }\n",
              "\n",
              "    .colab-df-convert {\n",
              "      background-color: #E8F0FE;\n",
              "      border: none;\n",
              "      border-radius: 50%;\n",
              "      cursor: pointer;\n",
              "      display: none;\n",
              "      fill: #1967D2;\n",
              "      height: 32px;\n",
              "      padding: 0 0 0 0;\n",
              "      width: 32px;\n",
              "    }\n",
              "\n",
              "    .colab-df-convert:hover {\n",
              "      background-color: #E2EBFA;\n",
              "      box-shadow: 0px 1px 2px rgba(60, 64, 67, 0.3), 0px 1px 3px 1px rgba(60, 64, 67, 0.15);\n",
              "      fill: #174EA6;\n",
              "    }\n",
              "\n",
              "    .colab-df-buttons div {\n",
              "      margin-bottom: 4px;\n",
              "    }\n",
              "\n",
              "    [theme=dark] .colab-df-convert {\n",
              "      background-color: #3B4455;\n",
              "      fill: #D2E3FC;\n",
              "    }\n",
              "\n",
              "    [theme=dark] .colab-df-convert:hover {\n",
              "      background-color: #434B5C;\n",
              "      box-shadow: 0px 1px 3px 1px rgba(0, 0, 0, 0.15);\n",
              "      filter: drop-shadow(0px 1px 2px rgba(0, 0, 0, 0.3));\n",
              "      fill: #FFFFFF;\n",
              "    }\n",
              "  </style>\n",
              "\n",
              "    <script>\n",
              "      const buttonEl =\n",
              "        document.querySelector('#df-861fd27d-c88a-4314-bb93-30472d81b977 button.colab-df-convert');\n",
              "      buttonEl.style.display =\n",
              "        google.colab.kernel.accessAllowed ? 'block' : 'none';\n",
              "\n",
              "      async function convertToInteractive(key) {\n",
              "        const element = document.querySelector('#df-861fd27d-c88a-4314-bb93-30472d81b977');\n",
              "        const dataTable =\n",
              "          await google.colab.kernel.invokeFunction('convertToInteractive',\n",
              "                                                    [key], {});\n",
              "        if (!dataTable) return;\n",
              "\n",
              "        const docLinkHtml = 'Like what you see? Visit the ' +\n",
              "          '<a target=\"_blank\" href=https://colab.research.google.com/notebooks/data_table.ipynb>data table notebook</a>'\n",
              "          + ' to learn more about interactive tables.';\n",
              "        element.innerHTML = '';\n",
              "        dataTable['output_type'] = 'display_data';\n",
              "        await google.colab.output.renderOutput(dataTable, element);\n",
              "        const docLink = document.createElement('div');\n",
              "        docLink.innerHTML = docLinkHtml;\n",
              "        element.appendChild(docLink);\n",
              "      }\n",
              "    </script>\n",
              "  </div>\n",
              "\n",
              "\n",
              "<div id=\"df-06e9a51f-5b77-461a-825c-14e6bf4d765a\">\n",
              "  <button class=\"colab-df-quickchart\" onclick=\"quickchart('df-06e9a51f-5b77-461a-825c-14e6bf4d765a')\"\n",
              "            title=\"Suggest charts\"\n",
              "            style=\"display:none;\">\n",
              "\n",
              "<svg xmlns=\"http://www.w3.org/2000/svg\" height=\"24px\"viewBox=\"0 0 24 24\"\n",
              "     width=\"24px\">\n",
              "    <g>\n",
              "        <path d=\"M19 3H5c-1.1 0-2 .9-2 2v14c0 1.1.9 2 2 2h14c1.1 0 2-.9 2-2V5c0-1.1-.9-2-2-2zM9 17H7v-7h2v7zm4 0h-2V7h2v10zm4 0h-2v-4h2v4z\"/>\n",
              "    </g>\n",
              "</svg>\n",
              "  </button>\n",
              "\n",
              "<style>\n",
              "  .colab-df-quickchart {\n",
              "      --bg-color: #E8F0FE;\n",
              "      --fill-color: #1967D2;\n",
              "      --hover-bg-color: #E2EBFA;\n",
              "      --hover-fill-color: #174EA6;\n",
              "      --disabled-fill-color: #AAA;\n",
              "      --disabled-bg-color: #DDD;\n",
              "  }\n",
              "\n",
              "  [theme=dark] .colab-df-quickchart {\n",
              "      --bg-color: #3B4455;\n",
              "      --fill-color: #D2E3FC;\n",
              "      --hover-bg-color: #434B5C;\n",
              "      --hover-fill-color: #FFFFFF;\n",
              "      --disabled-bg-color: #3B4455;\n",
              "      --disabled-fill-color: #666;\n",
              "  }\n",
              "\n",
              "  .colab-df-quickchart {\n",
              "    background-color: var(--bg-color);\n",
              "    border: none;\n",
              "    border-radius: 50%;\n",
              "    cursor: pointer;\n",
              "    display: none;\n",
              "    fill: var(--fill-color);\n",
              "    height: 32px;\n",
              "    padding: 0;\n",
              "    width: 32px;\n",
              "  }\n",
              "\n",
              "  .colab-df-quickchart:hover {\n",
              "    background-color: var(--hover-bg-color);\n",
              "    box-shadow: 0 1px 2px rgba(60, 64, 67, 0.3), 0 1px 3px 1px rgba(60, 64, 67, 0.15);\n",
              "    fill: var(--button-hover-fill-color);\n",
              "  }\n",
              "\n",
              "  .colab-df-quickchart-complete:disabled,\n",
              "  .colab-df-quickchart-complete:disabled:hover {\n",
              "    background-color: var(--disabled-bg-color);\n",
              "    fill: var(--disabled-fill-color);\n",
              "    box-shadow: none;\n",
              "  }\n",
              "\n",
              "  .colab-df-spinner {\n",
              "    border: 2px solid var(--fill-color);\n",
              "    border-color: transparent;\n",
              "    border-bottom-color: var(--fill-color);\n",
              "    animation:\n",
              "      spin 1s steps(1) infinite;\n",
              "  }\n",
              "\n",
              "  @keyframes spin {\n",
              "    0% {\n",
              "      border-color: transparent;\n",
              "      border-bottom-color: var(--fill-color);\n",
              "      border-left-color: var(--fill-color);\n",
              "    }\n",
              "    20% {\n",
              "      border-color: transparent;\n",
              "      border-left-color: var(--fill-color);\n",
              "      border-top-color: var(--fill-color);\n",
              "    }\n",
              "    30% {\n",
              "      border-color: transparent;\n",
              "      border-left-color: var(--fill-color);\n",
              "      border-top-color: var(--fill-color);\n",
              "      border-right-color: var(--fill-color);\n",
              "    }\n",
              "    40% {\n",
              "      border-color: transparent;\n",
              "      border-right-color: var(--fill-color);\n",
              "      border-top-color: var(--fill-color);\n",
              "    }\n",
              "    60% {\n",
              "      border-color: transparent;\n",
              "      border-right-color: var(--fill-color);\n",
              "    }\n",
              "    80% {\n",
              "      border-color: transparent;\n",
              "      border-right-color: var(--fill-color);\n",
              "      border-bottom-color: var(--fill-color);\n",
              "    }\n",
              "    90% {\n",
              "      border-color: transparent;\n",
              "      border-bottom-color: var(--fill-color);\n",
              "    }\n",
              "  }\n",
              "</style>\n",
              "\n",
              "  <script>\n",
              "    async function quickchart(key) {\n",
              "      const quickchartButtonEl =\n",
              "        document.querySelector('#' + key + ' button');\n",
              "      quickchartButtonEl.disabled = true;  // To prevent multiple clicks.\n",
              "      quickchartButtonEl.classList.add('colab-df-spinner');\n",
              "      try {\n",
              "        const charts = await google.colab.kernel.invokeFunction(\n",
              "            'suggestCharts', [key], {});\n",
              "      } catch (error) {\n",
              "        console.error('Error during call to suggestCharts:', error);\n",
              "      }\n",
              "      quickchartButtonEl.classList.remove('colab-df-spinner');\n",
              "      quickchartButtonEl.classList.add('colab-df-quickchart-complete');\n",
              "    }\n",
              "    (() => {\n",
              "      let quickchartButtonEl =\n",
              "        document.querySelector('#df-06e9a51f-5b77-461a-825c-14e6bf4d765a button');\n",
              "      quickchartButtonEl.style.display =\n",
              "        google.colab.kernel.accessAllowed ? 'block' : 'none';\n",
              "    })();\n",
              "  </script>\n",
              "</div>\n",
              "    </div>\n",
              "  </div>\n"
            ],
            "application/vnd.google.colaboratory.intrinsic+json": {
              "type": "dataframe",
              "variable_name": "average_price_change_per_city",
              "summary": "{\n  \"name\": \"average_price_change_per_city\",\n  \"rows\": 4,\n  \"fields\": [\n    {\n      \"column\": \"city\",\n      \"properties\": {\n        \"dtype\": \"string\",\n        \"num_unique_values\": 4,\n        \"samples\": [\n          \"Heide\",\n          \"L\\u00fcbeck\",\n          \"Flensburg\"\n        ],\n        \"semantic_type\": \"\",\n        \"description\": \"\"\n      }\n    },\n    {\n      \"column\": \"price_change\",\n      \"properties\": {\n        \"dtype\": \"number\",\n        \"std\": 0.011677498390903323,\n        \"min\": 0.01304495073793102,\n        \"max\": 0.0388736041076923,\n        \"num_unique_values\": 4,\n        \"samples\": [\n          0.0388736041076923,\n          0.01304495073793102,\n          0.03487332038275861\n        ],\n        \"semantic_type\": \"\",\n        \"description\": \"\"\n      }\n    }\n  ]\n}"
            }
          },
          "metadata": {},
          "execution_count": 20
        }
      ]
    },
    {
      "cell_type": "markdown",
      "source": [
        "Average Price Change in %"
      ],
      "metadata": {
        "id": "BYSCUEwg7qhx"
      }
    },
    {
      "cell_type": "code",
      "source": [
        "df_monthly_prices_sorted['percentage_change'] = df_monthly_prices_sorted.groupby('city')['average_price'].pct_change() * 100\n",
        "average_percentage_change_per_city = df_monthly_prices_sorted.groupby('city')['percentage_change'].mean().reset_index()\n",
        "\n",
        "average_percentage_change_per_city"
      ],
      "metadata": {
        "colab": {
          "base_uri": "https://localhost:8080/",
          "height": 175
        },
        "id": "wJC1sTF87tnr",
        "outputId": "23c3e111-3ab4-42be-b88b-12ecced5050d"
      },
      "execution_count": 21,
      "outputs": [
        {
          "output_type": "execute_result",
          "data": {
            "text/plain": [
              "        city  percentage_change\n",
              "0  Flensburg           0.920610\n",
              "1      Heide           0.779610\n",
              "2       Kiel           0.868170\n",
              "3     Lübeck           0.722452"
            ],
            "text/html": [
              "\n",
              "  <div id=\"df-048fe190-3813-4455-8ea2-ee7173216aea\" class=\"colab-df-container\">\n",
              "    <div>\n",
              "<style scoped>\n",
              "    .dataframe tbody tr th:only-of-type {\n",
              "        vertical-align: middle;\n",
              "    }\n",
              "\n",
              "    .dataframe tbody tr th {\n",
              "        vertical-align: top;\n",
              "    }\n",
              "\n",
              "    .dataframe thead th {\n",
              "        text-align: right;\n",
              "    }\n",
              "</style>\n",
              "<table border=\"1\" class=\"dataframe\">\n",
              "  <thead>\n",
              "    <tr style=\"text-align: right;\">\n",
              "      <th></th>\n",
              "      <th>city</th>\n",
              "      <th>percentage_change</th>\n",
              "    </tr>\n",
              "  </thead>\n",
              "  <tbody>\n",
              "    <tr>\n",
              "      <th>0</th>\n",
              "      <td>Flensburg</td>\n",
              "      <td>0.920610</td>\n",
              "    </tr>\n",
              "    <tr>\n",
              "      <th>1</th>\n",
              "      <td>Heide</td>\n",
              "      <td>0.779610</td>\n",
              "    </tr>\n",
              "    <tr>\n",
              "      <th>2</th>\n",
              "      <td>Kiel</td>\n",
              "      <td>0.868170</td>\n",
              "    </tr>\n",
              "    <tr>\n",
              "      <th>3</th>\n",
              "      <td>Lübeck</td>\n",
              "      <td>0.722452</td>\n",
              "    </tr>\n",
              "  </tbody>\n",
              "</table>\n",
              "</div>\n",
              "    <div class=\"colab-df-buttons\">\n",
              "\n",
              "  <div class=\"colab-df-container\">\n",
              "    <button class=\"colab-df-convert\" onclick=\"convertToInteractive('df-048fe190-3813-4455-8ea2-ee7173216aea')\"\n",
              "            title=\"Convert this dataframe to an interactive table.\"\n",
              "            style=\"display:none;\">\n",
              "\n",
              "  <svg xmlns=\"http://www.w3.org/2000/svg\" height=\"24px\" viewBox=\"0 -960 960 960\">\n",
              "    <path d=\"M120-120v-720h720v720H120Zm60-500h600v-160H180v160Zm220 220h160v-160H400v160Zm0 220h160v-160H400v160ZM180-400h160v-160H180v160Zm440 0h160v-160H620v160ZM180-180h160v-160H180v160Zm440 0h160v-160H620v160Z\"/>\n",
              "  </svg>\n",
              "    </button>\n",
              "\n",
              "  <style>\n",
              "    .colab-df-container {\n",
              "      display:flex;\n",
              "      gap: 12px;\n",
              "    }\n",
              "\n",
              "    .colab-df-convert {\n",
              "      background-color: #E8F0FE;\n",
              "      border: none;\n",
              "      border-radius: 50%;\n",
              "      cursor: pointer;\n",
              "      display: none;\n",
              "      fill: #1967D2;\n",
              "      height: 32px;\n",
              "      padding: 0 0 0 0;\n",
              "      width: 32px;\n",
              "    }\n",
              "\n",
              "    .colab-df-convert:hover {\n",
              "      background-color: #E2EBFA;\n",
              "      box-shadow: 0px 1px 2px rgba(60, 64, 67, 0.3), 0px 1px 3px 1px rgba(60, 64, 67, 0.15);\n",
              "      fill: #174EA6;\n",
              "    }\n",
              "\n",
              "    .colab-df-buttons div {\n",
              "      margin-bottom: 4px;\n",
              "    }\n",
              "\n",
              "    [theme=dark] .colab-df-convert {\n",
              "      background-color: #3B4455;\n",
              "      fill: #D2E3FC;\n",
              "    }\n",
              "\n",
              "    [theme=dark] .colab-df-convert:hover {\n",
              "      background-color: #434B5C;\n",
              "      box-shadow: 0px 1px 3px 1px rgba(0, 0, 0, 0.15);\n",
              "      filter: drop-shadow(0px 1px 2px rgba(0, 0, 0, 0.3));\n",
              "      fill: #FFFFFF;\n",
              "    }\n",
              "  </style>\n",
              "\n",
              "    <script>\n",
              "      const buttonEl =\n",
              "        document.querySelector('#df-048fe190-3813-4455-8ea2-ee7173216aea button.colab-df-convert');\n",
              "      buttonEl.style.display =\n",
              "        google.colab.kernel.accessAllowed ? 'block' : 'none';\n",
              "\n",
              "      async function convertToInteractive(key) {\n",
              "        const element = document.querySelector('#df-048fe190-3813-4455-8ea2-ee7173216aea');\n",
              "        const dataTable =\n",
              "          await google.colab.kernel.invokeFunction('convertToInteractive',\n",
              "                                                    [key], {});\n",
              "        if (!dataTable) return;\n",
              "\n",
              "        const docLinkHtml = 'Like what you see? Visit the ' +\n",
              "          '<a target=\"_blank\" href=https://colab.research.google.com/notebooks/data_table.ipynb>data table notebook</a>'\n",
              "          + ' to learn more about interactive tables.';\n",
              "        element.innerHTML = '';\n",
              "        dataTable['output_type'] = 'display_data';\n",
              "        await google.colab.output.renderOutput(dataTable, element);\n",
              "        const docLink = document.createElement('div');\n",
              "        docLink.innerHTML = docLinkHtml;\n",
              "        element.appendChild(docLink);\n",
              "      }\n",
              "    </script>\n",
              "  </div>\n",
              "\n",
              "\n",
              "<div id=\"df-55fd62f9-8d74-465a-a035-d24e9975d3d8\">\n",
              "  <button class=\"colab-df-quickchart\" onclick=\"quickchart('df-55fd62f9-8d74-465a-a035-d24e9975d3d8')\"\n",
              "            title=\"Suggest charts\"\n",
              "            style=\"display:none;\">\n",
              "\n",
              "<svg xmlns=\"http://www.w3.org/2000/svg\" height=\"24px\"viewBox=\"0 0 24 24\"\n",
              "     width=\"24px\">\n",
              "    <g>\n",
              "        <path d=\"M19 3H5c-1.1 0-2 .9-2 2v14c0 1.1.9 2 2 2h14c1.1 0 2-.9 2-2V5c0-1.1-.9-2-2-2zM9 17H7v-7h2v7zm4 0h-2V7h2v10zm4 0h-2v-4h2v4z\"/>\n",
              "    </g>\n",
              "</svg>\n",
              "  </button>\n",
              "\n",
              "<style>\n",
              "  .colab-df-quickchart {\n",
              "      --bg-color: #E8F0FE;\n",
              "      --fill-color: #1967D2;\n",
              "      --hover-bg-color: #E2EBFA;\n",
              "      --hover-fill-color: #174EA6;\n",
              "      --disabled-fill-color: #AAA;\n",
              "      --disabled-bg-color: #DDD;\n",
              "  }\n",
              "\n",
              "  [theme=dark] .colab-df-quickchart {\n",
              "      --bg-color: #3B4455;\n",
              "      --fill-color: #D2E3FC;\n",
              "      --hover-bg-color: #434B5C;\n",
              "      --hover-fill-color: #FFFFFF;\n",
              "      --disabled-bg-color: #3B4455;\n",
              "      --disabled-fill-color: #666;\n",
              "  }\n",
              "\n",
              "  .colab-df-quickchart {\n",
              "    background-color: var(--bg-color);\n",
              "    border: none;\n",
              "    border-radius: 50%;\n",
              "    cursor: pointer;\n",
              "    display: none;\n",
              "    fill: var(--fill-color);\n",
              "    height: 32px;\n",
              "    padding: 0;\n",
              "    width: 32px;\n",
              "  }\n",
              "\n",
              "  .colab-df-quickchart:hover {\n",
              "    background-color: var(--hover-bg-color);\n",
              "    box-shadow: 0 1px 2px rgba(60, 64, 67, 0.3), 0 1px 3px 1px rgba(60, 64, 67, 0.15);\n",
              "    fill: var(--button-hover-fill-color);\n",
              "  }\n",
              "\n",
              "  .colab-df-quickchart-complete:disabled,\n",
              "  .colab-df-quickchart-complete:disabled:hover {\n",
              "    background-color: var(--disabled-bg-color);\n",
              "    fill: var(--disabled-fill-color);\n",
              "    box-shadow: none;\n",
              "  }\n",
              "\n",
              "  .colab-df-spinner {\n",
              "    border: 2px solid var(--fill-color);\n",
              "    border-color: transparent;\n",
              "    border-bottom-color: var(--fill-color);\n",
              "    animation:\n",
              "      spin 1s steps(1) infinite;\n",
              "  }\n",
              "\n",
              "  @keyframes spin {\n",
              "    0% {\n",
              "      border-color: transparent;\n",
              "      border-bottom-color: var(--fill-color);\n",
              "      border-left-color: var(--fill-color);\n",
              "    }\n",
              "    20% {\n",
              "      border-color: transparent;\n",
              "      border-left-color: var(--fill-color);\n",
              "      border-top-color: var(--fill-color);\n",
              "    }\n",
              "    30% {\n",
              "      border-color: transparent;\n",
              "      border-left-color: var(--fill-color);\n",
              "      border-top-color: var(--fill-color);\n",
              "      border-right-color: var(--fill-color);\n",
              "    }\n",
              "    40% {\n",
              "      border-color: transparent;\n",
              "      border-right-color: var(--fill-color);\n",
              "      border-top-color: var(--fill-color);\n",
              "    }\n",
              "    60% {\n",
              "      border-color: transparent;\n",
              "      border-right-color: var(--fill-color);\n",
              "    }\n",
              "    80% {\n",
              "      border-color: transparent;\n",
              "      border-right-color: var(--fill-color);\n",
              "      border-bottom-color: var(--fill-color);\n",
              "    }\n",
              "    90% {\n",
              "      border-color: transparent;\n",
              "      border-bottom-color: var(--fill-color);\n",
              "    }\n",
              "  }\n",
              "</style>\n",
              "\n",
              "  <script>\n",
              "    async function quickchart(key) {\n",
              "      const quickchartButtonEl =\n",
              "        document.querySelector('#' + key + ' button');\n",
              "      quickchartButtonEl.disabled = true;  // To prevent multiple clicks.\n",
              "      quickchartButtonEl.classList.add('colab-df-spinner');\n",
              "      try {\n",
              "        const charts = await google.colab.kernel.invokeFunction(\n",
              "            'suggestCharts', [key], {});\n",
              "      } catch (error) {\n",
              "        console.error('Error during call to suggestCharts:', error);\n",
              "      }\n",
              "      quickchartButtonEl.classList.remove('colab-df-spinner');\n",
              "      quickchartButtonEl.classList.add('colab-df-quickchart-complete');\n",
              "    }\n",
              "    (() => {\n",
              "      let quickchartButtonEl =\n",
              "        document.querySelector('#df-55fd62f9-8d74-465a-a035-d24e9975d3d8 button');\n",
              "      quickchartButtonEl.style.display =\n",
              "        google.colab.kernel.accessAllowed ? 'block' : 'none';\n",
              "    })();\n",
              "  </script>\n",
              "</div>\n",
              "    </div>\n",
              "  </div>\n"
            ],
            "application/vnd.google.colaboratory.intrinsic+json": {
              "type": "dataframe",
              "variable_name": "average_percentage_change_per_city",
              "summary": "{\n  \"name\": \"average_percentage_change_per_city\",\n  \"rows\": 4,\n  \"fields\": [\n    {\n      \"column\": \"city\",\n      \"properties\": {\n        \"dtype\": \"string\",\n        \"num_unique_values\": 4,\n        \"samples\": [\n          \"Heide\",\n          \"L\\u00fcbeck\",\n          \"Flensburg\"\n        ],\n        \"semantic_type\": \"\",\n        \"description\": \"\"\n      }\n    },\n    {\n      \"column\": \"percentage_change\",\n      \"properties\": {\n        \"dtype\": \"number\",\n        \"std\": 0.08861965259802765,\n        \"min\": 0.7224521524171741,\n        \"max\": 0.9206099695870466,\n        \"num_unique_values\": 4,\n        \"samples\": [\n          0.7796096269109747,\n          0.7224521524171741,\n          0.9206099695870466\n        ],\n        \"semantic_type\": \"\",\n        \"description\": \"\"\n      }\n    }\n  ]\n}"
            }
          },
          "metadata": {},
          "execution_count": 21
        }
      ]
    },
    {
      "cell_type": "markdown",
      "source": [
        "### Price Change 2022 and 2023"
      ],
      "metadata": {
        "id": "gMexdiiI8ANS"
      }
    },
    {
      "cell_type": "code",
      "source": [
        "city_names = [\"Kiel\", \"Flensburg\", \"Lübeck\", \"Heide\"]"
      ],
      "metadata": {
        "id": "f21EwOF38eHj"
      },
      "execution_count": 59,
      "outputs": []
    },
    {
      "cell_type": "code",
      "source": [
        "from datetime import datetime\n",
        "\n",
        "# Load the updated data from the uploaded file\n",
        "with open('avg_city_SH_monthly.json', 'r') as file:\n",
        "    updated_data = json.load(file)\n",
        "\n",
        "for city_name in city_names:\n",
        "  city_data = [d for d in updated_data if d['city'] == city_name]\n",
        "  for entry in city_data:\n",
        "      entry['date'] = datetime.utcfromtimestamp(entry['date'] / 1000).strftime('%Y-%m')\n",
        "  city_data_filtered = [d for d in city_data if d['average_price'] is not None]\n",
        "\n",
        "  # Calculate for 2022\n",
        "  city_prices_2022 = [d['average_price'] for d in city_data_filtered if '2022' in d['date']]\n",
        "  price_changes_2022 = [city_prices_2022[i+1] - city_prices_2022[i] for i in range(len(city_prices_2022)-1)]\n",
        "  average_price_change_2022 = sum(price_changes_2022) / len(price_changes_2022) if price_changes_2022 else 0\n",
        "\n",
        "  percent_changes_2022 = [(price_changes_2022[i] / city_prices_2022[i]) * 100 for i in range(len(price_changes_2022))] if price_changes_2022 else [0]\n",
        "  average_percent_change_2022 = sum(percent_changes_2022) / len(percent_changes_2022) if percent_changes_2022 else 0\n",
        "\n",
        "  # Calculate for 2023\n",
        "  city_prices_2023 = [d['average_price'] for d in city_data_filtered if '2023' in d['date']]\n",
        "  price_changes_2023 = [city_prices_2023[i+1] - city_prices_2023[i] for i in range(len(city_prices_2023)-1)]\n",
        "  average_price_change_2023 = sum(price_changes_2023) / len(price_changes_2023) if price_changes_2023 else 0\n",
        "\n",
        "  percent_changes_2023 = [(price_changes_2023[i] / city_prices_2023[i]) * 100 for i in range(len(price_changes_2023))] if price_changes_2023 else [0]\n",
        "  average_percent_change_2023 = sum(percent_changes_2023) / len(percent_changes_2023) if percent_changes_2023 else 0\n",
        "\n",
        "  print(city_name)\n",
        "  print(f\"2022: {average_price_change_2022} €, or {average_percent_change_2022} %\")\n",
        "  print(f\"2023: {average_price_change_2023} €, or {average_percent_change_2023} %\")\n"
      ],
      "metadata": {
        "colab": {
          "base_uri": "https://localhost:8080/"
        },
        "id": "R8Gr0hwFBWKC",
        "outputId": "1b8f432e-8fa1-464a-f488-cddacac80b6a"
      },
      "execution_count": 60,
      "outputs": [
        {
          "output_type": "stream",
          "name": "stdout",
          "text": [
            "Kiel\n",
            "2022: 0.029587814436363612 €, or 0.822677208431401 %\n",
            "2023: 0.04501181756363636 €, or 1.089611637641197 %\n",
            "Flensburg\n",
            "2022: 0.005749601272727268 €, or 0.2893313003093822 %\n",
            "2023: 0.03566621730000003 €, or 0.9709508745361279 %\n",
            "Lübeck\n",
            "2022: 0.05211863245454545 €, or 1.5517245271120914 %\n",
            "2023: 0.023322670818181814 €, or 1.2328595894344152 %\n",
            "Heide\n",
            "2022: 0.045809116809999974 €, or 1.2436370185536147 %\n",
            "2023: 0.053625429550000006 €, or 1.33508842292582 %\n"
          ]
        }
      ]
    },
    {
      "cell_type": "markdown",
      "source": [
        "# Visualization 2: Price Over Time by Status (student/employee/guest)"
      ],
      "metadata": {
        "id": "Yk9BFvePC_D-"
      }
    },
    {
      "cell_type": "markdown",
      "source": [
        "## Graph"
      ],
      "metadata": {
        "id": "v5g7lpV5-xs3"
      }
    },
    {
      "cell_type": "code",
      "source": [
        "df = pd.read_csv(f'{file_path_data}meals_SH_canteens_merged_filtered_.csv', sep='@')\n",
        "df['date'] = pd.to_datetime(df['date'])\n",
        "df['student_price'] = pd.to_numeric(df['student_price'], errors='coerce')\n",
        "df['employee_price'] = pd.to_numeric(df['employee_price'], errors='coerce')\n",
        "df['guest_price'] = pd.to_numeric(df['guest_price'], errors='coerce')\n",
        "\n",
        "# Calculate average prices by month\n",
        "average_prices_by_month = df.groupby(df['date'].dt.to_period('M')).agg({\n",
        "    'student_price': 'mean',\n",
        "    'employee_price': 'mean',\n",
        "    'guest_price': 'mean'\n",
        "}).reset_index()\n",
        "\n",
        "average_prices_by_month['date'] = average_prices_by_month['date'].dt.to_timestamp()\n",
        "\n",
        "fig2 = go.Figure()\n",
        "categories = ['student_price', 'employee_price', 'guest_price']\n",
        "category_labels = ['Students', 'Employees', 'Guests']\n",
        "colors = ['blue', 'red', 'green']\n",
        "\n",
        "for category, label, color in zip(categories, category_labels, colors):\n",
        "    x = average_prices_by_month['date']\n",
        "    y = average_prices_by_month[category]\n",
        "\n",
        "    # Plot\n",
        "    fig2.add_trace(go.Scatter(x=x, y=y, mode='markers+lines', name=label, marker_color=color))\n",
        "\n",
        "    # Linear regression / trend line\n",
        "    x_ordinal = np.array([i.toordinal() for i in x])\n",
        "    x_ordinal = x_ordinal.reshape(-1, 1)\n",
        "    y_values = y.values.reshape(-1, 1)\n",
        "    model = LinearRegression().fit(x_ordinal, y_values)\n",
        "\n",
        "    # Plot\n",
        "    y_pred = model.predict(x_ordinal)\n",
        "    fig2.add_trace(go.Scatter(x=x, y=y_pred.flatten(), mode='lines', name=f'{label} Trend', line=dict(color=color, dash='dash')))\n",
        "\n",
        "fig2.update_layout(title='Average Meal Prices in Schleswig-Holstein',\n",
        "                  xaxis_title='Date',\n",
        "                  yaxis_title='Average Price (€)',\n",
        "                  legend_title=\"Category\",\n",
        "                  xaxis=dict(tickangle=-45))\n",
        "\n",
        "# Make graph interactive\n",
        "fig2.update_layout(\n",
        "    updatemenus=[\n",
        "        dict(\n",
        "            buttons=list([\n",
        "                dict(label=\"All\",\n",
        "                     method=\"update\",\n",
        "                     args=[{\"visible\": [True, True, True, True, True, True]},\n",
        "                           {\"title\": \"All Categories\"}]),\n",
        "                dict(label=\"Students\",\n",
        "                     method=\"update\",\n",
        "                     args=[{\"visible\": [True, True, False, False, False, False]},\n",
        "                           {\"title\": \"Average Prices for Students\"}]),\n",
        "                dict(label=\"Employees\",\n",
        "                     method=\"update\",\n",
        "                     args=[{\"visible\": [False, False, True, True, False, False]},\n",
        "                           {\"title\": \"Average Prices for Employees\"}]),\n",
        "                dict(label=\"Guests\",\n",
        "                     method=\"update\",\n",
        "                     args=[{\"visible\": [False, False, False, False, True, True]},\n",
        "                           {\"title\": \"Average Prices for Guests\"}]),\n",
        "            ]),\n",
        "            direction=\"down\",\n",
        "            pad={\"r\": 10, \"t\": 10},\n",
        "            showactive=True,\n",
        "            x=0,\n",
        "            xanchor=\"left\",\n",
        "            y=1.15,\n",
        "            yanchor=\"top\"\n",
        "        ),\n",
        "    ]\n",
        ")\n",
        "\n",
        "# fig2.show()"
      ],
      "metadata": {
        "colab": {
          "base_uri": "https://localhost:8080/",
          "height": 562
        },
        "id": "EQbuSubGDE-2",
        "outputId": "08bdb9ee-0fd1-4afe-f05c-ca421fe4977a"
      },
      "execution_count": 37,
      "outputs": [
        {
          "output_type": "display_data",
          "data": {
            "text/html": [
              "<html>\n",
              "<head><meta charset=\"utf-8\" /></head>\n",
              "<body>\n",
              "    <div>            <script src=\"https://cdnjs.cloudflare.com/ajax/libs/mathjax/2.7.5/MathJax.js?config=TeX-AMS-MML_SVG\"></script><script type=\"text/javascript\">if (window.MathJax && window.MathJax.Hub && window.MathJax.Hub.Config) {window.MathJax.Hub.Config({SVG: {font: \"STIX-Web\"}});}</script>                <script type=\"text/javascript\">window.PlotlyConfig = {MathJaxConfig: 'local'};</script>\n",
              "        <script charset=\"utf-8\" src=\"https://cdn.plot.ly/plotly-2.24.1.min.js\"></script>                <div id=\"c6c1f29f-3c41-49ee-a59b-7df2563ab469\" class=\"plotly-graph-div\" style=\"height:525px; width:100%;\"></div>            <script type=\"text/javascript\">                                    window.PLOTLYENV=window.PLOTLYENV || {};                                    if (document.getElementById(\"c6c1f29f-3c41-49ee-a59b-7df2563ab469\")) {                    Plotly.newPlot(                        \"c6c1f29f-3c41-49ee-a59b-7df2563ab469\",                        [{\"marker\":{\"color\":\"blue\"},\"mode\":\"markers+lines\",\"name\":\"Students\",\"x\":[\"2021-08-01T00:00:00\",\"2021-09-01T00:00:00\",\"2021-10-01T00:00:00\",\"2021-11-01T00:00:00\",\"2021-12-01T00:00:00\",\"2022-01-01T00:00:00\",\"2022-02-01T00:00:00\",\"2022-03-01T00:00:00\",\"2022-04-01T00:00:00\",\"2022-05-01T00:00:00\",\"2022-06-01T00:00:00\",\"2022-07-01T00:00:00\",\"2022-08-01T00:00:00\",\"2022-09-01T00:00:00\",\"2022-10-01T00:00:00\",\"2022-11-01T00:00:00\",\"2022-12-01T00:00:00\",\"2023-01-01T00:00:00\",\"2023-02-01T00:00:00\",\"2023-03-01T00:00:00\",\"2023-04-01T00:00:00\",\"2023-05-01T00:00:00\",\"2023-06-01T00:00:00\",\"2023-07-01T00:00:00\",\"2023-08-01T00:00:00\",\"2023-09-01T00:00:00\",\"2023-10-01T00:00:00\",\"2023-11-01T00:00:00\",\"2023-12-01T00:00:00\",\"2024-01-01T00:00:00\",\"2024-02-01T00:00:00\",\"2024-03-01T00:00:00\"],\"y\":[2.783333333333333,2.9418367346938776,2.8238584474885844,2.98672032193159,2.8422619047619047,2.7510273972602737,2.90839552238806,2.97312661498708,3.020853658536585,3.1026315789473684,3.119387755102041,3.2304597701149427,3.375757575757576,3.471633237822349,3.4457507082152974,3.4402578796561603,3.5139218009478674,3.3145,3.2720108695652175,3.450282051282051,3.518732525629077,3.535551663747811,3.522366220735786,3.5645,3.6464187327823696,3.695814581458146,4.071511627906976,3.516114109483423,3.5769674711437567,3.5216289104638623,3.4635947046843176,3.582142857142857],\"type\":\"scatter\"},{\"line\":{\"color\":\"blue\",\"dash\":\"dash\"},\"mode\":\"lines\",\"name\":\"Students Trend\",\"x\":[\"2021-08-01T00:00:00\",\"2021-09-01T00:00:00\",\"2021-10-01T00:00:00\",\"2021-11-01T00:00:00\",\"2021-12-01T00:00:00\",\"2022-01-01T00:00:00\",\"2022-02-01T00:00:00\",\"2022-03-01T00:00:00\",\"2022-04-01T00:00:00\",\"2022-05-01T00:00:00\",\"2022-06-01T00:00:00\",\"2022-07-01T00:00:00\",\"2022-08-01T00:00:00\",\"2022-09-01T00:00:00\",\"2022-10-01T00:00:00\",\"2022-11-01T00:00:00\",\"2022-12-01T00:00:00\",\"2023-01-01T00:00:00\",\"2023-02-01T00:00:00\",\"2023-03-01T00:00:00\",\"2023-04-01T00:00:00\",\"2023-05-01T00:00:00\",\"2023-06-01T00:00:00\",\"2023-07-01T00:00:00\",\"2023-08-01T00:00:00\",\"2023-09-01T00:00:00\",\"2023-10-01T00:00:00\",\"2023-11-01T00:00:00\",\"2023-12-01T00:00:00\",\"2024-01-01T00:00:00\",\"2024-02-01T00:00:00\",\"2024-03-01T00:00:00\"],\"y\":[2.8486265445702657,2.8790787994657876,2.908548723558283,2.939000978453805,2.968470902546187,2.9989231574418227,3.0293754123373446,3.056880674823674,3.087332929719196,3.1168028538116914,3.1472551087072134,3.176725032799709,3.207177287695231,3.237629542590753,3.2670994666832485,3.2975517215787704,3.327021645671266,3.357473900566788,3.38792615546231,3.415431417948639,3.445883672844161,3.4753535969366567,3.5058058518321786,3.5352757759246742,3.565728030820196,3.596180285715718,3.6256502098082137,3.6561024647037357,3.6855723887962313,3.7160246436917532,3.746476898587275,3.7749644918767444],\"type\":\"scatter\"},{\"marker\":{\"color\":\"red\"},\"mode\":\"markers+lines\",\"name\":\"Employees\",\"x\":[\"2021-08-01T00:00:00\",\"2021-09-01T00:00:00\",\"2021-10-01T00:00:00\",\"2021-11-01T00:00:00\",\"2021-12-01T00:00:00\",\"2022-01-01T00:00:00\",\"2022-02-01T00:00:00\",\"2022-03-01T00:00:00\",\"2022-04-01T00:00:00\",\"2022-05-01T00:00:00\",\"2022-06-01T00:00:00\",\"2022-07-01T00:00:00\",\"2022-08-01T00:00:00\",\"2022-09-01T00:00:00\",\"2022-10-01T00:00:00\",\"2022-11-01T00:00:00\",\"2022-12-01T00:00:00\",\"2023-01-01T00:00:00\",\"2023-02-01T00:00:00\",\"2023-03-01T00:00:00\",\"2023-04-01T00:00:00\",\"2023-05-01T00:00:00\",\"2023-06-01T00:00:00\",\"2023-07-01T00:00:00\",\"2023-08-01T00:00:00\",\"2023-09-01T00:00:00\",\"2023-10-01T00:00:00\",\"2023-11-01T00:00:00\",\"2023-12-01T00:00:00\",\"2024-01-01T00:00:00\",\"2024-02-01T00:00:00\",\"2024-03-01T00:00:00\"],\"y\":[3.983333333333333,4.141836734693877,3.979337899543379,4.120623742454728,3.966517857142857,3.8657534246575342,4.069589552238806,4.131524547803618,4.600365853658537,4.894,4.892403628117914,4.678735632183908,4.182575757575758,4.4502865329512895,4.427195467422096,4.248758357211079,4.238388625592417,4.163875,4.320380434782609,4.45905982905983,4.3036346691519105,4.536453590192645,4.576797658862876,4.5199,4.553719008264463,4.712466246624663,4.527906976744186,4.673284502698535,4.673976915005246,4.719417475728155,4.812525458248472,5.069047619047619],\"type\":\"scatter\"},{\"line\":{\"color\":\"red\",\"dash\":\"dash\"},\"mode\":\"lines\",\"name\":\"Employees Trend\",\"x\":[\"2021-08-01T00:00:00\",\"2021-09-01T00:00:00\",\"2021-10-01T00:00:00\",\"2021-11-01T00:00:00\",\"2021-12-01T00:00:00\",\"2022-01-01T00:00:00\",\"2022-02-01T00:00:00\",\"2022-03-01T00:00:00\",\"2022-04-01T00:00:00\",\"2022-05-01T00:00:00\",\"2022-06-01T00:00:00\",\"2022-07-01T00:00:00\",\"2022-08-01T00:00:00\",\"2022-09-01T00:00:00\",\"2022-10-01T00:00:00\",\"2022-11-01T00:00:00\",\"2022-12-01T00:00:00\",\"2023-01-01T00:00:00\",\"2023-02-01T00:00:00\",\"2023-03-01T00:00:00\",\"2023-04-01T00:00:00\",\"2023-05-01T00:00:00\",\"2023-06-01T00:00:00\",\"2023-07-01T00:00:00\",\"2023-08-01T00:00:00\",\"2023-09-01T00:00:00\",\"2023-10-01T00:00:00\",\"2023-11-01T00:00:00\",\"2023-12-01T00:00:00\",\"2024-01-01T00:00:00\",\"2024-02-01T00:00:00\",\"2024-03-01T00:00:00\"],\"y\":[4.068658989215123,4.091859872013515,4.114312339237813,4.137513222036205,4.159965689260503,4.183166572058894,4.206367454857286,4.227323090933282,4.250523973731788,4.272976440955972,4.296177323754478,4.318629790978662,4.341830673777167,4.365031556575559,4.387484023799857,4.410684906598249,4.433137373822547,4.456338256620938,4.47953913941933,4.500494775495326,4.523695658293832,4.546148125518016,4.569349008316522,4.591801475540706,4.615002358339211,4.638203241137603,4.660655708361901,4.683856591160293,4.706309058384591,4.729509941182982,4.752710823981374,4.774414875631578],\"type\":\"scatter\"},{\"marker\":{\"color\":\"green\"},\"mode\":\"markers+lines\",\"name\":\"Guests\",\"x\":[\"2021-08-01T00:00:00\",\"2021-09-01T00:00:00\",\"2021-10-01T00:00:00\",\"2021-11-01T00:00:00\",\"2021-12-01T00:00:00\",\"2022-01-01T00:00:00\",\"2022-02-01T00:00:00\",\"2022-03-01T00:00:00\",\"2022-04-01T00:00:00\",\"2022-05-01T00:00:00\",\"2022-06-01T00:00:00\",\"2022-07-01T00:00:00\",\"2022-08-01T00:00:00\",\"2022-09-01T00:00:00\",\"2022-10-01T00:00:00\",\"2022-11-01T00:00:00\",\"2022-12-01T00:00:00\",\"2023-01-01T00:00:00\",\"2023-02-01T00:00:00\",\"2023-03-01T00:00:00\",\"2023-04-01T00:00:00\",\"2023-05-01T00:00:00\",\"2023-06-01T00:00:00\",\"2023-07-01T00:00:00\",\"2023-08-01T00:00:00\",\"2023-09-01T00:00:00\",\"2023-10-01T00:00:00\",\"2023-11-01T00:00:00\",\"2023-12-01T00:00:00\",\"2024-01-01T00:00:00\",\"2024-02-01T00:00:00\",\"2024-03-01T00:00:00\"],\"y\":[4.388888888888889,4.66115107913669,4.7533622559652935,4.919379844961241,4.6213958810068645,4.357259953161592,4.597331460674158,4.6988396624472575,5.037626774847871,5.233304042179262,5.34375,5.029081632653061,4.497727272727273,4.832449856733525,4.810339943342776,4.5733524355300865,4.493364928909953,4.4913125,4.730054347826086,4.873547008547009,4.798863000931966,4.922985989492119,4.9876254180602,4.895899999999999,4.906198347107438,5.103240324032403,4.6377906976744185,5.098496530454896,5.043074501573977,5.1478425026968715,5.272505091649695,5.602380952380952],\"type\":\"scatter\"},{\"line\":{\"color\":\"green\",\"dash\":\"dash\"},\"mode\":\"lines\",\"name\":\"Guests Trend\",\"x\":[\"2021-08-01T00:00:00\",\"2021-09-01T00:00:00\",\"2021-10-01T00:00:00\",\"2021-11-01T00:00:00\",\"2021-12-01T00:00:00\",\"2022-01-01T00:00:00\",\"2022-02-01T00:00:00\",\"2022-03-01T00:00:00\",\"2022-04-01T00:00:00\",\"2022-05-01T00:00:00\",\"2022-06-01T00:00:00\",\"2022-07-01T00:00:00\",\"2022-08-01T00:00:00\",\"2022-09-01T00:00:00\",\"2022-10-01T00:00:00\",\"2022-11-01T00:00:00\",\"2022-12-01T00:00:00\",\"2023-01-01T00:00:00\",\"2023-02-01T00:00:00\",\"2023-03-01T00:00:00\",\"2023-04-01T00:00:00\",\"2023-05-01T00:00:00\",\"2023-06-01T00:00:00\",\"2023-07-01T00:00:00\",\"2023-08-01T00:00:00\",\"2023-09-01T00:00:00\",\"2023-10-01T00:00:00\",\"2023-11-01T00:00:00\",\"2023-12-01T00:00:00\",\"2024-01-01T00:00:00\",\"2024-02-01T00:00:00\",\"2024-03-01T00:00:00\"],\"y\":[4.604742336407753,4.621190509137136,4.63710809564941,4.653556268378736,4.6694738548910095,4.685922027620393,4.702370200349719,4.7172266144278865,4.733674787157213,4.749592373669486,4.7660405463988695,4.781958132911143,4.798406305640526,4.814854478369853,4.830772064882126,4.847220237611509,4.863137824123783,4.879585996853109,4.896034169582492,4.910890583660603,4.927338756389986,4.943256342902259,4.959704515631586,4.975622102143916,4.992070274873242,5.008518447602626,5.024436034114899,5.0408842068442254,5.056801793356499,5.073249966085882,5.0896981388152085,5.105085139110429],\"type\":\"scatter\"}],                        {\"template\":{\"data\":{\"histogram2dcontour\":[{\"type\":\"histogram2dcontour\",\"colorbar\":{\"outlinewidth\":0,\"ticks\":\"\"},\"colorscale\":[[0.0,\"#0d0887\"],[0.1111111111111111,\"#46039f\"],[0.2222222222222222,\"#7201a8\"],[0.3333333333333333,\"#9c179e\"],[0.4444444444444444,\"#bd3786\"],[0.5555555555555556,\"#d8576b\"],[0.6666666666666666,\"#ed7953\"],[0.7777777777777778,\"#fb9f3a\"],[0.8888888888888888,\"#fdca26\"],[1.0,\"#f0f921\"]]}],\"choropleth\":[{\"type\":\"choropleth\",\"colorbar\":{\"outlinewidth\":0,\"ticks\":\"\"}}],\"histogram2d\":[{\"type\":\"histogram2d\",\"colorbar\":{\"outlinewidth\":0,\"ticks\":\"\"},\"colorscale\":[[0.0,\"#0d0887\"],[0.1111111111111111,\"#46039f\"],[0.2222222222222222,\"#7201a8\"],[0.3333333333333333,\"#9c179e\"],[0.4444444444444444,\"#bd3786\"],[0.5555555555555556,\"#d8576b\"],[0.6666666666666666,\"#ed7953\"],[0.7777777777777778,\"#fb9f3a\"],[0.8888888888888888,\"#fdca26\"],[1.0,\"#f0f921\"]]}],\"heatmap\":[{\"type\":\"heatmap\",\"colorbar\":{\"outlinewidth\":0,\"ticks\":\"\"},\"colorscale\":[[0.0,\"#0d0887\"],[0.1111111111111111,\"#46039f\"],[0.2222222222222222,\"#7201a8\"],[0.3333333333333333,\"#9c179e\"],[0.4444444444444444,\"#bd3786\"],[0.5555555555555556,\"#d8576b\"],[0.6666666666666666,\"#ed7953\"],[0.7777777777777778,\"#fb9f3a\"],[0.8888888888888888,\"#fdca26\"],[1.0,\"#f0f921\"]]}],\"heatmapgl\":[{\"type\":\"heatmapgl\",\"colorbar\":{\"outlinewidth\":0,\"ticks\":\"\"},\"colorscale\":[[0.0,\"#0d0887\"],[0.1111111111111111,\"#46039f\"],[0.2222222222222222,\"#7201a8\"],[0.3333333333333333,\"#9c179e\"],[0.4444444444444444,\"#bd3786\"],[0.5555555555555556,\"#d8576b\"],[0.6666666666666666,\"#ed7953\"],[0.7777777777777778,\"#fb9f3a\"],[0.8888888888888888,\"#fdca26\"],[1.0,\"#f0f921\"]]}],\"contourcarpet\":[{\"type\":\"contourcarpet\",\"colorbar\":{\"outlinewidth\":0,\"ticks\":\"\"}}],\"contour\":[{\"type\":\"contour\",\"colorbar\":{\"outlinewidth\":0,\"ticks\":\"\"},\"colorscale\":[[0.0,\"#0d0887\"],[0.1111111111111111,\"#46039f\"],[0.2222222222222222,\"#7201a8\"],[0.3333333333333333,\"#9c179e\"],[0.4444444444444444,\"#bd3786\"],[0.5555555555555556,\"#d8576b\"],[0.6666666666666666,\"#ed7953\"],[0.7777777777777778,\"#fb9f3a\"],[0.8888888888888888,\"#fdca26\"],[1.0,\"#f0f921\"]]}],\"surface\":[{\"type\":\"surface\",\"colorbar\":{\"outlinewidth\":0,\"ticks\":\"\"},\"colorscale\":[[0.0,\"#0d0887\"],[0.1111111111111111,\"#46039f\"],[0.2222222222222222,\"#7201a8\"],[0.3333333333333333,\"#9c179e\"],[0.4444444444444444,\"#bd3786\"],[0.5555555555555556,\"#d8576b\"],[0.6666666666666666,\"#ed7953\"],[0.7777777777777778,\"#fb9f3a\"],[0.8888888888888888,\"#fdca26\"],[1.0,\"#f0f921\"]]}],\"mesh3d\":[{\"type\":\"mesh3d\",\"colorbar\":{\"outlinewidth\":0,\"ticks\":\"\"}}],\"scatter\":[{\"fillpattern\":{\"fillmode\":\"overlay\",\"size\":10,\"solidity\":0.2},\"type\":\"scatter\"}],\"parcoords\":[{\"type\":\"parcoords\",\"line\":{\"colorbar\":{\"outlinewidth\":0,\"ticks\":\"\"}}}],\"scatterpolargl\":[{\"type\":\"scatterpolargl\",\"marker\":{\"colorbar\":{\"outlinewidth\":0,\"ticks\":\"\"}}}],\"bar\":[{\"error_x\":{\"color\":\"#2a3f5f\"},\"error_y\":{\"color\":\"#2a3f5f\"},\"marker\":{\"line\":{\"color\":\"#E5ECF6\",\"width\":0.5},\"pattern\":{\"fillmode\":\"overlay\",\"size\":10,\"solidity\":0.2}},\"type\":\"bar\"}],\"scattergeo\":[{\"type\":\"scattergeo\",\"marker\":{\"colorbar\":{\"outlinewidth\":0,\"ticks\":\"\"}}}],\"scatterpolar\":[{\"type\":\"scatterpolar\",\"marker\":{\"colorbar\":{\"outlinewidth\":0,\"ticks\":\"\"}}}],\"histogram\":[{\"marker\":{\"pattern\":{\"fillmode\":\"overlay\",\"size\":10,\"solidity\":0.2}},\"type\":\"histogram\"}],\"scattergl\":[{\"type\":\"scattergl\",\"marker\":{\"colorbar\":{\"outlinewidth\":0,\"ticks\":\"\"}}}],\"scatter3d\":[{\"type\":\"scatter3d\",\"line\":{\"colorbar\":{\"outlinewidth\":0,\"ticks\":\"\"}},\"marker\":{\"colorbar\":{\"outlinewidth\":0,\"ticks\":\"\"}}}],\"scattermapbox\":[{\"type\":\"scattermapbox\",\"marker\":{\"colorbar\":{\"outlinewidth\":0,\"ticks\":\"\"}}}],\"scatterternary\":[{\"type\":\"scatterternary\",\"marker\":{\"colorbar\":{\"outlinewidth\":0,\"ticks\":\"\"}}}],\"scattercarpet\":[{\"type\":\"scattercarpet\",\"marker\":{\"colorbar\":{\"outlinewidth\":0,\"ticks\":\"\"}}}],\"carpet\":[{\"aaxis\":{\"endlinecolor\":\"#2a3f5f\",\"gridcolor\":\"white\",\"linecolor\":\"white\",\"minorgridcolor\":\"white\",\"startlinecolor\":\"#2a3f5f\"},\"baxis\":{\"endlinecolor\":\"#2a3f5f\",\"gridcolor\":\"white\",\"linecolor\":\"white\",\"minorgridcolor\":\"white\",\"startlinecolor\":\"#2a3f5f\"},\"type\":\"carpet\"}],\"table\":[{\"cells\":{\"fill\":{\"color\":\"#EBF0F8\"},\"line\":{\"color\":\"white\"}},\"header\":{\"fill\":{\"color\":\"#C8D4E3\"},\"line\":{\"color\":\"white\"}},\"type\":\"table\"}],\"barpolar\":[{\"marker\":{\"line\":{\"color\":\"#E5ECF6\",\"width\":0.5},\"pattern\":{\"fillmode\":\"overlay\",\"size\":10,\"solidity\":0.2}},\"type\":\"barpolar\"}],\"pie\":[{\"automargin\":true,\"type\":\"pie\"}]},\"layout\":{\"autotypenumbers\":\"strict\",\"colorway\":[\"#636efa\",\"#EF553B\",\"#00cc96\",\"#ab63fa\",\"#FFA15A\",\"#19d3f3\",\"#FF6692\",\"#B6E880\",\"#FF97FF\",\"#FECB52\"],\"font\":{\"color\":\"#2a3f5f\"},\"hovermode\":\"closest\",\"hoverlabel\":{\"align\":\"left\"},\"paper_bgcolor\":\"white\",\"plot_bgcolor\":\"#E5ECF6\",\"polar\":{\"bgcolor\":\"#E5ECF6\",\"angularaxis\":{\"gridcolor\":\"white\",\"linecolor\":\"white\",\"ticks\":\"\"},\"radialaxis\":{\"gridcolor\":\"white\",\"linecolor\":\"white\",\"ticks\":\"\"}},\"ternary\":{\"bgcolor\":\"#E5ECF6\",\"aaxis\":{\"gridcolor\":\"white\",\"linecolor\":\"white\",\"ticks\":\"\"},\"baxis\":{\"gridcolor\":\"white\",\"linecolor\":\"white\",\"ticks\":\"\"},\"caxis\":{\"gridcolor\":\"white\",\"linecolor\":\"white\",\"ticks\":\"\"}},\"coloraxis\":{\"colorbar\":{\"outlinewidth\":0,\"ticks\":\"\"}},\"colorscale\":{\"sequential\":[[0.0,\"#0d0887\"],[0.1111111111111111,\"#46039f\"],[0.2222222222222222,\"#7201a8\"],[0.3333333333333333,\"#9c179e\"],[0.4444444444444444,\"#bd3786\"],[0.5555555555555556,\"#d8576b\"],[0.6666666666666666,\"#ed7953\"],[0.7777777777777778,\"#fb9f3a\"],[0.8888888888888888,\"#fdca26\"],[1.0,\"#f0f921\"]],\"sequentialminus\":[[0.0,\"#0d0887\"],[0.1111111111111111,\"#46039f\"],[0.2222222222222222,\"#7201a8\"],[0.3333333333333333,\"#9c179e\"],[0.4444444444444444,\"#bd3786\"],[0.5555555555555556,\"#d8576b\"],[0.6666666666666666,\"#ed7953\"],[0.7777777777777778,\"#fb9f3a\"],[0.8888888888888888,\"#fdca26\"],[1.0,\"#f0f921\"]],\"diverging\":[[0,\"#8e0152\"],[0.1,\"#c51b7d\"],[0.2,\"#de77ae\"],[0.3,\"#f1b6da\"],[0.4,\"#fde0ef\"],[0.5,\"#f7f7f7\"],[0.6,\"#e6f5d0\"],[0.7,\"#b8e186\"],[0.8,\"#7fbc41\"],[0.9,\"#4d9221\"],[1,\"#276419\"]]},\"xaxis\":{\"gridcolor\":\"white\",\"linecolor\":\"white\",\"ticks\":\"\",\"title\":{\"standoff\":15},\"zerolinecolor\":\"white\",\"automargin\":true,\"zerolinewidth\":2},\"yaxis\":{\"gridcolor\":\"white\",\"linecolor\":\"white\",\"ticks\":\"\",\"title\":{\"standoff\":15},\"zerolinecolor\":\"white\",\"automargin\":true,\"zerolinewidth\":2},\"scene\":{\"xaxis\":{\"backgroundcolor\":\"#E5ECF6\",\"gridcolor\":\"white\",\"linecolor\":\"white\",\"showbackground\":true,\"ticks\":\"\",\"zerolinecolor\":\"white\",\"gridwidth\":2},\"yaxis\":{\"backgroundcolor\":\"#E5ECF6\",\"gridcolor\":\"white\",\"linecolor\":\"white\",\"showbackground\":true,\"ticks\":\"\",\"zerolinecolor\":\"white\",\"gridwidth\":2},\"zaxis\":{\"backgroundcolor\":\"#E5ECF6\",\"gridcolor\":\"white\",\"linecolor\":\"white\",\"showbackground\":true,\"ticks\":\"\",\"zerolinecolor\":\"white\",\"gridwidth\":2}},\"shapedefaults\":{\"line\":{\"color\":\"#2a3f5f\"}},\"annotationdefaults\":{\"arrowcolor\":\"#2a3f5f\",\"arrowhead\":0,\"arrowwidth\":1},\"geo\":{\"bgcolor\":\"white\",\"landcolor\":\"#E5ECF6\",\"subunitcolor\":\"white\",\"showland\":true,\"showlakes\":true,\"lakecolor\":\"white\"},\"title\":{\"x\":0.05},\"mapbox\":{\"style\":\"light\"}}},\"xaxis\":{\"title\":{\"text\":\"Date\"},\"tickangle\":-45},\"title\":{\"text\":\"Average Meal Prices in Schleswig-Holstein\"},\"yaxis\":{\"title\":{\"text\":\"Average Price (\\u20ac)\"}},\"legend\":{\"title\":{\"text\":\"Category\"}},\"updatemenus\":[{\"buttons\":[{\"args\":[{\"visible\":[true,true,true,true,true,true]},{\"title\":\"All Categories\"}],\"label\":\"All\",\"method\":\"update\"},{\"args\":[{\"visible\":[true,true,false,false,false,false]},{\"title\":\"Average Prices for Students\"}],\"label\":\"Students\",\"method\":\"update\"},{\"args\":[{\"visible\":[false,false,true,true,false,false]},{\"title\":\"Average Prices for Employees\"}],\"label\":\"Employees\",\"method\":\"update\"},{\"args\":[{\"visible\":[false,false,false,false,true,true]},{\"title\":\"Average Prices for Guests\"}],\"label\":\"Guests\",\"method\":\"update\"}],\"direction\":\"down\",\"pad\":{\"r\":10,\"t\":10},\"showactive\":true,\"x\":0,\"xanchor\":\"left\",\"y\":1.15,\"yanchor\":\"top\"}]},                        {\"responsive\": true}                    ).then(function(){\n",
              "                            \n",
              "var gd = document.getElementById('c6c1f29f-3c41-49ee-a59b-7df2563ab469');\n",
              "var x = new MutationObserver(function (mutations, observer) {{\n",
              "        var display = window.getComputedStyle(gd).display;\n",
              "        if (!display || display === 'none') {{\n",
              "            console.log([gd, 'removed!']);\n",
              "            Plotly.purge(gd);\n",
              "            observer.disconnect();\n",
              "        }}\n",
              "}});\n",
              "\n",
              "// Listen for the removal of the full notebook cells\n",
              "var notebookContainer = gd.closest('#notebook-container');\n",
              "if (notebookContainer) {{\n",
              "    x.observe(notebookContainer, {childList: true});\n",
              "}}\n",
              "\n",
              "// Listen for the clearing of the current output cell\n",
              "var outputEl = gd.closest('.output');\n",
              "if (outputEl) {{\n",
              "    x.observe(outputEl, {childList: true});\n",
              "}}\n",
              "\n",
              "                        })                };                            </script>        </div>\n",
              "</body>\n",
              "</html>"
            ]
          },
          "metadata": {}
        }
      ]
    },
    {
      "cell_type": "markdown",
      "source": [
        "## Calculations (run Graph for this first)"
      ],
      "metadata": {
        "id": "J1WCpJ47-z5K"
      }
    },
    {
      "cell_type": "code",
      "source": [
        "average_price_changes = {}\n",
        "percentage_changes = {}\n",
        "\n",
        "for category in categories:\n",
        "    # Price change\n",
        "    average_price_changes[category] = average_prices_by_month[category].diff().mean()\n",
        "\n",
        "    # Percentage change\n",
        "    percentage_changes[category] = average_prices_by_month[category].pct_change().mean() * 100\n",
        "\n",
        "print(f\"In € {average_price_changes} \\nIn % {percentage_changes}\")"
      ],
      "metadata": {
        "colab": {
          "base_uri": "https://localhost:8080/"
        },
        "id": "nO6VITl_-4YD",
        "outputId": "003a559d-42cf-499f-ea5a-3b6d641ab804"
      },
      "execution_count": 40,
      "outputs": [
        {
          "output_type": "stream",
          "name": "stdout",
          "text": [
            "In € {'student_price': 0.025768049155145925, 'employee_price': 0.03502304147465438, 'guest_price': 0.039144905273937505} \n",
            "In % {'student_price': 0.9113037895647127, 'employee_price': 0.8727065204908688, 'guest_price': 0.9102749329938669}\n"
          ]
        }
      ]
    },
    {
      "cell_type": "markdown",
      "source": [
        "# Visualization 3: Price Over Time by Category"
      ],
      "metadata": {
        "id": "YbYd7UriCz0h"
      }
    },
    {
      "cell_type": "markdown",
      "source": [
        "## Graph"
      ],
      "metadata": {
        "id": "Ts4l21uaChI8"
      }
    },
    {
      "cell_type": "code",
      "source": [
        "with open(f'{file_path_data}monthly_avg.json', 'r') as file:\n",
        "    monthly_data = json.load(file)\n",
        "\n",
        "# DataFrame\n",
        "df_monthly = pd.DataFrame(monthly_data)\n",
        "df_monthly['date'] = pd.to_datetime(df_monthly['date'], unit='ms')\n",
        "\n",
        "colors = {'all': 'red', 'vegan': 'green', 'veget.': 'blue', 'meat': 'purple'}\n",
        "fig3 = go.Figure()\n",
        "\n",
        "trace_names = ['all', 'vegan', 'veget.', 'meat']\n",
        "trace_visibility = {\n",
        "    'All': [True] * 8,\n",
        "    'Overall': [True, True] + [False] * 6,\n",
        "    'Vegan': [False] * 2 + [True, True] + [False] * 4,\n",
        "    'Veget.': [False] * 4 + [True, True] + [False] * 2,\n",
        "    'Meat': [False] * 6 + [True, True],\n",
        "}\n",
        "\n",
        "for category in trace_names:\n",
        "    display_name = 'overall' if category == 'all' else category\n",
        "\n",
        "    fig3.add_trace(\n",
        "        go.Scatter(x=df_monthly['date'], y=df_monthly[category], mode='markers+lines', name=display_name, marker_color=colors[category]),\n",
        "    )\n",
        "\n",
        "    # Linear regression\n",
        "    df_non_null = df_monthly.dropna(subset=[category])\n",
        "    X = np.array(range(len(df_non_null))).reshape(-1, 1)\n",
        "    y = df_non_null[category].values.reshape(-1, 1)\n",
        "    model = LinearRegression().fit(X, y)\n",
        "    trend_line = model.predict(np.array(range(len(df_monthly))).reshape(-1, 1))\n",
        "\n",
        "    fig3.add_trace(\n",
        "        go.Scatter(x=df_monthly['date'], y=trend_line.ravel(), mode='lines', name=f'{display_name} trend', line=dict(color=colors[category], dash='dot')),\n",
        "    )\n",
        "\n",
        "# Dropdown menu\n",
        "buttons = []\n",
        "for label, visibility in trace_visibility.items():\n",
        "    button = dict(\n",
        "        label=label,\n",
        "        method=\"update\",\n",
        "        args=[{\"visible\": visibility},\n",
        "              {\"title\": f\"Monthly Average Prices by Category - {label}\"}])\n",
        "    buttons.append(button)\n",
        "\n",
        "fig3.update_layout(\n",
        "    updatemenus=[dict(\n",
        "        buttons=buttons,\n",
        "        direction=\"down\",\n",
        "        pad={\"r\": 10, \"t\": 10},\n",
        "        showactive=True,\n",
        "        x=0,\n",
        "        xanchor=\"left\",\n",
        "        y=1.15,\n",
        "        yanchor=\"top\"\n",
        "    )],\n",
        "    title='Monthly Average Prices by Category',\n",
        "    xaxis_title='Date (per Month)',\n",
        "    yaxis_title='Price (in €)',\n",
        "    legend=dict(title=\"Category\", orientation=\"v\", x=1, xanchor=\"left\", y=1, yanchor=\"auto\")\n",
        ")\n",
        "\n",
        "# fig3.show()\n"
      ],
      "metadata": {
        "colab": {
          "base_uri": "https://localhost:8080/",
          "height": 542
        },
        "id": "ZU-mACdTHGse",
        "outputId": "09decaa7-4741-455c-e0df-b220680d0eca"
      },
      "execution_count": 74,
      "outputs": [
        {
          "output_type": "display_data",
          "data": {
            "text/html": [
              "<html>\n",
              "<head><meta charset=\"utf-8\" /></head>\n",
              "<body>\n",
              "    <div>            <script src=\"https://cdnjs.cloudflare.com/ajax/libs/mathjax/2.7.5/MathJax.js?config=TeX-AMS-MML_SVG\"></script><script type=\"text/javascript\">if (window.MathJax && window.MathJax.Hub && window.MathJax.Hub.Config) {window.MathJax.Hub.Config({SVG: {font: \"STIX-Web\"}});}</script>                <script type=\"text/javascript\">window.PlotlyConfig = {MathJaxConfig: 'local'};</script>\n",
              "        <script charset=\"utf-8\" src=\"https://cdn.plot.ly/plotly-2.24.1.min.js\"></script>                <div id=\"23772be2-e135-4825-bf48-6604557debba\" class=\"plotly-graph-div\" style=\"height:525px; width:100%;\"></div>            <script type=\"text/javascript\">                                    window.PLOTLYENV=window.PLOTLYENV || {};                                    if (document.getElementById(\"23772be2-e135-4825-bf48-6604557debba\")) {                    Plotly.newPlot(                        \"23772be2-e135-4825-bf48-6604557debba\",                        [{\"marker\":{\"color\":\"red\"},\"mode\":\"markers+lines\",\"name\":\"overall\",\"x\":[\"2021-08-31T00:00:00\",\"2021-09-30T00:00:00\",\"2021-10-31T00:00:00\",\"2021-11-30T00:00:00\",\"2021-12-31T00:00:00\",\"2022-01-31T00:00:00\",\"2022-02-28T00:00:00\",\"2022-03-31T00:00:00\",\"2022-04-30T00:00:00\",\"2022-05-31T00:00:00\",\"2022-06-30T00:00:00\",\"2022-07-31T00:00:00\",\"2022-08-31T00:00:00\",\"2022-09-30T00:00:00\",\"2022-10-31T00:00:00\",\"2022-11-30T00:00:00\",\"2022-12-31T00:00:00\",\"2023-01-31T00:00:00\",\"2023-02-28T00:00:00\",\"2023-03-31T00:00:00\",\"2023-04-30T00:00:00\",\"2023-05-31T00:00:00\",\"2023-06-30T00:00:00\",\"2023-07-31T00:00:00\",\"2023-08-31T00:00:00\",\"2023-09-30T00:00:00\",\"2023-10-31T00:00:00\",\"2023-11-30T00:00:00\",\"2023-12-31T00:00:00\",\"2024-01-31T00:00:00\",\"2024-02-29T00:00:00\",\"2024-03-31T00:00:00\"],\"y\":[3.7444444445,3.9899242424,3.8693702849,4.0380265939,3.8470252102,3.7770615426,3.7369796832,3.8445426075,4.0780007138,4.1610068834,4.3535444207,3.643019943,3.8917691799,4.1679396441,4.1890290518,4.0958867,3.9556507467,4.0709191431,4.1265006777,4.1632415425,4.1785596594,4.2629580802,4.4313481065,4.4272699824,4.4302094725,4.5077701134,4.3833333333,4.4915541766,4.6416928816,4.1364181757,4.4649257242,4.9228070175],\"type\":\"scatter\"},{\"line\":{\"color\":\"red\",\"dash\":\"dot\"},\"mode\":\"lines\",\"name\":\"overall trend\",\"x\":[\"2021-08-31T00:00:00\",\"2021-09-30T00:00:00\",\"2021-10-31T00:00:00\",\"2021-11-30T00:00:00\",\"2021-12-31T00:00:00\",\"2022-01-31T00:00:00\",\"2022-02-28T00:00:00\",\"2022-03-31T00:00:00\",\"2022-04-30T00:00:00\",\"2022-05-31T00:00:00\",\"2022-06-30T00:00:00\",\"2022-07-31T00:00:00\",\"2022-08-31T00:00:00\",\"2022-09-30T00:00:00\",\"2022-10-31T00:00:00\",\"2022-11-30T00:00:00\",\"2022-12-31T00:00:00\",\"2023-01-31T00:00:00\",\"2023-02-28T00:00:00\",\"2023-03-31T00:00:00\",\"2023-04-30T00:00:00\",\"2023-05-31T00:00:00\",\"2023-06-30T00:00:00\",\"2023-07-31T00:00:00\",\"2023-08-31T00:00:00\",\"2023-09-30T00:00:00\",\"2023-10-31T00:00:00\",\"2023-11-30T00:00:00\",\"2023-12-31T00:00:00\",\"2024-01-31T00:00:00\",\"2024-02-29T00:00:00\",\"2024-03-31T00:00:00\"],\"y\":[3.7633839188153404,3.788775944172415,3.81416796952949,3.8395599948865646,3.8649520202436394,3.8903440456007146,3.9157360709577893,3.941128096314864,3.966520121671939,3.9919121470290135,4.017304172386089,4.0426961977431635,4.068088223100238,4.093480248457313,4.118872273814388,4.144264299171462,4.169656324528537,4.195048349885612,4.220440375242687,4.245832400599761,4.271224425956836,4.296616451313911,4.322008476670986,4.34740050202806,4.372792527385135,4.39818455274221,4.4235765780992855,4.44896860345636,4.474360628813435,4.49975265417051,4.5251446795275845,4.550536704884659],\"type\":\"scatter\"},{\"marker\":{\"color\":\"green\"},\"mode\":\"markers+lines\",\"name\":\"vegan\",\"x\":[\"2021-08-31T00:00:00\",\"2021-09-30T00:00:00\",\"2021-10-31T00:00:00\",\"2021-11-30T00:00:00\",\"2021-12-31T00:00:00\",\"2022-01-31T00:00:00\",\"2022-02-28T00:00:00\",\"2022-03-31T00:00:00\",\"2022-04-30T00:00:00\",\"2022-05-31T00:00:00\",\"2022-06-30T00:00:00\",\"2022-07-31T00:00:00\",\"2022-08-31T00:00:00\",\"2022-09-30T00:00:00\",\"2022-10-31T00:00:00\",\"2022-11-30T00:00:00\",\"2022-12-31T00:00:00\",\"2023-01-31T00:00:00\",\"2023-02-28T00:00:00\",\"2023-03-31T00:00:00\",\"2023-04-30T00:00:00\",\"2023-05-31T00:00:00\",\"2023-06-30T00:00:00\",\"2023-07-31T00:00:00\",\"2023-08-31T00:00:00\",\"2023-09-30T00:00:00\",\"2023-10-31T00:00:00\",\"2023-11-30T00:00:00\",\"2023-12-31T00:00:00\",\"2024-01-31T00:00:00\",\"2024-02-29T00:00:00\",\"2024-03-31T00:00:00\"],\"y\":[2.9543,3.15,3.8916666666,3.0833333333,4.0791666666,3.34375,2.7566666667,3.4683333333,4.6833333333,4.9333333333,4.6333333333,3.8253333333,3.2357142857,3.9564525121,3.8374198464,3.9038923461,3.4991023329,3.9769869808,3.8892781929,4.1266903427,3.9471978716,3.8150306159,4.3698176844,4.4781425204,4.4767187815,4.5300568611,4.60046,4.5359805511,4.6666592982,4.1623875918,4.4672616625,4.3527777778],\"type\":\"scatter\"},{\"line\":{\"color\":\"green\",\"dash\":\"dot\"},\"mode\":\"lines\",\"name\":\"vegan trend\",\"x\":[\"2021-08-31T00:00:00\",\"2021-09-30T00:00:00\",\"2021-10-31T00:00:00\",\"2021-11-30T00:00:00\",\"2021-12-31T00:00:00\",\"2022-01-31T00:00:00\",\"2022-02-28T00:00:00\",\"2022-03-31T00:00:00\",\"2022-04-30T00:00:00\",\"2022-05-31T00:00:00\",\"2022-06-30T00:00:00\",\"2022-07-31T00:00:00\",\"2022-08-31T00:00:00\",\"2022-09-30T00:00:00\",\"2022-10-31T00:00:00\",\"2022-11-30T00:00:00\",\"2022-12-31T00:00:00\",\"2023-01-31T00:00:00\",\"2023-02-28T00:00:00\",\"2023-03-31T00:00:00\",\"2023-04-30T00:00:00\",\"2023-05-31T00:00:00\",\"2023-06-30T00:00:00\",\"2023-07-31T00:00:00\",\"2023-08-31T00:00:00\",\"2023-09-30T00:00:00\",\"2023-10-31T00:00:00\",\"2023-11-30T00:00:00\",\"2023-12-31T00:00:00\",\"2024-01-31T00:00:00\",\"2024-02-29T00:00:00\",\"2024-03-31T00:00:00\"],\"y\":[3.4095141818488632,3.4468652387771623,3.4842162957054614,3.5215673526337605,3.5589184095620596,3.5962694664903587,3.6336205234186583,3.6709715803469574,3.7083226372752565,3.7456736942035556,3.7830247511318547,3.8203758080601538,3.857726864988453,3.895077921916752,3.932428978845051,3.9697800357733506,4.007131092701649,4.044482149629949,4.081833206558247,4.119184263486547,4.1565353204148465,4.193886377343145,4.231237434271444,4.268588491199743,4.305939548128043,4.343290605056342,4.380641661984641,4.41799271891294,4.455343775841239,4.492694832769538,4.5300458896978375,4.567396946626136],\"type\":\"scatter\"},{\"marker\":{\"color\":\"blue\"},\"mode\":\"markers+lines\",\"name\":\"veget.\",\"x\":[\"2021-08-31T00:00:00\",\"2021-09-30T00:00:00\",\"2021-10-31T00:00:00\",\"2021-11-30T00:00:00\",\"2021-12-31T00:00:00\",\"2022-01-31T00:00:00\",\"2022-02-28T00:00:00\",\"2022-03-31T00:00:00\",\"2022-04-30T00:00:00\",\"2022-05-31T00:00:00\",\"2022-06-30T00:00:00\",\"2022-07-31T00:00:00\",\"2022-08-31T00:00:00\",\"2022-09-30T00:00:00\",\"2022-10-31T00:00:00\",\"2022-11-30T00:00:00\",\"2022-12-31T00:00:00\",\"2023-01-31T00:00:00\",\"2023-02-28T00:00:00\",\"2023-03-31T00:00:00\",\"2023-04-30T00:00:00\",\"2023-05-31T00:00:00\",\"2023-06-30T00:00:00\",\"2023-07-31T00:00:00\",\"2023-08-31T00:00:00\",\"2023-09-30T00:00:00\",\"2023-10-31T00:00:00\",\"2023-11-30T00:00:00\",\"2023-12-31T00:00:00\",\"2024-01-31T00:00:00\",\"2024-02-29T00:00:00\",\"2024-03-31T00:00:00\"],\"y\":[3.1,3.9464646464,3.634469697,3.6855994152,3.5924368687,3.4137916667,3.2415935673,3.4767592593,3.5642773601,3.6391720779,3.9370899471,3.4805555556,3.4916666667,3.6371401515,3.7647876984,3.7593259981,3.7008543771,3.8133190035,3.7619831349,3.850821256,3.7415178571,3.8150793651,3.9776569264,3.8165343915,3.7818952726,3.8746101033,3.72545,3.7097969864,3.8459126984,3.7033558802,3.7529251701,4.3333333333],\"type\":\"scatter\"},{\"line\":{\"color\":\"blue\",\"dash\":\"dot\"},\"mode\":\"lines\",\"name\":\"veget. trend\",\"x\":[\"2021-08-31T00:00:00\",\"2021-09-30T00:00:00\",\"2021-10-31T00:00:00\",\"2021-11-30T00:00:00\",\"2021-12-31T00:00:00\",\"2022-01-31T00:00:00\",\"2022-02-28T00:00:00\",\"2022-03-31T00:00:00\",\"2022-04-30T00:00:00\",\"2022-05-31T00:00:00\",\"2022-06-30T00:00:00\",\"2022-07-31T00:00:00\",\"2022-08-31T00:00:00\",\"2022-09-30T00:00:00\",\"2022-10-31T00:00:00\",\"2022-11-30T00:00:00\",\"2022-12-31T00:00:00\",\"2023-01-31T00:00:00\",\"2023-02-28T00:00:00\",\"2023-03-31T00:00:00\",\"2023-04-30T00:00:00\",\"2023-05-31T00:00:00\",\"2023-06-30T00:00:00\",\"2023-07-31T00:00:00\",\"2023-08-31T00:00:00\",\"2023-09-30T00:00:00\",\"2023-10-31T00:00:00\",\"2023-11-30T00:00:00\",\"2023-12-31T00:00:00\",\"2024-01-31T00:00:00\",\"2024-02-29T00:00:00\",\"2024-03-31T00:00:00\"],\"y\":[3.4855358972698864,3.4997153884377568,3.513894879605627,3.528074370773497,3.5422538619413673,3.5564333531092376,3.570612844277108,3.584792335444978,3.5989718266128485,3.6131513177807184,3.6273308089485887,3.641510300116459,3.6556897912843294,3.6698692824521997,3.6840487736200696,3.69822826478794,3.71240775595581,3.7265872471236805,3.740766738291551,3.7549462294594207,3.769125720627291,3.7833052117951613,3.7974847029630316,3.811664194130902,3.8258436852987723,3.840023176466642,3.8542026676345125,3.868382158802383,3.882561649970253,3.8967411411381234,3.9109206323059933,3.9251001234738636],\"type\":\"scatter\"},{\"marker\":{\"color\":\"purple\"},\"mode\":\"markers+lines\",\"name\":\"meat\",\"x\":[\"2021-08-31T00:00:00\",\"2021-09-30T00:00:00\",\"2021-10-31T00:00:00\",\"2021-11-30T00:00:00\",\"2021-12-31T00:00:00\",\"2022-01-31T00:00:00\",\"2022-02-28T00:00:00\",\"2022-03-31T00:00:00\",\"2022-04-30T00:00:00\",\"2022-05-31T00:00:00\",\"2022-06-30T00:00:00\",\"2022-07-31T00:00:00\",\"2022-08-31T00:00:00\",\"2022-09-30T00:00:00\",\"2022-10-31T00:00:00\",\"2022-11-30T00:00:00\",\"2022-12-31T00:00:00\",\"2023-01-31T00:00:00\",\"2023-02-28T00:00:00\",\"2023-03-31T00:00:00\",\"2023-04-30T00:00:00\",\"2023-05-31T00:00:00\",\"2023-06-30T00:00:00\",\"2023-07-31T00:00:00\",\"2023-08-31T00:00:00\",\"2023-09-30T00:00:00\",\"2023-10-31T00:00:00\",\"2023-11-30T00:00:00\",\"2023-12-31T00:00:00\",\"2024-01-31T00:00:00\",\"2024-02-29T00:00:00\",\"2024-03-31T00:00:00\"],\"y\":[3.9861111111,4.253510101,4.0623538675,4.4640927128,3.9315289449,4.0690975529,4.0889236111,4.1908569128,4.5508883319,4.8630328226,4.7646626984,4.108,4.4933333333,4.5925718726,4.5740504831,4.3291221537,4.2596682287,4.2153382742,4.487074414,4.5008279163,4.7391057806,4.803662561,4.713837522,4.6565585659,4.6967705271,4.8254160053,4.3833333333,4.7735577894,4.8347373082,4.7222110171,4.7435506138,5.71875],\"type\":\"scatter\"},{\"line\":{\"color\":\"purple\",\"dash\":\"dot\"},\"mode\":\"lines\",\"name\":\"meat trend\",\"x\":[\"2021-08-31T00:00:00\",\"2021-09-30T00:00:00\",\"2021-10-31T00:00:00\",\"2021-11-30T00:00:00\",\"2021-12-31T00:00:00\",\"2022-01-31T00:00:00\",\"2022-02-28T00:00:00\",\"2022-03-31T00:00:00\",\"2022-04-30T00:00:00\",\"2022-05-31T00:00:00\",\"2022-06-30T00:00:00\",\"2022-07-31T00:00:00\",\"2022-08-31T00:00:00\",\"2022-09-30T00:00:00\",\"2022-10-31T00:00:00\",\"2022-11-30T00:00:00\",\"2022-12-31T00:00:00\",\"2023-01-31T00:00:00\",\"2023-02-28T00:00:00\",\"2023-03-31T00:00:00\",\"2023-04-30T00:00:00\",\"2023-05-31T00:00:00\",\"2023-06-30T00:00:00\",\"2023-07-31T00:00:00\",\"2023-08-31T00:00:00\",\"2023-09-30T00:00:00\",\"2023-10-31T00:00:00\",\"2023-11-30T00:00:00\",\"2023-12-31T00:00:00\",\"2024-01-31T00:00:00\",\"2024-02-29T00:00:00\",\"2024-03-31T00:00:00\"],\"y\":[4.092793495977273,4.119864351814626,4.14693520765198,4.174006063489333,4.201076919326686,4.2281477751640395,4.2552186310013935,4.282289486838747,4.3093603426761,4.336431198513454,4.363502054350807,4.39057291018816,4.417643766025513,4.444714621862867,4.47178547770022,4.4988563335375735,4.5259271893749276,4.552998045212281,4.580068901049634,4.607139756886987,4.634210612724341,4.661281468561694,4.688352324399047,4.715423180236401,4.742494036073754,4.7695648919111076,4.796635747748461,4.823706603585815,4.850777459423168,4.877848315260521,4.904919171097875,4.931990026935228],\"type\":\"scatter\"}],                        {\"template\":{\"data\":{\"histogram2dcontour\":[{\"type\":\"histogram2dcontour\",\"colorbar\":{\"outlinewidth\":0,\"ticks\":\"\"},\"colorscale\":[[0.0,\"#0d0887\"],[0.1111111111111111,\"#46039f\"],[0.2222222222222222,\"#7201a8\"],[0.3333333333333333,\"#9c179e\"],[0.4444444444444444,\"#bd3786\"],[0.5555555555555556,\"#d8576b\"],[0.6666666666666666,\"#ed7953\"],[0.7777777777777778,\"#fb9f3a\"],[0.8888888888888888,\"#fdca26\"],[1.0,\"#f0f921\"]]}],\"choropleth\":[{\"type\":\"choropleth\",\"colorbar\":{\"outlinewidth\":0,\"ticks\":\"\"}}],\"histogram2d\":[{\"type\":\"histogram2d\",\"colorbar\":{\"outlinewidth\":0,\"ticks\":\"\"},\"colorscale\":[[0.0,\"#0d0887\"],[0.1111111111111111,\"#46039f\"],[0.2222222222222222,\"#7201a8\"],[0.3333333333333333,\"#9c179e\"],[0.4444444444444444,\"#bd3786\"],[0.5555555555555556,\"#d8576b\"],[0.6666666666666666,\"#ed7953\"],[0.7777777777777778,\"#fb9f3a\"],[0.8888888888888888,\"#fdca26\"],[1.0,\"#f0f921\"]]}],\"heatmap\":[{\"type\":\"heatmap\",\"colorbar\":{\"outlinewidth\":0,\"ticks\":\"\"},\"colorscale\":[[0.0,\"#0d0887\"],[0.1111111111111111,\"#46039f\"],[0.2222222222222222,\"#7201a8\"],[0.3333333333333333,\"#9c179e\"],[0.4444444444444444,\"#bd3786\"],[0.5555555555555556,\"#d8576b\"],[0.6666666666666666,\"#ed7953\"],[0.7777777777777778,\"#fb9f3a\"],[0.8888888888888888,\"#fdca26\"],[1.0,\"#f0f921\"]]}],\"heatmapgl\":[{\"type\":\"heatmapgl\",\"colorbar\":{\"outlinewidth\":0,\"ticks\":\"\"},\"colorscale\":[[0.0,\"#0d0887\"],[0.1111111111111111,\"#46039f\"],[0.2222222222222222,\"#7201a8\"],[0.3333333333333333,\"#9c179e\"],[0.4444444444444444,\"#bd3786\"],[0.5555555555555556,\"#d8576b\"],[0.6666666666666666,\"#ed7953\"],[0.7777777777777778,\"#fb9f3a\"],[0.8888888888888888,\"#fdca26\"],[1.0,\"#f0f921\"]]}],\"contourcarpet\":[{\"type\":\"contourcarpet\",\"colorbar\":{\"outlinewidth\":0,\"ticks\":\"\"}}],\"contour\":[{\"type\":\"contour\",\"colorbar\":{\"outlinewidth\":0,\"ticks\":\"\"},\"colorscale\":[[0.0,\"#0d0887\"],[0.1111111111111111,\"#46039f\"],[0.2222222222222222,\"#7201a8\"],[0.3333333333333333,\"#9c179e\"],[0.4444444444444444,\"#bd3786\"],[0.5555555555555556,\"#d8576b\"],[0.6666666666666666,\"#ed7953\"],[0.7777777777777778,\"#fb9f3a\"],[0.8888888888888888,\"#fdca26\"],[1.0,\"#f0f921\"]]}],\"surface\":[{\"type\":\"surface\",\"colorbar\":{\"outlinewidth\":0,\"ticks\":\"\"},\"colorscale\":[[0.0,\"#0d0887\"],[0.1111111111111111,\"#46039f\"],[0.2222222222222222,\"#7201a8\"],[0.3333333333333333,\"#9c179e\"],[0.4444444444444444,\"#bd3786\"],[0.5555555555555556,\"#d8576b\"],[0.6666666666666666,\"#ed7953\"],[0.7777777777777778,\"#fb9f3a\"],[0.8888888888888888,\"#fdca26\"],[1.0,\"#f0f921\"]]}],\"mesh3d\":[{\"type\":\"mesh3d\",\"colorbar\":{\"outlinewidth\":0,\"ticks\":\"\"}}],\"scatter\":[{\"fillpattern\":{\"fillmode\":\"overlay\",\"size\":10,\"solidity\":0.2},\"type\":\"scatter\"}],\"parcoords\":[{\"type\":\"parcoords\",\"line\":{\"colorbar\":{\"outlinewidth\":0,\"ticks\":\"\"}}}],\"scatterpolargl\":[{\"type\":\"scatterpolargl\",\"marker\":{\"colorbar\":{\"outlinewidth\":0,\"ticks\":\"\"}}}],\"bar\":[{\"error_x\":{\"color\":\"#2a3f5f\"},\"error_y\":{\"color\":\"#2a3f5f\"},\"marker\":{\"line\":{\"color\":\"#E5ECF6\",\"width\":0.5},\"pattern\":{\"fillmode\":\"overlay\",\"size\":10,\"solidity\":0.2}},\"type\":\"bar\"}],\"scattergeo\":[{\"type\":\"scattergeo\",\"marker\":{\"colorbar\":{\"outlinewidth\":0,\"ticks\":\"\"}}}],\"scatterpolar\":[{\"type\":\"scatterpolar\",\"marker\":{\"colorbar\":{\"outlinewidth\":0,\"ticks\":\"\"}}}],\"histogram\":[{\"marker\":{\"pattern\":{\"fillmode\":\"overlay\",\"size\":10,\"solidity\":0.2}},\"type\":\"histogram\"}],\"scattergl\":[{\"type\":\"scattergl\",\"marker\":{\"colorbar\":{\"outlinewidth\":0,\"ticks\":\"\"}}}],\"scatter3d\":[{\"type\":\"scatter3d\",\"line\":{\"colorbar\":{\"outlinewidth\":0,\"ticks\":\"\"}},\"marker\":{\"colorbar\":{\"outlinewidth\":0,\"ticks\":\"\"}}}],\"scattermapbox\":[{\"type\":\"scattermapbox\",\"marker\":{\"colorbar\":{\"outlinewidth\":0,\"ticks\":\"\"}}}],\"scatterternary\":[{\"type\":\"scatterternary\",\"marker\":{\"colorbar\":{\"outlinewidth\":0,\"ticks\":\"\"}}}],\"scattercarpet\":[{\"type\":\"scattercarpet\",\"marker\":{\"colorbar\":{\"outlinewidth\":0,\"ticks\":\"\"}}}],\"carpet\":[{\"aaxis\":{\"endlinecolor\":\"#2a3f5f\",\"gridcolor\":\"white\",\"linecolor\":\"white\",\"minorgridcolor\":\"white\",\"startlinecolor\":\"#2a3f5f\"},\"baxis\":{\"endlinecolor\":\"#2a3f5f\",\"gridcolor\":\"white\",\"linecolor\":\"white\",\"minorgridcolor\":\"white\",\"startlinecolor\":\"#2a3f5f\"},\"type\":\"carpet\"}],\"table\":[{\"cells\":{\"fill\":{\"color\":\"#EBF0F8\"},\"line\":{\"color\":\"white\"}},\"header\":{\"fill\":{\"color\":\"#C8D4E3\"},\"line\":{\"color\":\"white\"}},\"type\":\"table\"}],\"barpolar\":[{\"marker\":{\"line\":{\"color\":\"#E5ECF6\",\"width\":0.5},\"pattern\":{\"fillmode\":\"overlay\",\"size\":10,\"solidity\":0.2}},\"type\":\"barpolar\"}],\"pie\":[{\"automargin\":true,\"type\":\"pie\"}]},\"layout\":{\"autotypenumbers\":\"strict\",\"colorway\":[\"#636efa\",\"#EF553B\",\"#00cc96\",\"#ab63fa\",\"#FFA15A\",\"#19d3f3\",\"#FF6692\",\"#B6E880\",\"#FF97FF\",\"#FECB52\"],\"font\":{\"color\":\"#2a3f5f\"},\"hovermode\":\"closest\",\"hoverlabel\":{\"align\":\"left\"},\"paper_bgcolor\":\"white\",\"plot_bgcolor\":\"#E5ECF6\",\"polar\":{\"bgcolor\":\"#E5ECF6\",\"angularaxis\":{\"gridcolor\":\"white\",\"linecolor\":\"white\",\"ticks\":\"\"},\"radialaxis\":{\"gridcolor\":\"white\",\"linecolor\":\"white\",\"ticks\":\"\"}},\"ternary\":{\"bgcolor\":\"#E5ECF6\",\"aaxis\":{\"gridcolor\":\"white\",\"linecolor\":\"white\",\"ticks\":\"\"},\"baxis\":{\"gridcolor\":\"white\",\"linecolor\":\"white\",\"ticks\":\"\"},\"caxis\":{\"gridcolor\":\"white\",\"linecolor\":\"white\",\"ticks\":\"\"}},\"coloraxis\":{\"colorbar\":{\"outlinewidth\":0,\"ticks\":\"\"}},\"colorscale\":{\"sequential\":[[0.0,\"#0d0887\"],[0.1111111111111111,\"#46039f\"],[0.2222222222222222,\"#7201a8\"],[0.3333333333333333,\"#9c179e\"],[0.4444444444444444,\"#bd3786\"],[0.5555555555555556,\"#d8576b\"],[0.6666666666666666,\"#ed7953\"],[0.7777777777777778,\"#fb9f3a\"],[0.8888888888888888,\"#fdca26\"],[1.0,\"#f0f921\"]],\"sequentialminus\":[[0.0,\"#0d0887\"],[0.1111111111111111,\"#46039f\"],[0.2222222222222222,\"#7201a8\"],[0.3333333333333333,\"#9c179e\"],[0.4444444444444444,\"#bd3786\"],[0.5555555555555556,\"#d8576b\"],[0.6666666666666666,\"#ed7953\"],[0.7777777777777778,\"#fb9f3a\"],[0.8888888888888888,\"#fdca26\"],[1.0,\"#f0f921\"]],\"diverging\":[[0,\"#8e0152\"],[0.1,\"#c51b7d\"],[0.2,\"#de77ae\"],[0.3,\"#f1b6da\"],[0.4,\"#fde0ef\"],[0.5,\"#f7f7f7\"],[0.6,\"#e6f5d0\"],[0.7,\"#b8e186\"],[0.8,\"#7fbc41\"],[0.9,\"#4d9221\"],[1,\"#276419\"]]},\"xaxis\":{\"gridcolor\":\"white\",\"linecolor\":\"white\",\"ticks\":\"\",\"title\":{\"standoff\":15},\"zerolinecolor\":\"white\",\"automargin\":true,\"zerolinewidth\":2},\"yaxis\":{\"gridcolor\":\"white\",\"linecolor\":\"white\",\"ticks\":\"\",\"title\":{\"standoff\":15},\"zerolinecolor\":\"white\",\"automargin\":true,\"zerolinewidth\":2},\"scene\":{\"xaxis\":{\"backgroundcolor\":\"#E5ECF6\",\"gridcolor\":\"white\",\"linecolor\":\"white\",\"showbackground\":true,\"ticks\":\"\",\"zerolinecolor\":\"white\",\"gridwidth\":2},\"yaxis\":{\"backgroundcolor\":\"#E5ECF6\",\"gridcolor\":\"white\",\"linecolor\":\"white\",\"showbackground\":true,\"ticks\":\"\",\"zerolinecolor\":\"white\",\"gridwidth\":2},\"zaxis\":{\"backgroundcolor\":\"#E5ECF6\",\"gridcolor\":\"white\",\"linecolor\":\"white\",\"showbackground\":true,\"ticks\":\"\",\"zerolinecolor\":\"white\",\"gridwidth\":2}},\"shapedefaults\":{\"line\":{\"color\":\"#2a3f5f\"}},\"annotationdefaults\":{\"arrowcolor\":\"#2a3f5f\",\"arrowhead\":0,\"arrowwidth\":1},\"geo\":{\"bgcolor\":\"white\",\"landcolor\":\"#E5ECF6\",\"subunitcolor\":\"white\",\"showland\":true,\"showlakes\":true,\"lakecolor\":\"white\"},\"title\":{\"x\":0.05},\"mapbox\":{\"style\":\"light\"}}},\"legend\":{\"title\":{\"text\":\"Category\"},\"orientation\":\"v\",\"x\":1,\"xanchor\":\"left\",\"y\":1,\"yanchor\":\"auto\"},\"updatemenus\":[{\"buttons\":[{\"args\":[{\"visible\":[true,true,true,true,true,true,true,true]},{\"title\":\"Monthly Average Prices by Category - All\"}],\"label\":\"All\",\"method\":\"update\"},{\"args\":[{\"visible\":[true,true,false,false,false,false,false,false]},{\"title\":\"Monthly Average Prices by Category - Overall\"}],\"label\":\"Overall\",\"method\":\"update\"},{\"args\":[{\"visible\":[false,false,true,true,false,false,false,false]},{\"title\":\"Monthly Average Prices by Category - Vegan\"}],\"label\":\"Vegan\",\"method\":\"update\"},{\"args\":[{\"visible\":[false,false,false,false,true,true,false,false]},{\"title\":\"Monthly Average Prices by Category - Veget.\"}],\"label\":\"Veget.\",\"method\":\"update\"},{\"args\":[{\"visible\":[false,false,false,false,false,false,true,true]},{\"title\":\"Monthly Average Prices by Category - Meat\"}],\"label\":\"Meat\",\"method\":\"update\"}],\"direction\":\"down\",\"pad\":{\"r\":10,\"t\":10},\"showactive\":true,\"x\":0,\"xanchor\":\"left\",\"y\":1.15,\"yanchor\":\"top\"}],\"title\":{\"text\":\"Monthly Average Prices by Category\"},\"xaxis\":{\"title\":{\"text\":\"Date (per Month)\"}},\"yaxis\":{\"title\":{\"text\":\"Price (in \\u20ac)\"}}},                        {\"responsive\": true}                    ).then(function(){\n",
              "                            \n",
              "var gd = document.getElementById('23772be2-e135-4825-bf48-6604557debba');\n",
              "var x = new MutationObserver(function (mutations, observer) {{\n",
              "        var display = window.getComputedStyle(gd).display;\n",
              "        if (!display || display === 'none') {{\n",
              "            console.log([gd, 'removed!']);\n",
              "            Plotly.purge(gd);\n",
              "            observer.disconnect();\n",
              "        }}\n",
              "}});\n",
              "\n",
              "// Listen for the removal of the full notebook cells\n",
              "var notebookContainer = gd.closest('#notebook-container');\n",
              "if (notebookContainer) {{\n",
              "    x.observe(notebookContainer, {childList: true});\n",
              "}}\n",
              "\n",
              "// Listen for the clearing of the current output cell\n",
              "var outputEl = gd.closest('.output');\n",
              "if (outputEl) {{\n",
              "    x.observe(outputEl, {childList: true});\n",
              "}}\n",
              "\n",
              "                        })                };                            </script>        </div>\n",
              "</body>\n",
              "</html>"
            ]
          },
          "metadata": {}
        }
      ]
    },
    {
      "cell_type": "markdown",
      "source": [
        "## Calculations"
      ],
      "metadata": {
        "id": "U8UEtm2oCjaP"
      }
    },
    {
      "cell_type": "code",
      "source": [
        "file_path = 'monthly_avg.json'\n",
        "with open(file_path, 'r') as file:\n",
        "    data = json.load(file)\n",
        "\n",
        "df = pd.DataFrame(data)\n",
        "df['date'] = pd.to_datetime(df['date'], unit='ms')\n",
        "\n",
        "months_span = ((df['date'].iloc[-1] - df['date'].iloc[0]) / pd.Timedelta(days=1)) / 30.44 # Avr Days in Month\n",
        "changes_eur_per_month = {}\n",
        "changes_percent_per_month = {}\n",
        "\n",
        "categories = ['meat', 'vegan', 'veget.', 'all']\n",
        "\n",
        "for category in categories:\n",
        "    # Calculate average monthly percentage change\n",
        "    total_change = df[category].iloc[-1] - df[category].iloc[0]\n",
        "    avg_monthly_change_eur = total_change / months_span\n",
        "    percent_change = (total_change / df[category].iloc[0]) * 100\n",
        "    avg_monthly_percent_change = percent_change / months_span\n",
        "\n",
        "    changes_eur_per_month[category] = avg_monthly_change_eur\n",
        "    changes_percent_per_month[category] = avg_monthly_percent_change\n",
        "\n",
        "print(\"Average Monthly Price Changes in €:\", changes_eur_per_month)\n",
        "print(\"Average Monthly Price Changes in %:\", changes_percent_per_month)"
      ],
      "metadata": {
        "colab": {
          "base_uri": "https://localhost:8080/"
        },
        "id": "KgONRzqMJHGn",
        "outputId": "8209e0c9-49f5-46e2-85d1-dda4474046f6"
      },
      "execution_count": 72,
      "outputs": [
        {
          "output_type": "stream",
          "name": "stdout",
          "text": [
            "Average Monthly Price Changes in €: {'meat': 0.05592950983893532, 'vegan': 0.04514280334701167, 'veget.': 0.03981194768361823, 'all': 0.03803749387287382}\n",
            "Average Monthly Price Changes in %: {'meat': 1.4031096544998494, 'vegan': 1.528037211759526, 'veget.': 1.2842563768909105, 'all': 1.015838115284229}\n"
          ]
        }
      ]
    },
    {
      "cell_type": "markdown",
      "source": [
        "The following calculations were made before and could easily be replaced by simply multiplying the values above by 12."
      ],
      "metadata": {
        "id": "nXPixM77JVic"
      }
    },
    {
      "cell_type": "code",
      "source": [
        "file_path = 'monthly_avg.json'\n",
        "with open(file_path, 'r') as file:\n",
        "    data = json.load(file)\n",
        "\n",
        "df = pd.DataFrame(data)\n",
        "df['date'] = pd.to_datetime(df['date'], unit='ms')\n",
        "\n",
        "df.dropna(subset=['meat', 'vegan', 'veget.'], inplace=True)\n",
        "days_span = (df['date'].iloc[-1] - df['date'].iloc[0]).days\n",
        "years_span = days_span / 365.25  # Avr Days in Year\n",
        "average_price_changes_eur = {}\n",
        "average_price_changes_percent = {}\n",
        "\n",
        "categories = ['meat', 'vegan', 'veget.']\n",
        "\n",
        "for category in categories:\n",
        "    # Calculate average monthly percentage change\n",
        "    total_price_change = df[category].iloc[-1] - df[category].iloc[0]\n",
        "    avg_yearly_change_eur = total_price_change / years_span\n",
        "    total_percent_change = (total_price_change / df[category].iloc[0]) * 100\n",
        "    avg_yearly_percent_change = total_percent_change / years_span\n",
        "\n",
        "    average_price_changes_eur[category] = avg_yearly_change_eur\n",
        "    average_price_changes_percent[category] = avg_yearly_percent_change\n",
        "\n",
        "print(\"Average Yearly Price Changes in €:\", average_price_changes_eur)\n",
        "print(\"Average Yearly Price Changes in %:\", average_price_changes_percent)"
      ],
      "metadata": {
        "colab": {
          "base_uri": "https://localhost:8080/"
        },
        "id": "L2sS70BxFtL3",
        "outputId": "f41542a4-0315-4107-f793-7a9942cf7050"
      },
      "execution_count": 73,
      "outputs": [
        {
          "output_type": "stream",
          "name": "stdout",
          "text": [
            "Average Yearly Price Changes in €: {'meat': 0.6710989969997083, 'vegan': 0.5416691498848887, 'veget.': 0.4777041357240985}\n",
            "Average Yearly Price Changes in %: {'meat': 16.835933025823586, 'vegan': 18.334940591168422, 'veget.': 15.409810829809627}\n"
          ]
        }
      ]
    }
  ]
}