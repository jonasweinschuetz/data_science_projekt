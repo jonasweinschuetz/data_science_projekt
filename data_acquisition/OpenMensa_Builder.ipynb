{
  "nbformat": 4,
  "nbformat_minor": 0,
  "metadata": {
    "colab": {
      "provenance": [],
      "collapsed_sections": [
        "Md9pVeFqcE_Y",
        "7JZ0cbpdduhN",
        "9AN-VBC_cy_l",
        "4HZGJwdJdWRT",
        "PBtFn7a8dgZ4",
        "hpsvcy-SgIVt",
        "tr6VkdY9hnFe",
        "PAPK5MNCj4nL",
        "sC9ZYFzufEpM",
        "g5_XT8x2l6_0",
        "e_PMh3LJe3el",
        "qiCytYThfcsB",
        "09X9RXd1f3pG",
        "hWxpINPcoFy-"
      ]
    },
    "kernelspec": {
      "name": "python3",
      "display_name": "Python 3"
    },
    "language_info": {
      "name": "python"
    }
  },
  "cells": [
    {
      "cell_type": "markdown",
      "source": [
        "# Build Dataset Basics - API Calls to OpenMensa\n"
      ],
      "metadata": {
        "id": "Md9pVeFqcE_Y"
      }
    },
    {
      "cell_type": "markdown",
      "source": [
        "**Important Links:**\n",
        "\n",
        "API - Documentation: https://docs.openmensa.org/api/v2/overview/\n",
        "\n",
        "Call example: https://openmensa.org/api/v2/canteens/1287/days/2024-03-08/meals\n",
        "\n",
        "Example Canteen Page: https://openmensa.org/c/1216/2024-03-01"
      ],
      "metadata": {
        "id": "mEeQdepucRaj"
      }
    },
    {
      "cell_type": "markdown",
      "source": [
        "## Imports - Don't forget to run this!!!\n"
      ],
      "metadata": {
        "id": "7JZ0cbpdduhN"
      }
    },
    {
      "cell_type": "code",
      "source": [
        "import requests\n",
        "from datetime import date, timedelta\n",
        "import time\n",
        "import json\n",
        "from bs4 import BeautifulSoup\n",
        "import os\n",
        "import re\n",
        "from datetime import date, timedelta, datetime\n",
        "import time"
      ],
      "metadata": {
        "id": "kTGc3GAAdm7x"
      },
      "execution_count": null,
      "outputs": []
    },
    {
      "cell_type": "markdown",
      "source": [
        "## Get Data from OpenMensa"
      ],
      "metadata": {
        "id": "9AN-VBC_cy_l"
      }
    },
    {
      "cell_type": "markdown",
      "source": [
        "### Get all Canteens"
      ],
      "metadata": {
        "id": "4HZGJwdJdWRT"
      }
    },
    {
      "cell_type": "markdown",
      "source": [
        "First we need to get a dataset of all canteens that OpenMensa has"
      ],
      "metadata": {
        "id": "cWWgm113dTex"
      }
    },
    {
      "cell_type": "code",
      "source": [
        "def get_all_canteens():\n",
        "    api_url = \"https://openmensa.org/api/v2/canteens\"\n",
        "    try:\n",
        "        all_canteens = []\n",
        "        page = 1\n",
        "        has_canteens = True\n",
        "\n",
        "        while has_canteens:  # Loop until there are no more canteens to find\n",
        "            params = {'page': page}\n",
        "            response = requests.get(api_url, params=params)\n",
        "            response.raise_for_status()  # stop loop if the request fails\n",
        "            canteens = response.json()\n",
        "\n",
        "            if not canteens:  # exit the loop when no more canteens are found\n",
        "                has_canteens = False\n",
        "            else:\n",
        "                all_canteens.extend(canteens)\n",
        "                page += 1\n",
        "\n",
        "        return all_canteens\n",
        "    except requests.RequestException as e:\n",
        "        print(f\"Request failed: {e}\")\n",
        "        return []"
      ],
      "metadata": {
        "id": "CJkVu0qjWm7T"
      },
      "execution_count": 14,
      "outputs": []
    },
    {
      "cell_type": "code",
      "source": [
        "file_name = 'all_canteens.json'\n",
        "all_canteens = get_all_canteens()\n",
        "\n",
        "with open(file_name, 'w') as file:\n",
        "    json.dump(all_canteens, file, indent=4)\n",
        "\n",
        "print(f\"All canteens are here: {file_name}.\")"
      ],
      "metadata": {
        "colab": {
          "base_uri": "https://localhost:8080/"
        },
        "id": "GWwxZY-ieQXi",
        "outputId": "b85c4720-92b8-4503-b830-adc5a26f5021"
      },
      "execution_count": 15,
      "outputs": [
        {
          "output_type": "stream",
          "name": "stdout",
          "text": [
            "All canteens are here: all_canteens.json.\n"
          ]
        }
      ]
    },
    {
      "cell_type": "code",
      "source": [
        "len(all_canteens)"
      ],
      "metadata": {
        "colab": {
          "base_uri": "https://localhost:8080/"
        },
        "id": "NB5fwMGTWNLW",
        "outputId": "10a1dd9d-9221-42fa-a3bf-390c82114f5a"
      },
      "execution_count": 16,
      "outputs": [
        {
          "output_type": "execute_result",
          "data": {
            "text/plain": [
              "1211"
            ]
          },
          "metadata": {},
          "execution_count": 16
        }
      ]
    },
    {
      "cell_type": "markdown",
      "source": [
        "### Filter out German Canteens"
      ],
      "metadata": {
        "id": "PBtFn7a8dgZ4"
      }
    },
    {
      "cell_type": "markdown",
      "source": [
        "Because OpenMensa also has a lot of canteens from europe/switzerland and not only germany we need to filter them out. For this we will scrape wikipedia to create a dictionary of all german cities."
      ],
      "metadata": {
        "id": "NtXQUV3OeZCk"
      }
    },
    {
      "cell_type": "markdown",
      "source": [
        "#### Wikipedia"
      ],
      "metadata": {
        "id": "hpsvcy-SgIVt"
      }
    },
    {
      "cell_type": "markdown",
      "source": [
        "https://moduliertersingvogel.de/2017/09/03/german-cities-list/"
      ],
      "metadata": {
        "id": "0LgGAZXBgp-f"
      }
    },
    {
      "cell_type": "code",
      "source": [
        "countries={\n",
        "      'BY':'Bayern',\n",
        "      'BW':'Baden-Württemberg',\n",
        "      'NW':'Nordrhein-Westfalen',\n",
        "      'HE':'Hessen',\n",
        "      'SN':'Sachsen',\n",
        "      'NI':'Niedersachsen',\n",
        "      'RP':'Rheinland-Pfalz',\n",
        "      'TH':'Thüringen',\n",
        "      'BB':'Brandenburg',\n",
        "      'ST':'Sachsen-Anhalt',\n",
        "      'MV':'Mecklenburg-Vorpommern',\n",
        "      'SH':'Schleswig-Holstein',\n",
        "      'SL':'Saarland',\n",
        "      'HB':'Bremen',\n",
        "      'BE':'Berlin',\n",
        "      'HH':'Hamburg'\n",
        "  }"
      ],
      "metadata": {
        "id": "GZyaOkysgR12"
      },
      "execution_count": null,
      "outputs": []
    },
    {
      "cell_type": "code",
      "source": [
        "def retrieveGermanList():\n",
        "    r = requests.get('https://de.wikipedia.org/wiki/Liste_der_St%C3%A4dte_in_Deutschland')\n",
        "    soup = BeautifulSoup(r.content, \"html5lib\")\n",
        "    cities={}\n",
        "    tables=soup.find_all('table')\n",
        "    for t in tables:\n",
        "        lis=t.find_all('dd')\n",
        "        for l in lis:\n",
        "            countryShort=None\n",
        "            additional=l.contents[1].split('(')[1].split(')')[0].strip()\n",
        "            if ',' in additional:\n",
        "                countryShort=additional.split(',')[0]\n",
        "            else:\n",
        "                countryShort=additional\n",
        "            cities[l.find('a').contents[0]]=countries[countryShort]\n",
        "\n",
        "    return cities"
      ],
      "metadata": {
        "id": "-W9Uz6PlexI0"
      },
      "execution_count": null,
      "outputs": []
    },
    {
      "cell_type": "code",
      "source": [
        "file_path = 'german_cities.json'\n",
        "\n",
        "with open(file_path, 'w') as file:\n",
        "    json.dump(retrieveGermanList(), file, ensure_ascii=False, indent=4)\n",
        "\n",
        "file_path"
      ],
      "metadata": {
        "colab": {
          "base_uri": "https://localhost:8080/",
          "height": 35
        },
        "id": "3FJRbWQzgUuF",
        "outputId": "4af9ad34-419b-48ba-c9d5-791c520a77bb"
      },
      "execution_count": null,
      "outputs": [
        {
          "output_type": "execute_result",
          "data": {
            "text/plain": [
              "'german_cities.json'"
            ],
            "application/vnd.google.colaboratory.intrinsic+json": {
              "type": "string"
            }
          },
          "metadata": {},
          "execution_count": 13
        }
      ]
    },
    {
      "cell_type": "markdown",
      "source": [
        "#### Filter out Canteens for german_canteens set"
      ],
      "metadata": {
        "id": "tr6VkdY9hnFe"
      }
    },
    {
      "cell_type": "code",
      "source": [
        "file_name = 'german_canteens.json'"
      ],
      "metadata": {
        "id": "jnPJSjzciSRU"
      },
      "execution_count": null,
      "outputs": []
    },
    {
      "cell_type": "code",
      "source": [
        "with open('german_cities.json', 'r', encoding='utf-8') as file:\n",
        "    german_cities = json.load(file)\n",
        "\n",
        "with open('all_canteens.json', 'r', encoding='utf-8') as file:\n",
        "    all_canteens = json.load(file)\n",
        "\n",
        "def normalize_city_name(city_name):\n",
        "    return city_name.split('/')[0].strip().lower()\n",
        "\n",
        "# Invert the german_cities dictionary for reverse lookup (normalized city name -> original city name)\n",
        "german_cities_lookup = {normalize_city_name(city): city for city in german_cities}\n",
        "\n",
        "german_canteens = []\n",
        "for canteen in all_canteens:\n",
        "    normalized_city_name = normalize_city_name(canteen['city'])\n",
        "    if normalized_city_name in german_cities_lookup:\n",
        "        # Update the city field to match the exact city name from german_cities - IMPORTANT for later\n",
        "        canteen['city'] = german_cities_lookup[normalized_city_name]\n",
        "        german_canteens.append(canteen)\n",
        "\n",
        "with open(file_name, 'w', encoding='utf-8') as file:\n",
        "    json.dump(german_canteens, file, ensure_ascii=False, indent=4)\n",
        "\n",
        "print(f\"German canteens saved to {file_name}\")\n",
        "print(f\"Number of German canteens found: {len(german_canteens)}\")\n"
      ],
      "metadata": {
        "colab": {
          "base_uri": "https://localhost:8080/"
        },
        "id": "qQC9b3adhsmu",
        "outputId": "53b4cab9-4e46-4d6d-ca7f-0b09c2ba58cd"
      },
      "execution_count": null,
      "outputs": [
        {
          "output_type": "stream",
          "name": "stdout",
          "text": [
            "German canteens saved to german_canteens.json\n",
            "Number of German canteens found: 688\n"
          ]
        }
      ]
    },
    {
      "cell_type": "markdown",
      "source": [],
      "metadata": {
        "id": "pMj3az31i_rc"
      }
    },
    {
      "cell_type": "markdown",
      "source": [
        "#### Add State for Research Questions (Forgot to implement it before)"
      ],
      "metadata": {
        "id": "PAPK5MNCj4nL"
      }
    },
    {
      "cell_type": "code",
      "source": [
        "canteens_file_path = 'german_canteens.json'\n",
        "cities_file_path = 'german_cities.json'\n",
        "output_file_path = 'updated_german_canteens.json'"
      ],
      "metadata": {
        "id": "FN-_VoPojXR7"
      },
      "execution_count": null,
      "outputs": []
    },
    {
      "cell_type": "code",
      "source": [
        "def add_state_to_canteens(canteens_file_path, cities_file_path, output_file_path):\n",
        "\n",
        "    with open(cities_file_path, 'r', encoding='utf-8') as file:\n",
        "        german_cities = json.load(file)\n",
        "    with open(canteens_file_path, 'r', encoding='utf-8') as file:\n",
        "        german_canteens = json.load(file)\n",
        "\n",
        "    # Map each city to its corresponding state using the german_cities\n",
        "    for canteen in german_canteens:\n",
        "        canteen_city = canteen['city']\n",
        "        canteen['state'] = german_cities.get(canteen_city, \"Unknown\")\n",
        "\n",
        "    with open(output_file_path, 'w', encoding='utf-8') as file:\n",
        "        json.dump(german_canteens, file, ensure_ascii=False, indent=4)"
      ],
      "metadata": {
        "id": "quKjNQsHj62h"
      },
      "execution_count": null,
      "outputs": []
    },
    {
      "cell_type": "code",
      "source": [
        "add_state_to_canteens(canteens_file_path, cities_file_path, output_file_path)"
      ],
      "metadata": {
        "id": "CwJrokXNjZaz"
      },
      "execution_count": null,
      "outputs": []
    },
    {
      "cell_type": "code",
      "source": [
        "def add_state_id_to_canteens(updated_canteens_file_path, output_file_path):\n",
        "    state_abbreviations = {\n",
        "        \"Baden-Württemberg\": \"BW\",\n",
        "        \"Bayern\": \"BY\",\n",
        "        \"Berlin\": \"BE\",\n",
        "        \"Brandenburg\": \"BB\",\n",
        "        \"Bremen\": \"HB\",\n",
        "        \"Hamburg\": \"HH\",\n",
        "        \"Hessen\": \"HE\",\n",
        "        \"Mecklenburg-Vorpommern\": \"MV\",\n",
        "        \"Niedersachsen\": \"NI\",\n",
        "        \"Nordrhein-Westfalen\": \"NW\",\n",
        "        \"Rheinland-Pfalz\": \"RP\",\n",
        "        \"Saarland\": \"SL\",\n",
        "        \"Sachsen\": \"SN\",\n",
        "        \"Sachsen-Anhalt\": \"ST\",\n",
        "        \"Schleswig-Holstein\": \"SH\",\n",
        "        \"Thüringen\": \"TH\"\n",
        "    }\n",
        "    with open(updated_canteens_file_path, 'r', encoding='utf-8') as file:\n",
        "        german_canteens = json.load(file)\n",
        "    for canteen in german_canteens:\n",
        "        state_name = canteen.get('state', \"Unknown\")\n",
        "         # Map state name to abbreviation\n",
        "        canteen['state-id'] = state_abbreviations.get(state_name, \"Unknown\")\n",
        "    with open(output_file_path, 'w', encoding='utf-8') as file:\n",
        "        json.dump(german_canteens, file, ensure_ascii=False, indent=4)"
      ],
      "metadata": {
        "id": "6T2xtFfepM8Z"
      },
      "execution_count": null,
      "outputs": []
    },
    {
      "cell_type": "code",
      "source": [
        "updated_canteens_file_path = 'updated_german_canteens.json'\n",
        "output_file_path = 'further_updated_german_canteens.json'\n",
        "\n",
        "add_state_id_to_canteens(updated_canteens_file_path, output_file_path)"
      ],
      "metadata": {
        "id": "VsnvR5Vflimx"
      },
      "execution_count": null,
      "outputs": []
    },
    {
      "cell_type": "markdown",
      "source": [
        "### Fetching the meals etc from OpenMensa using the IDs I filtered out"
      ],
      "metadata": {
        "id": "sC9ZYFzufEpM"
      }
    },
    {
      "cell_type": "markdown",
      "source": [
        "To fetch the data I used several instances on Colab and 5 automations running on Raspberry Pi's that are build in a similar fashin to his example."
      ],
      "metadata": {
        "id": "twwZC5choOE1"
      }
    },
    {
      "cell_type": "code",
      "source": [
        "def fetch_meals_for_canteen(canteen_id, start_date, end_date, request_timeout=0.5):\n",
        "    meals_data = []\n",
        "    current_date = start_date\n",
        "    while current_date <= end_date:\n",
        "        url = f\"https://openmensa.org/api/v2/canteens/{canteen_id}/days/{current_date.strftime('%Y-%m-%d')}/meals\"\n",
        "        response = requests.get(url)\n",
        "        if response.status_code == 200:\n",
        "            day_meals = response.json()\n",
        "            for meal in day_meals:\n",
        "                meal_with_date = meal\n",
        "                meal_with_date['date'] = current_date.strftime('%Y-%m-%d')\n",
        "                meals_data.append(meal_with_date)\n",
        "        time.sleep(request_timeout)\n",
        "        current_date += timedelta(days=1)\n",
        "    return meals_data"
      ],
      "metadata": {
        "id": "i-5dWJT-ixTR"
      },
      "execution_count": null,
      "outputs": []
    },
    {
      "cell_type": "code",
      "source": [
        "def append_meals_to_file(data, output_file):\n",
        "    try:\n",
        "        with open(output_file, 'r+') as file:\n",
        "            file_data = json.load(file)\n",
        "            file_data.append(data)\n",
        "            file.seek(0)\n",
        "            json.dump(file_data, file, indent=4)\n",
        "    except FileNotFoundError:\n",
        "        with open(output_file, 'w') as file:\n",
        "            json.dump([data], file, indent=4)"
      ],
      "metadata": {
        "id": "9rxRhakwnOPH"
      },
      "execution_count": null,
      "outputs": []
    },
    {
      "cell_type": "code",
      "source": [
        "start_id = 1  # Starting ID for fetching meals\n",
        "end_id = 100  # End ID were it should stop if needed manually - hardcoded\n",
        "# end_id = start_id + 39 # For batches\n",
        "input_file = 'german_canteens.json'\n",
        "output_file = f'meals_all_canteens_{start_id}_{end_id}.json'\n",
        "start_date = date(2023, 1, 1)\n",
        "end_date = date(2024, 3, 1)"
      ],
      "metadata": {
        "id": "gvrKc1xGnQd_"
      },
      "execution_count": null,
      "outputs": []
    },
    {
      "cell_type": "code",
      "source": [
        "print(f\"Canteens {start_id} until {end_id}\")\n",
        "\n",
        "with open(input_file, 'r') as file:\n",
        "    german_canteens = json.load(file)\n",
        "\n",
        "for canteen in german_canteens:\n",
        "    canteen_id = canteen['id']\n",
        "    if not (start_id <= canteen_id <= end_id):\n",
        "        continue\n",
        "    canteen_meals = fetch_meals_for_canteen(canteen_id, start_date, end_date)\n",
        "    meal_data = {\n",
        "        \"canteen_id\": canteen_id,\n",
        "        \"meals\": canteen_meals\n",
        "    }\n",
        "    append_meals_to_file(meal_data, output_file) # Very Important if it crashed while running\n",
        "    print(f\"Finished getting all meals for canteen ID: {canteen_id}\")"
      ],
      "metadata": {
        "colab": {
          "base_uri": "https://localhost:8080/",
          "height": 349
        },
        "id": "q8UWTf-nnks-",
        "outputId": "cc3c21fb-c602-4f44-bec1-c2cb7b91160e"
      },
      "execution_count": null,
      "outputs": [
        {
          "output_type": "stream",
          "name": "stdout",
          "text": [
            "Canteens 1 until 100\n"
          ]
        },
        {
          "output_type": "error",
          "ename": "KeyboardInterrupt",
          "evalue": "",
          "traceback": [
            "\u001b[0;31m---------------------------------------------------------------------------\u001b[0m",
            "\u001b[0;31mKeyboardInterrupt\u001b[0m                         Traceback (most recent call last)",
            "\u001b[0;32m<ipython-input-33-216d82c6106e>\u001b[0m in \u001b[0;36m<cell line: 6>\u001b[0;34m()\u001b[0m\n\u001b[1;32m      8\u001b[0m     \u001b[0;32mif\u001b[0m \u001b[0;32mnot\u001b[0m \u001b[0;34m(\u001b[0m\u001b[0mstart_id\u001b[0m \u001b[0;34m<=\u001b[0m \u001b[0mcanteen_id\u001b[0m \u001b[0;34m<=\u001b[0m \u001b[0mend_id\u001b[0m\u001b[0;34m)\u001b[0m\u001b[0;34m:\u001b[0m\u001b[0;34m\u001b[0m\u001b[0;34m\u001b[0m\u001b[0m\n\u001b[1;32m      9\u001b[0m         \u001b[0;32mcontinue\u001b[0m\u001b[0;34m\u001b[0m\u001b[0;34m\u001b[0m\u001b[0m\n\u001b[0;32m---> 10\u001b[0;31m     \u001b[0mcanteen_meals\u001b[0m \u001b[0;34m=\u001b[0m \u001b[0mfetch_meals_for_canteen\u001b[0m\u001b[0;34m(\u001b[0m\u001b[0mcanteen_id\u001b[0m\u001b[0;34m,\u001b[0m \u001b[0mstart_date\u001b[0m\u001b[0;34m,\u001b[0m \u001b[0mend_date\u001b[0m\u001b[0;34m)\u001b[0m\u001b[0;34m\u001b[0m\u001b[0;34m\u001b[0m\u001b[0m\n\u001b[0m\u001b[1;32m     11\u001b[0m     meal_data = {\n\u001b[1;32m     12\u001b[0m         \u001b[0;34m\"canteen_id\"\u001b[0m\u001b[0;34m:\u001b[0m \u001b[0mcanteen_id\u001b[0m\u001b[0;34m,\u001b[0m\u001b[0;34m\u001b[0m\u001b[0;34m\u001b[0m\u001b[0m\n",
            "\u001b[0;32m<ipython-input-30-e7774c960f31>\u001b[0m in \u001b[0;36mfetch_meals_for_canteen\u001b[0;34m(canteen_id, start_date, end_date, request_timeout)\u001b[0m\n\u001b[1;32m     11\u001b[0m                 \u001b[0mmeal_with_date\u001b[0m\u001b[0;34m[\u001b[0m\u001b[0;34m'date'\u001b[0m\u001b[0;34m]\u001b[0m \u001b[0;34m=\u001b[0m \u001b[0mcurrent_date\u001b[0m\u001b[0;34m.\u001b[0m\u001b[0mstrftime\u001b[0m\u001b[0;34m(\u001b[0m\u001b[0;34m'%Y-%m-%d'\u001b[0m\u001b[0;34m)\u001b[0m\u001b[0;34m\u001b[0m\u001b[0;34m\u001b[0m\u001b[0m\n\u001b[1;32m     12\u001b[0m                 \u001b[0mmeals_data\u001b[0m\u001b[0;34m.\u001b[0m\u001b[0mappend\u001b[0m\u001b[0;34m(\u001b[0m\u001b[0mmeal_with_date\u001b[0m\u001b[0;34m)\u001b[0m\u001b[0;34m\u001b[0m\u001b[0;34m\u001b[0m\u001b[0m\n\u001b[0;32m---> 13\u001b[0;31m         \u001b[0mtime\u001b[0m\u001b[0;34m.\u001b[0m\u001b[0msleep\u001b[0m\u001b[0;34m(\u001b[0m\u001b[0mrequest_timeout\u001b[0m\u001b[0;34m)\u001b[0m\u001b[0;34m\u001b[0m\u001b[0;34m\u001b[0m\u001b[0m\n\u001b[0m\u001b[1;32m     14\u001b[0m         \u001b[0mcurrent_date\u001b[0m \u001b[0;34m+=\u001b[0m \u001b[0mtimedelta\u001b[0m\u001b[0;34m(\u001b[0m\u001b[0mdays\u001b[0m\u001b[0;34m=\u001b[0m\u001b[0;36m1\u001b[0m\u001b[0;34m)\u001b[0m\u001b[0;34m\u001b[0m\u001b[0;34m\u001b[0m\u001b[0m\n\u001b[1;32m     15\u001b[0m     \u001b[0;32mreturn\u001b[0m \u001b[0mmeals_data\u001b[0m\u001b[0;34m\u001b[0m\u001b[0;34m\u001b[0m\u001b[0m\n",
            "\u001b[0;31mKeyboardInterrupt\u001b[0m: "
          ]
        }
      ]
    },
    {
      "cell_type": "markdown",
      "source": [
        "### Merging all Data Set batches that were created"
      ],
      "metadata": {
        "id": "g5_XT8x2l6_0"
      }
    },
    {
      "cell_type": "markdown",
      "source": [
        "Important all batches have to be in a folder (here called AllMealsData)"
      ],
      "metadata": {
        "id": "GMixH9oZmTU0"
      }
    },
    {
      "cell_type": "code",
      "source": [
        "def merge_json_files(directory_path):\n",
        "    json_files = [f for f in os.listdir(directory_path) if f.endswith('.json')]\n",
        "    sorted_files = sorted(json_files, key=lambda x: int(re.search(r'(\\d+)_', x).group(1)))\n",
        "\n",
        "    all_data = []\n",
        "    for filename in sorted_files:\n",
        "        with open(os.path.join(directory_path, filename), 'r', encoding='utf-8') as file:\n",
        "            data = json.load(file)\n",
        "            all_data.extend(data)\n",
        "\n",
        "    all_data_sorted = sorted(all_data, key=lambda x: x.get('canteen_id', 0))\n",
        "\n",
        "    with open(os.path.join(directory_path, 'full_all_canteens.json'), 'w', encoding='utf-8') as outfile:\n",
        "        json.dump(all_data_sorted, outfile, ensure_ascii=False, indent=4)"
      ],
      "metadata": {
        "id": "zScj4j9lmHZh"
      },
      "execution_count": null,
      "outputs": []
    },
    {
      "cell_type": "code",
      "source": [
        "directory_path = '/AllMealsData/'\n",
        "merge_json_files(directory_path)\n",
        "\n",
        "print('Merging completed - full_all_canteens.json')"
      ],
      "metadata": {
        "id": "mbzRNkwtmOwn"
      },
      "execution_count": null,
      "outputs": []
    },
    {
      "cell_type": "code",
      "source": [
        "# See if the lengths is still correct\n",
        "\n",
        "canteen_ids = set()\n",
        "with open(\"/AllMealsData/full_all_canteens.json\", 'r') as file:\n",
        "    data = json.load(file)\n",
        "    for item in data:\n",
        "        canteen_ids.add(item['canteen_id'])\n",
        "\n",
        "unique_canteen_id_count = len(canteen_ids)\n",
        "print(unique_canteen_id_count)"
      ],
      "metadata": {
        "id": "p3uKySeymzeN"
      },
      "execution_count": null,
      "outputs": []
    },
    {
      "cell_type": "markdown",
      "source": [
        "### Helper"
      ],
      "metadata": {
        "id": "e_PMh3LJe3el"
      }
    },
    {
      "cell_type": "markdown",
      "source": [
        "Here are not nessesary parts that are helpful for different overviews"
      ],
      "metadata": {
        "id": "qoazIJ2Fe5IH"
      }
    },
    {
      "cell_type": "markdown",
      "source": [
        "#### Filtering Canteens by City 1"
      ],
      "metadata": {
        "id": "qiCytYThfcsB"
      }
    },
    {
      "cell_type": "code",
      "source": [
        "def filter_canteens_by_city(file_path, city):\n",
        "    try:\n",
        "        with open(file_path, 'r') as file:\n",
        "            canteens = json.load(file)\n",
        "\n",
        "        # Filter canteens that are in the specified city\n",
        "        canteens_in_city = [canteen for canteen in canteens if canteen.get('city') == city]\n",
        "        return canteens_in_city\n",
        "    except FileNotFoundError:\n",
        "        print(f\"File {file_path} not found.\")\n",
        "        return []"
      ],
      "metadata": {
        "id": "wzWnqZlZfCjR"
      },
      "execution_count": null,
      "outputs": []
    },
    {
      "cell_type": "code",
      "source": [
        "file_name = 'all_canteens.json'\n",
        "kiel_canteens = filter_canteens_by_city(file_name, \"Kiel\")\n",
        "for canteen in kiel_canteens:\n",
        "    print(canteen)"
      ],
      "metadata": {
        "colab": {
          "base_uri": "https://localhost:8080/"
        },
        "id": "ksGTdEjIfhJL",
        "outputId": "fbd43a4c-0492-4b1e-d993-3937a79b0176"
      },
      "execution_count": null,
      "outputs": [
        {
          "output_type": "stream",
          "name": "stdout",
          "text": [
            "{'id': 1216, 'name': 'Mensa I', 'city': 'Kiel', 'address': 'Westring 385, 24118 Kiel', 'coordinates': [54.337464121688505, 10.122903412237703]}\n",
            "{'id': 1218, 'name': 'Mensa II', 'city': 'Kiel', 'address': 'Leibnizstraße 14, 24118 Kiel', 'coordinates': [54.346414080501006, 10.113333431595441]}\n",
            "{'id': 1219, 'name': 'Schwentine Mensa', 'city': 'Kiel', 'address': 'Grenzstraße 14, 24149 Kiel', 'coordinates': [54.32977105, 10.181043219375]}\n",
            "{'id': 1758, 'name': 'Cafeteria & American Diner', 'city': 'Kiel', 'address': 'Sokratesplatz 6, 24149 Kiel', 'coordinates': [54.3323777, 10.1812416]}\n",
            "{'id': 1759, 'name': 'Mensa Gaarden', 'city': 'Kiel', 'address': 'Kaiserstraße 2, 24143 Kiel', 'coordinates': [54.3155954, 10.1521691]}\n",
            "{'id': 1760, 'name': 'Mensa Kesselhaus', 'city': 'Kiel', 'address': 'Legienstraße 35, 24103 Kiel', 'coordinates': [54.32782205, 10.129155763933195]}\n",
            "{'id': 1838, 'name': 'Cafeteria Dockside', 'city': 'Kiel', 'address': 'Kaiserstraße 2, 24143 Kiel', 'coordinates': [54.315327905718824, 10.153050492192994]}\n"
          ]
        }
      ]
    },
    {
      "cell_type": "markdown",
      "source": [
        "#### Filtering Canteens by Cities 2"
      ],
      "metadata": {
        "id": "09X9RXd1f3pG"
      }
    },
    {
      "cell_type": "code",
      "source": [
        "def filter_canteens_by_city(file_path, city):\n",
        "    try:\n",
        "        with open(file_path, 'r') as file:\n",
        "            canteens = json.load(file)\n",
        "        canteens_in_city = [canteen for canteen in canteens if canteen.get('city') == city]\n",
        "        return canteens_in_city\n",
        "    except FileNotFoundError:\n",
        "        print(f\"File {file_path} not found.\")\n",
        "        return []"
      ],
      "metadata": {
        "id": "4ZGNg9Vaf3pG"
      },
      "execution_count": null,
      "outputs": []
    },
    {
      "cell_type": "code",
      "source": [
        "file_name = 'german_canteens.json'\n",
        "cities = [\"Kiel\", \"Lübeck\", \"Flensburg\", \"Heide\"]\n",
        "\n",
        "for city in cities:\n",
        "    city_canteens = filter_canteens_by_city(file_name, city)\n",
        "    print(f\"Canteens in {city}:\")\n",
        "    for canteen in city_canteens:\n",
        "        print(canteen)"
      ],
      "metadata": {
        "colab": {
          "base_uri": "https://localhost:8080/"
        },
        "outputId": "99012358-a762-45ad-ad9b-53dd37997a26",
        "id": "4a49R0Kxf3pG"
      },
      "execution_count": null,
      "outputs": [
        {
          "output_type": "stream",
          "name": "stdout",
          "text": [
            "Canteens in Kiel:\n",
            "{'id': 1216, 'name': 'Mensa I', 'city': 'Kiel', 'address': 'Westring 385, 24118 Kiel', 'coordinates': [54.337464121688505, 10.122903412237703]}\n",
            "{'id': 1218, 'name': 'Mensa II', 'city': 'Kiel', 'address': 'Leibnizstraße 14, 24118 Kiel', 'coordinates': [54.346414080501006, 10.113333431595441]}\n",
            "{'id': 1219, 'name': 'Schwentine Mensa', 'city': 'Kiel', 'address': 'Grenzstraße 14, 24149 Kiel', 'coordinates': [54.32977105, 10.181043219375]}\n",
            "{'id': 1758, 'name': 'Cafeteria & American Diner', 'city': 'Kiel', 'address': 'Sokratesplatz 6, 24149 Kiel', 'coordinates': [54.3323777, 10.1812416]}\n",
            "{'id': 1759, 'name': 'Mensa Gaarden', 'city': 'Kiel', 'address': 'Kaiserstraße 2, 24143 Kiel', 'coordinates': [54.3155954, 10.1521691]}\n",
            "{'id': 1760, 'name': 'Mensa Kesselhaus', 'city': 'Kiel', 'address': 'Legienstraße 35, 24103 Kiel', 'coordinates': [54.32782205, 10.129155763933195]}\n",
            "{'id': 1838, 'name': 'Cafeteria Dockside', 'city': 'Kiel', 'address': 'Kaiserstraße 2, 24143 Kiel', 'coordinates': [54.315327905718824, 10.153050492192994]}\n",
            "Canteens in Lübeck:\n",
            "{'id': 1240, 'name': 'Mensa Lübeck', 'city': 'Lübeck', 'address': 'Mönkhofer Weg 241, 23562 Lübeck', 'coordinates': [53.835208046607306, 10.7002917891715]}\n",
            "{'id': 1241, 'name': 'Cafeteria Musikhochschule', 'city': 'Lübeck', 'address': 'Große Petersgrube 17-19, 23552 Lübeck', 'coordinates': [53.8655806, 10.6832279]}\n",
            "Canteens in Flensburg:\n",
            "{'id': 1239, 'name': 'Mensa Flensburg', 'city': 'Flensburg', 'address': 'Thomas-Fincke-Straße 20, 24943 Flensburg', 'coordinates': [54.7753025418037, 9.45286096104567]}\n",
            "{'id': 1827, 'name': 'Grundschule Ramsharde', 'city': 'Flensburg', 'address': 'Am Katharinenhof 29, 24939 Flensburg, Germany', 'coordinates': [54.8028526, 9.41292539193524]}\n",
            "Canteens in Heide:\n",
            "{'id': 1220, 'name': 'Mensa Heide', 'city': 'Heide', 'address': 'Fritz-Thiedemann-Ring 20a, 25746 Heide', 'coordinates': [54.1942421, 9.121949576786967]}\n"
          ]
        }
      ]
    },
    {
      "cell_type": "markdown",
      "source": [
        "#### Forgotten Canteens"
      ],
      "metadata": {
        "id": "hWxpINPcoFy-"
      }
    },
    {
      "cell_type": "markdown",
      "source": [
        "Only imporant because we fetched the german IDs wrong before (forgot the cities with umlauts in them)"
      ],
      "metadata": {
        "id": "QcotkSqrog_S"
      }
    },
    {
      "cell_type": "code",
      "source": [
        "with open('canteens_updated.json', 'r', encoding='utf-8') as file:\n",
        "    canteens_updated_data = json.load(file)\n",
        "\n",
        "with open('german_canteens.json', 'r', encoding='utf-8') as file: # Load Old Set\n",
        "    german_canteens_data = json.load(file)\n",
        "\n",
        "updated_ids = {canteen['id'] for canteen in canteens_updated_data}\n",
        "german_canteens_ids = {canteen['id'] for canteen in german_canteens_data}\n",
        "\n",
        "forgotten_ids = updated_ids.symmetric_difference(german_canteens_ids)\n",
        "\n",
        "forgotten_canteens = [canteen for canteen in canteens_updated_data if canteen['id'] in forgotten_ids]\n",
        "with open('forgotten_canteens.json', 'w', encoding='utf-8') as file:\n",
        "    json.dump(forgotten_canteens, file, ensure_ascii=False, indent=4)"
      ],
      "metadata": {
        "id": "5YpVL8RroImv"
      },
      "execution_count": null,
      "outputs": []
    },
    {
      "cell_type": "code",
      "source": [
        "len(forgotten_canteens)"
      ],
      "metadata": {
        "id": "ZYMwHVjLoYt3"
      },
      "execution_count": null,
      "outputs": []
    }
  ]
}