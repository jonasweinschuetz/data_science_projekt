{
 "cells": [
  {
   "cell_type": "code",
   "execution_count": 1,
   "id": "d1068c42-e90c-4307-ab30-a364bd29b6d6",
   "metadata": {},
   "outputs": [],
   "source": [
    "import pandas as pd\n",
    "import json"
   ]
  },
  {
   "cell_type": "code",
   "execution_count": 4,
   "id": "b9f7cb57-e71b-4da9-8a97-c2b4fa9bb10a",
   "metadata": {},
   "outputs": [],
   "source": [
    "data2 = pd.read_json('./Data/further_updated_german_canteens.json',encoding='utf8')"
   ]
  },
  {
   "cell_type": "code",
   "execution_count": 5,
   "id": "384b3193-618a-4228-890b-3957bc6bc3ed",
   "metadata": {},
   "outputs": [],
   "source": [
    "file1 = open('./geo-data/deutschland.geo.json','r',encoding='utf8')\n",
    "german_states_geo = json.load(file1)\n",
    "german_states = data2\n",
    "for geo_state in german_states_geo['features']:\n",
    "    geo_state['id'] = german_states.loc[german_states['state']==geo_state['properties']['name'],['state-id']].iloc[0]['state-id']\n",
    "\n",
    "file2 = open('deutschland_updated.geo.json','w',encoding='utf8')\n",
    "json.dump(german_states_geo,file2,ensure_ascii=False)\n",
    "\n",
    "file1.close()\n",
    "file2.close()"
   ]
  },
  {
   "cell_type": "code",
   "execution_count": null,
   "id": "8b1fb140-ab27-4226-950b-e0611f3f713c",
   "metadata": {},
   "outputs": [],
   "source": []
  }
 ],
 "metadata": {
  "kernelspec": {
   "display_name": "Python 3 (ipykernel)",
   "language": "python",
   "name": "python3"
  },
  "language_info": {
   "codemirror_mode": {
    "name": "ipython",
    "version": 3
   },
   "file_extension": ".py",
   "mimetype": "text/x-python",
   "name": "python",
   "nbconvert_exporter": "python",
   "pygments_lexer": "ipython3",
   "version": "3.10.0"
  }
 },
 "nbformat": 4,
 "nbformat_minor": 5
}
